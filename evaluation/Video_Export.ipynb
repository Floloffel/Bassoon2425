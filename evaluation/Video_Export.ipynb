{
 "cells": [
  {
   "cell_type": "code",
   "execution_count": 1,
   "metadata": {},
   "outputs": [
    {
     "name": "stderr",
     "output_type": "stream",
     "text": [
      "f:\\TUB\\Semester_5\\array_projekt\\Bassoon2425\\.venv\\Lib\\site-packages\\numpy\\__config__.py:155: UserWarning: Install `pyyaml` for better output\n",
      "  warnings.warn(\"Install `pyyaml` for better output\", stacklevel=1)\n",
      "f:\\TUB\\Semester_5\\array_projekt\\Bassoon2425\\.venv\\Lib\\site-packages\\acoular\\__init__.py:10: UserWarning: We detected that Numpy is already loaded and uses OpenBLAS. Because this conflicts with Numba parallel execution, we disable parallel execution for now and processing might be slower. To speed up, either import Numpy after Acoular or set environment variable OPENBLAS_NUM_THREADS=1 before start of the program.\n",
      "  from .configuration import config\n"
     ]
    }
   ],
   "source": [
    "\n",
    "import json\n",
    "import os\n",
    "import matplotlib.pyplot as plt\n",
    "import numpy as np\n",
    "import acoular as ac\n",
    "import matplotlib.animation as anim\n"
   ]
  },
  {
   "cell_type": "code",
   "execution_count": 2,
   "metadata": {},
   "outputs": [
    {
     "name": "stdout",
     "output_type": "stream",
     "text": [
      "Output Folder: ./evaluation/out/\n"
     ]
    }
   ],
   "source": [
    "\n",
    "dataName = '2025-01-28_15-18-43_492418'\n",
    "\n",
    "resFolderName = 'out/beamforming_results_25_02_16/'+dataName\n",
    "\n",
    "cameraPosition = 1\n",
    "dotsize = 4\n",
    "currentFrequencyBand = 2\n",
    "currentFrame = 64\n",
    "\n",
    "bassoon_low_xyz = [0.97081132, 0.98296962, 0.41316809]\n",
    "bassoon_high_xyz = [0.53056959, 0.3204048, 1.48546785]\n",
    "\n",
    "camera_1_azimuth = -133.33136452241695\n",
    "camera_1_altitude = -27.020027669675454\n",
    "\n",
    "camera_2_azimuth = 164.2465834869733\n",
    "camera_2_altitude = 64.11592446841624\n",
    "\n",
    "\n",
    "# Open and read the JSON file\n",
    "with open(resFolderName + '/evaluation_config.json', 'r') as file:\n",
    "    config_data = json.load(file)\n",
    "\n",
    "# Access the output folder path\n",
    "out_folder = config_data['out_folder']\n",
    "print(f\"Output Folder: {out_folder}\")\n",
    "\n",
    "# read Data\n",
    "result = np.load(resFolderName+ '/result_'+dataName + \".npy\")\n",
    "map = result\n",
    "resolution = config_data['calc_grid_res_meters']\n",
    "frequencyBands = config_data['frequency_bands']\n",
    "frameRate = config_data['frame_rate_fps']"
   ]
  },
  {
   "cell_type": "code",
   "execution_count": 3,
   "metadata": {},
   "outputs": [
    {
     "data": {
      "image/png": "[encoded data removed]",
      "text/plain": [
       "<Figure size 1000x800 with 1 Axes>"
      ]
     },
     "metadata": {},
     "output_type": "display_data"
    }
   ],
   "source": [
    "fig = plt.figure(figsize = [10,8])\n",
    "ax = fig.add_subplot(projection='3d')\n",
    "\n",
    "maxValue = np.max(map[currentFrequencyBand])\n",
    "\n",
    "# ax.view_init(elev=30, \n",
    "#              azim=270, \n",
    "#              roll=0)\n",
    "ax.set_proj_type('persp', focal_length=0.547)\n",
    "\n",
    "x_m, y_m, z_m = np.meshgrid(np.linspace(0,map.shape[2]*resolution,map.shape[2]),\n",
    "                            np.linspace(0,map.shape[3]*resolution,map.shape[3]), \n",
    "                            np.linspace(0,map.shape[4]*resolution,map.shape[4]))\n",
    "\n",
    "scat = ax.scatter(x_m, y_m, z_m, c = map[currentFrequencyBand,currentFrame], s = map[currentFrequencyBand,currentFrame]*10**dotsize, cmap='RdPu', alpha= -map[currentFrequencyBand,currentFrame] / maxValue + 1)\n",
    "\n",
    "# bassoon:\n",
    "\n",
    "x_line = [bassoon_low_xyz[0], bassoon_high_xyz[0]]\n",
    "y_line = [bassoon_low_xyz[1], bassoon_high_xyz[1]]\n",
    "z_line = [bassoon_low_xyz[2], bassoon_high_xyz[2]]\n",
    "\n",
    "# Plot the line\n",
    "ax.plot(x_line, y_line, z_line, linewidth=1, color='brown', alpha=0.6)\n",
    "\n",
    "\n",
    "ax.set_xlabel('x')\n",
    "ax.set_ylabel('y')\n",
    "ax.set_zlabel('z')\n",
    "ax.set_xlim(0, map.shape[2]*resolution)\n",
    "ax.set_ylim(map.shape[3]*resolution, 0)\n",
    "ax.set_title('sound pressure distribution in ... \\n'+str(currentFrequencyBand)+' Hz octave Band')\n",
    "ax.set_aspect('equal')\n",
    "\n",
    "# Remove the grey background and tick lines\n",
    "ax.xaxis.pane.fill = False\n",
    "ax.yaxis.pane.fill = False\n",
    "ax.zaxis.pane.fill = False\n",
    "ax.grid(False)\n",
    "ax.set_xticks([])\n",
    "ax.set_yticks([])\n",
    "ax.set_zticks([])\n",
    "ax.set_axis_off()\n",
    "\n",
    "\n",
    "\n",
    "\n",
    "def update(frame):\n",
    "    color = map[currentFrequencyBand,frame,:,:,:]\n",
    "    size = map[currentFrequencyBand,frame,:,:,:]*10**dotsize\n",
    "    alpha = map[currentFrequencyBand,frame,:,:,:]\n",
    "    scat.set_alpha(alpha)\n",
    "    scat.set_color(color)\n",
    "    scat.set_sizes(size)\n",
    "\n",
    "    return (scat)\n",
    "\n",
    "\n",
    "ani = anim.FuncAnimation(fig=fig, func=update, frames=map.shape[1], interval=(1/25)*1000) # todo: framerate aus config\n",
    "plt.show()\n",
    "\n",
    "\n",
    "\n",
    "resFileName = 'out/video_data/'+dataName+'_camera_'+(str)(cameraPosition)+'.mp4'\n",
    "# ani.save(filename=resFileName, writer=\"ffmpeg\")"
   ]
  }
 ],
 "metadata": {
  "kernelspec": {
   "display_name": ".venv",
   "language": "python",
   "name": "python3"
  },
  "language_info": {
   "codemirror_mode": {
    "name": "ipython",
    "version": 3
   },
   "file_extension": ".py",
   "mimetype": "text/x-python",
   "name": "python",
   "nbconvert_exporter": "python",
   "pygments_lexer": "ipython3",
   "version": "3.12.1"
  }
 },
 "nbformat": 4,
 "nbformat_minor": 2
}
