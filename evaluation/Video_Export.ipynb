{
 "cells": [
  {
   "cell_type": "code",
   "execution_count": 5,
   "metadata": {},
   "outputs": [],
   "source": [
    "import json\n",
    "import os\n",
    "import matplotlib.pyplot as plt\n",
    "import numpy as np\n",
    "import acoular as ac\n",
    "import matplotlib.animation as anim\n"
   ]
  },
  {
   "cell_type": "code",
   "execution_count": 6,
   "metadata": {},
   "outputs": [
    {
     "name": "stdout",
     "output_type": "stream",
     "text": [
      "Output Folder: ./evaluation/out/\n"
     ]
    }
   ],
   "source": [
    "\n",
    "dataName = '2025-01-28_15-18-43_492418'\n",
    "\n",
    "resFolderName = 'out/beamforming_results_25_02_16/'+dataName\n",
    "\n",
    "cameraPosition = 1\n",
    "dotsize = 4\n",
    "currentFrequencyBand = 1\n",
    "currentFrame = 60\n",
    "\n",
    "cameraAngles = np.array([[-133.33136452241695,-27.020027669675454],[164.2465834869733,64.11592446841624]]) # dim[0] = cam1/2; dim[1] = azimuth/elevation\n",
    "bassoon_low_xyz = [0.97081132, 0.98296962, 0.41316809]\n",
    "bassoon_high_xyz = [0.53056959, 0.3204048, 1.48546785]\n",
    "\n",
    "\n",
    "# Open and read the JSON file\n",
    "with open(resFolderName + '/evaluation_config.json', 'r') as file:\n",
    "    config_data = json.load(file)\n",
    "\n",
    "# Access the output folder path\n",
    "out_folder = config_data['out_folder']\n",
    "print(f\"Output Folder: {out_folder}\")\n",
    "\n",
    "# read Data\n",
    "result = np.load(resFolderName+ '/result_'+dataName + \".npy\")\n",
    "map = result\n",
    "maxValue = np.max(map[currentFrequencyBand])\n",
    "resolution = config_data['calc_grid_res_meters']\n",
    "frequencyBands = config_data['frequency_bands']\n",
    "frameRate = config_data['frame_rate_fps']"
   ]
  },
  {
   "cell_type": "code",
   "execution_count": null,
   "metadata": {},
   "outputs": [
    {
     "data": {
      "image/png": "[encoded data removed]",
      "text/plain": [
       "<Figure size 1000x800 with 1 Axes>"
      ]
     },
     "metadata": {},
     "output_type": "display_data"
    },
    {
     "name": "stderr",
     "output_type": "stream",
     "text": [
      "MovieWriter ffmpeg unavailable; using Pillow instead.\n"
     ]
    }
   ],
   "source": [
    "fig = plt.figure(figsize = [10,8])\n",
    "ax = fig.add_subplot(projection='3d')\n",
    "\n",
    "# ax.view_init(elev=10, \n",
    "#              azim=270, \n",
    "#              roll=0)\n",
    "ax.view_init(elev=cameraAngles[0,cameraPosition-1], \n",
    "             azim=cameraAngles[1,cameraPosition-1], \n",
    "             roll=0)\n",
    "ax.set_proj_type('persp', focal_length=0.547)\n",
    "\n",
    "x_m, y_m, z_m = np.meshgrid(np.linspace(0,map.shape[2]*resolution,map.shape[2]),\n",
    "                            np.linspace(0,map.shape[3]*resolution,map.shape[3]), \n",
    "                            np.linspace(0,map.shape[4]*resolution,map.shape[4]))\n",
    "\n",
    "\n",
    "# bassoon:\n",
    "x_line = [bassoon_low_xyz[0], bassoon_high_xyz[0]]\n",
    "y_line = [bassoon_low_xyz[1], bassoon_high_xyz[1]]\n",
    "z_line = [bassoon_low_xyz[2], bassoon_high_xyz[2]]\n",
    "ax.plot(x_line, y_line, z_line, linewidth=1, color='brown', alpha=0.6)\n",
    "\n",
    "# scat = ax.scatter(x_m, y_m, z_m, c = map[1,1], s = map[1,1]*10**dotsize, alpha = 0.8, cmap = 'RdPu')\n",
    "# # -map[1,1]\n",
    "# ax.set_xlabel('x')\n",
    "# ax.set_ylabel('y')\n",
    "# ax.set_zlabel('z')\n",
    "# ax.set_xlim(0, map.shape[2]*resolution)\n",
    "# ax.set_ylim(map.shape[3]*resolution, 0)\n",
    "# ax.set_zlim(0,map.shape[4]*resolution)\n",
    "# ax.set_title('sound pressure distribution \\n in '+str(currentFrequencyBand)+' Hz octave Band')\n",
    "# ax.set_aspect('equal')\n",
    "\n",
    "\n",
    "scat = ax.scatter(x_m, y_m, z_m,\n",
    "                   c = map[currentFrequencyBand,currentFrame],\n",
    "                     s = map[currentFrequencyBand,currentFrame]*10**dotsize,\n",
    "                       cmap='RdPu',\n",
    "                         alpha= -map[currentFrequencyBand,currentFrame] / maxValue + 1)\n",
    "ax.set_xlabel('x')\n",
    "ax.set_ylabel('y')\n",
    "ax.set_zlabel('z')\n",
    "ax.set_xlim(0, map.shape[2]*resolution)\n",
    "ax.set_ylim(map.shape[3]*resolution, 0)\n",
    "ax.set_title('sound pressure distribution in ... \\n'+str(frequencyBands[currentFrequencyBand])+' Hz octave Band')\n",
    "ax.set_aspect('equal')\n",
    "\n",
    "# Remove the grey background and tick lines\n",
    "ax.xaxis.pane.fill = True\n",
    "ax.yaxis.pane.fill = True\n",
    "ax.zaxis.pane.fill = True\n",
    "ax.xaxis.pane.set_facecolor('white')\n",
    "ax.yaxis.pane.set_facecolor('white')\n",
    "ax.zaxis.pane.set_facecolor('white')\n",
    "ax.grid(False)\n",
    "ax.set_xticks([])\n",
    "ax.set_yticks([])\n",
    "ax.set_zticks([])\n",
    "ax.set_axis_off()\n",
    "\n",
    "\n",
    "\n",
    "\n",
    "def update(frame):\n",
    "    size = map[currentFrequencyBand, frame, :, :, :].flatten() * 10**dotsize\n",
    "    scat.set_sizes(size)\n",
    "\n",
    "    alpha= -map[currentFrequencyBand,currentFrame] / maxValue + 1\n",
    "    \n",
    "    # Reshape the color array to (N,) where N is the number of points\n",
    "    color = map[currentFrequencyBand, frame, :, :, :].flatten()\n",
    "    \n",
    "    # Normalize color values to be between 0 and 1\n",
    "    color = (color - np.min(color)) / (np.max(color) - np.min(color) + 1e-6)\n",
    "    \n",
    "    # Apply colormap\n",
    "    cmap = plt.get_cmap('RdPu')\n",
    "    color_rgba = cmap(color)\n",
    "    \n",
    "    scat.set_color(color_rgba)\n",
    "    \n",
    "    return scat,\n",
    "\n",
    "ani = anim.FuncAnimation(fig=fig, func=update, frames=map.shape[1], interval=(1/25)*1000) # todo get framerate from config file\n",
    "plt.show()\n",
    "\n",
    "resFileName = 'out/video_data/' + dataName + '_camera_' + str(cameraPosition)\n",
    "ani.save(filename=resFileName)\n"
   ]
  }
 ],
 "metadata": {
  "kernelspec": {
   "display_name": ".venv",
   "language": "python",
   "name": "python3"
  },
  "language_info": {
   "codemirror_mode": {
    "name": "ipython",
    "version": 3
   },
   "file_extension": ".py",
   "mimetype": "text/x-python",
   "name": "python",
   "nbconvert_exporter": "python",
   "pygments_lexer": "ipython3",
   "version": "3.12.1"
  }
 },
 "nbformat": 4,
 "nbformat_minor": 2
}
