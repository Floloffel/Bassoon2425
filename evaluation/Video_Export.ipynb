{
 "cells": [
  {
   "cell_type": "code",
   "execution_count": 62,
   "metadata": {},
   "outputs": [],
   "source": [
    "import acoular as ac\n",
    "import json\n",
    "import os\n",
    "import matplotlib.pyplot as plt\n",
    "import numpy as np\n",
    "import matplotlib.animation as anim\n",
    "#conda install -c conda-forge ffmpeg   \n"
   ]
  },
  {
   "cell_type": "code",
   "execution_count": 63,
   "metadata": {},
   "outputs": [
    {
     "name": "stdout",
     "output_type": "stream",
     "text": [
      "Output Folder: ./evaluation/out/\n",
      "87.0281329700549\n",
      "-350.0\n",
      "(5, 772, 25, 25, 36)\n"
     ]
    }
   ],
   "source": [
    "\n",
    "dataName = '2025-01-28_15-01-02_954236'\n",
    "\n",
    "resFolderName = 'out/beamforming_results_25_02_16/'+dataName\n",
    "\n",
    "cameraPosition = 2\n",
    "\n",
    "currentFrequencyBand = 3\n",
    "currentFrame = 60\n",
    "\n",
    "# Camera Angles\n",
    "azimuth =  np.array([-133.33136452241695,164.2465834869733])\n",
    "elevation = np.array([-27.020027669675454,64.11592446841624])\n",
    "\n",
    "# cameraAngles = np.array([[-133.33136452241695,-27.020027669675454],[164.2465834869733,64.11592446841624]]) # \n",
    "bassoon_low_xyz = [0.97081132, 0.98296962, 0.41316809]\n",
    "bassoon_high_xyz = [0.53056959, 0.3204048, 1.48546785]\n",
    "\n",
    "\n",
    "# Open and read the JSON file\n",
    "with open(resFolderName + '/evaluation_config.json', 'r') as file:\n",
    "    config_data = json.load(file)\n",
    "\n",
    "# Access the output folder path\n",
    "out_folder = config_data['out_folder']\n",
    "print(f\"Output Folder: {out_folder}\")\n",
    "\n",
    "# read Data\n",
    "result = np.load(resFolderName+ '/result_'+dataName + \".npy\")\n",
    "map = ac.fbeamform.L_p(result) # p0 = 4 * 10**-4\n",
    "\n",
    "maxValue = np.max(map)\n",
    "minValue = np.min(map[currentFrequencyBand])\n",
    "mapNormalized = (map - minValue) / (maxValue - minValue)\n",
    "resolution = config_data['calc_grid_res_meters']\n",
    "frequencyBands = config_data['frequency_bands']\n",
    "frameRate = config_data['frame_rate_fps']\n",
    "\n",
    "print(maxValue)\n",
    "print(minValue)\n",
    "print(map.shape)"
   ]
  },
  {
   "cell_type": "code",
   "execution_count": 64,
   "metadata": {},
   "outputs": [
    {
     "name": "stdout",
     "output_type": "stream",
     "text": [
      "10\n",
      "6\n"
     ]
    }
   ],
   "source": [
    "map_flat = map[currentFrequencyBand, currentFrame].flatten()\n",
    "\n",
    "# get indices of 50 highest values\n",
    "number_of_points_per_frame = 10\n",
    "top_indices = np.argpartition(map_flat, -number_of_points_per_frame)[-number_of_points_per_frame:]\n",
    "\n",
    "\n",
    "\n",
    "x_m, y_m, z_m = np.meshgrid(np.linspace(0,map.shape[2]*resolution,map.shape[2]),\n",
    "                            np.linspace(0,map.shape[3]*resolution,map.shape[3]), \n",
    "                            np.linspace(0,map.shape[4]*resolution,map.shape[4]))\n",
    "\n",
    "x_m_flat = x_m.flatten()[top_indices]\n",
    "y_m_flat = y_m.flatten()[top_indices]\n",
    "z_m_flat = z_m.flatten()[top_indices]\n",
    "top_values = map_flat[top_indices]\n",
    "\n",
    "\n",
    "# Set a threshold\n",
    "noise_floor_dB = 40  \n",
    "\n",
    "# Filter the points above the threshold\n",
    "above_threshold = top_values > noise_floor_dB\n",
    "x_m_thresh = x_m_flat[above_threshold]\n",
    "y_m_thresh = y_m_flat[above_threshold]\n",
    "z_m_thresh = z_m_flat[above_threshold]\n",
    "top_values_thresh = top_values[above_threshold]\n",
    "\n",
    "print(len(top_values))\n",
    "print(len(top_values_thresh))"
   ]
  },
  {
   "cell_type": "code",
   "execution_count": 71,
   "metadata": {},
   "outputs": [
    {
     "name": "stdout",
     "output_type": "stream",
     "text": [
      "1692.1843910440552\n"
     ]
    },
    {
     "data": {
      "image/png": "[encoded data removed]",
      "text/plain": [
       "<Figure size 1000x800 with 1 Axes>"
      ]
     },
     "metadata": {},
     "output_type": "display_data"
    }
   ],
   "source": [
    "dotsize = 10**-6\n",
    "size = (top_values_thresh)**5 * dotsize\n",
    "\n",
    "print(np.max(size))\n",
    "\n",
    "\n",
    "fig = plt.figure(figsize = [10,8])\n",
    "ax = fig.add_subplot(projection='3d')\n",
    "ax.set_proj_type('persp', focal_length=0.1)#0.547)\n",
    "\n",
    "ax.view_init(elev=elevation[cameraPosition-1]-10, \n",
    "             azim=azimuth[cameraPosition-1]+15, \n",
    "             roll=0)\n",
    "\n",
    "# bassoon:\n",
    "x_line = [bassoon_low_xyz[0], bassoon_high_xyz[0]]\n",
    "y_line = [bassoon_low_xyz[1], bassoon_high_xyz[1]]\n",
    "z_line = [bassoon_low_xyz[2], bassoon_high_xyz[2]]\n",
    "ax.plot(x_line, y_line, z_line, linewidth=3, color='brown')\n",
    "\n",
    "\n",
    "\n",
    "scat = ax.scatter(x_m_thresh, y_m_thresh, z_m_thresh,\n",
    "                  c=top_values_thresh,\n",
    "                  cmap=\"grey_r\",\n",
    "                  alpha=0.8,\n",
    "                  s=size)\n",
    "\n",
    "#plt.colorbar(ax)\n",
    "ax.set_title('sound pressure distribution in \\n '+str(frequencyBands[currentFrequencyBand])+' Hz octave Band')\n",
    "\n",
    "ax.set_xlabel('x')\n",
    "ax.set_ylabel('y')\n",
    "ax.set_zlabel('z')\n",
    "\n",
    "#ax.set_xlim(map.shape[2]*resolution, 0)\n",
    "#ax.set_ylim(0, map.shape[3]*resolution)\n",
    "#ax.set_zlim(0, map.shape[4]*resolution)\n",
    "\n",
    "ax.set_xlim(1.4, 0.2)\n",
    "ax.set_ylim(0, 1.4)\n",
    "ax.set_zlim(0, 2)\n",
    "\n",
    "ax.set_aspect('equal')\n",
    "\n",
    "# Set the elevation and azimuth angles\n",
    "#ax.view_init(elev=90, azim=0)  # Elevation of 30 degrees and azimuth of 45 degrees\n",
    "#\n",
    "## Remove the grey background and tick lines\n",
    "#ax.xaxis.pane.fill = True\n",
    "#ax.yaxis.pane.fill = True\n",
    "#ax.zaxis.pane.fill = True\n",
    "#ax.xaxis.pane.set_facecolor('green')\n",
    "#ax.yaxis.pane.set_facecolor('green')\n",
    "#ax.zaxis.pane.set_facecolor('green')\n",
    "#ax.grid(False)\n",
    "#ax.set_xticks([])\n",
    "#ax.set_yticks([])\n",
    "#ax.set_zticks([])\n",
    "ax.set_axis_off()\n",
    "\n",
    "\n",
    "# update function also works with global variables\n",
    "def update(frame):\n",
    "    \n",
    "    # Extract values for this specific frame\n",
    "    values = map[currentFrequencyBand, frame, :, :, :].flatten()\n",
    "    \n",
    "    # Apply a threshold to filter the data\n",
    "    mask = values > noise_floor_dB  # Define a threshold for visibility\n",
    "    filtered_values = values[mask]\n",
    "    \n",
    "    # Get the coordinates for these filtered values\n",
    "    x_filtered = x_m.flatten()[mask]\n",
    "    y_filtered = y_m.flatten()[mask]\n",
    "    z_filtered = z_m.flatten()[mask]\n",
    "    \n",
    "    # Update color, size, alpha\n",
    "    color = filtered_values  # Can apply normalization or scaling\n",
    "    size = (filtered_values ** 5) * dotsize  # Adjust size based on values\n",
    "        \n",
    "    # Update the scatter plot with new values\n",
    "    scat._offsets3d = (x_filtered, y_filtered, z_filtered)  # Update the 3D coordinates\n",
    "    scat.set_array(color)  # Update color\n",
    "    scat.set_sizes(size)  # Update size\n",
    "    \n",
    "    return scat,\n",
    "\n",
    "ani = anim.FuncAnimation(fig=fig, func=update, frames=map.shape[1], interval=(1/25)*1000) # todo get framerate from config file\n",
    "\n",
    "plt.show()\n",
    "\n",
    "os.makedirs('out/video_data/', exist_ok=True)\n",
    "resFileName = 'out/video_data/'+dataName+'_camera_'+str(cameraPosition)+'.mp4'\n",
    "ani.save(filename=resFileName, writer=\"ffmpeg\")"
   ]
  }
 ],
 "metadata": {
  "kernelspec": {
   "display_name": "map2425",
   "language": "python",
   "name": "python3"
  },
  "language_info": {
   "codemirror_mode": {
    "name": "ipython",
    "version": 3
   },
   "file_extension": ".py",
   "mimetype": "text/x-python",
   "name": "python",
   "nbconvert_exporter": "python",
   "pygments_lexer": "ipython3",
   "version": "3.12.9"
  }
 },
 "nbformat": 4,
 "nbformat_minor": 2
}
