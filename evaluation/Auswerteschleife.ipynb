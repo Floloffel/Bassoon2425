{
 "cells": [
  {
   "cell_type": "code",
   "execution_count": null,
   "metadata": {},
   "outputs": [
    {
     "name": "stdout",
     "output_type": "stream",
     "text": [
      "init time: 0.03000164031982422 s\n",
      "Frame length: 8.0 s(Frame 0)\n",
      "Frequency Band: 0 (1000 Hz)\n"
     ]
    }
   ],
   "source": [
    "# Import libraries\n",
    "from pathlib import Path\n",
    "import acoular as ac\n",
    "import numpy as np\n",
    "import time\n",
    "initialTime = time.time()\n",
    "\n",
    "#---------------------------------------------------------------------------------------------------------------\n",
    "# initial definitions\n",
    "# define microphone geometry\n",
    "micgeofile = Path().resolve() / \"in/array_position_data/bassoon_cage_64_optimized.xml\"\n",
    "\n",
    "# define calculation grid\n",
    "resolution = 0.05#0.02\n",
    "\n",
    "# define audio data\n",
    "name = 'in/array_audio_data/2025-01-28_15-59-01_400437.h5'\n",
    "\n",
    "# define time related variables\n",
    "start = 25#83#26        # in s\n",
    "stop = 35#35#92#36\n",
    "framerate = 0.125           # in f/s\n",
    "\n",
    "# define freqency resolution\n",
    "bandwith = 3            # Octave = 1; 1/3 Octave = 3\n",
    "frequency_bands = [1000,2000] # Array with mid frequencies of frequency bands\n",
    "\n",
    "#---------------------------------------------------------------------------------------------------------------\n",
    "# calculation of fixed values\n",
    "data = ac.MaskedTimeSamples(name = name)\n",
    "m = ac.MicGeom(from_file=micgeofile)\n",
    "g = ac.RectGrid3D(x_min=0.35, x_max=1.15, y_min=0.15, y_max=1.15, z_min=0.25, z_max=1.65, increment=resolution)\n",
    "st = ac.SteeringVector(grid=g, mics=m, steer_type='true location')\n",
    "frameLength = 1/framerate\n",
    "\n",
    "print('init time: ' + str(time.time()-initialTime) + ' s')\n",
    "\n",
    "# begin evaluation loop\n",
    "# result = np.zeros()\n",
    "calcTime = 0\n",
    "for i, currentFreqBand in enumerate(frequency_bands):\n",
    "\n",
    "    frame = 0\n",
    "    for frame in range(0,int((stop-start)*framerate)):\n",
    "        calcTime = time.time()\n",
    "\n",
    "        print('Frame length: ' + str((start+(frameLength*(frame+1)))-(start+(frameLength*frame))) + ' s' + '(Frame ' + str(frame)+')')\n",
    "        print('Frequency Band: ' + str(i) + ' (' + str(currentFreqBand) + ' Hz)')\n",
    "\n",
    "        data = ac.MaskedTimeSamples(name = name, start = (start+(frameLength*frame))*data.sample_freq, stop = (start+(frameLength*(frame+1)))*data.sample_freq)\n",
    "\n",
    "        f = ac.PowerSpectra(source=data, window='Hanning', overlap='50%', block_size=512)#256)#128)\n",
    "        b = ac.BeamformerCleansc(freq_data=f, steer=st)\n",
    "\n",
    "        result[frame] = b.synthetic(1000, 3)\n",
    "\n",
    "        print('Frame ' + str(frame) + ' calculated. Calculation time:' + str(time.time()-calcTime))\n",
    "        frame = frame + 1\n",
    "    i = i+1\n",
    "\n",
    "# result_Lp = ac.L_p(result)\n"
   ]
  }
 ],
 "metadata": {
  "kernelspec": {
   "display_name": "eds",
   "language": "python",
   "name": "python3"
  },
  "language_info": {
   "codemirror_mode": {
    "name": "ipython",
    "version": 3
   },
   "file_extension": ".py",
   "mimetype": "text/x-python",
   "name": "python",
   "nbconvert_exporter": "python",
   "pygments_lexer": "ipython3",
   "version": "3.11.5"
  }
 },
 "nbformat": 4,
 "nbformat_minor": 2
}
