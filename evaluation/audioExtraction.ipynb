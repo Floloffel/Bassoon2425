{
 "cells": [
  {
   "cell_type": "code",
   "execution_count": 1,
   "metadata": {},
   "outputs": [],
   "source": [
    "from pathlib import Path\n",
    "import acoular as ac\n",
    "import numpy as np\n",
    "\n",
    "\n",
    "name =  [   #['2025-01-28_14-18-42_192339',0,42,77],        #Klappe vergessen + Töne abgeschnitten\n",
    "            #['2025-01-28_14-46-10_658617',40.757,51.7,102],\n",
    "            #['2025-01-28_14-49-22_442633',26.136,37.666,76],\n",
    "            #['2025-01-28_14-52-30_189465',24.993,45.4,96],\n",
    "            #['2025-01-28_14-57-26_453699',22.385,33.66,84.1],\n",
    "            #['2025-01-28_15-01-02_954236',16.408,30.6,61.5],      # Sprung in der Aufnahme...\n",
    "            #['2025-01-28_15-11-46_550615',20.442,32.6,115.8],\n",
    "            ['2025-01-28_15-18-43_492418',16.759,29.8,96.25],\n",
    "            #['2025-01-28_15-26-45_296613',16.535,29.2,127.38],\n",
    "            #['2025-01-28_15-36-18_896862',16.868,30.396,114.42],\n",
    "            #['2025-01-28_15-59-01_400437',13.07,26.135,93.8],\n",
    "            #['2024-08-08_16-59-56_816742',0,0,20],         #Rauschen\n",
    "            #['2025-01-28_14-42-42_484488',0,0,10],         #leere\n",
    "            #['2025-01-28_15-38-32_401016',0,0,6.24],       #joa\n",
    "            #['2025-01-28_12-12-40_427138',0,0,5],          #test\n",
    "            #['2025-01-28_12-23-47_690315',0,0,39.7],       #test\n",
    "            ['2024-08-08_16-59-56_816742',0,0,20]       #reference \n",
    "              ]\n",
    "\n",
    "np.save('audioFileStats_re_ref',name)\n",
    "\n",
    "# for i in range(0,len(name)):\n",
    "#     data = ac.MaskedTimeSamples(name = 'in/array_audio_data/'+name[i]+'.h5')\n",
    "\n",
    "#     # Load whole measurement \n",
    "\n",
    "#     # print(f'number of valid channels: {data.numchannels}') \n",
    "#     # print('length of measurement: ' + str(data.numsamples/data.sample_freq) + ' s (' + str(data.numsamples) + ' samples)')\n",
    "\n",
    "#     # # Load partial measurement\n",
    "#     # start = 5#25#83#26        # in s\n",
    "#     # stop = 9#36#92#36\n",
    "#     # data = ac.MaskedTimeSamples(name = name, start = start*data.sample_freq, stop = stop*data.sample_freq)\n",
    "\n",
    "#     # print('length of cropped measurement: ' + str(data.numsamples/data.sample_freq) + ' s (' + str(data.numsamples) + ' samples)')\n",
    "\n",
    "#     # create WAV file from mic 1\n",
    "#     appendedName = str('out/audio/'+name[i] + '_mic1.wav')\n",
    "#     ac.tprocess.WriteWAV(source=data, name= appendedName, channels = [0]).save()\n"
   ]
  }
 ],
 "metadata": {
  "kernelspec": {
   "display_name": "map2425",
   "language": "python",
   "name": "python3"
  },
  "language_info": {
   "codemirror_mode": {
    "name": "ipython",
    "version": 3
   },
   "file_extension": ".py",
   "mimetype": "text/x-python",
   "name": "python",
   "nbconvert_exporter": "python",
   "pygments_lexer": "ipython3",
   "version": "3.12.9"
  }
 },
 "nbformat": 4,
 "nbformat_minor": 2
}
