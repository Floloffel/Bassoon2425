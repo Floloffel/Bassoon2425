{
 "cells": [
  {
   "cell_type": "code",
   "execution_count": null,
   "metadata": {},
   "outputs": [
    {
     "ename": "IndexError",
     "evalue": "list index out of range",
     "output_type": "error",
     "traceback": [
      "\u001b[1;31m---------------------------------------------------------------------------\u001b[0m",
      "\u001b[1;31mIndexError\u001b[0m                                Traceback (most recent call last)",
      "Cell \u001b[1;32mIn[12], line 26\u001b[0m\n\u001b[0;32m      6\u001b[0m name \u001b[38;5;241m=\u001b[39m  [   [\u001b[38;5;124m'\u001b[39m\u001b[38;5;124m2025-01-28_14-18-42_192339\u001b[39m\u001b[38;5;124m'\u001b[39m,\u001b[38;5;241m0\u001b[39m,\u001b[38;5;241m42\u001b[39m,\u001b[38;5;241m77\u001b[39m],        \u001b[38;5;66;03m#Klappe vergessen + Töne abgeschnitten\u001b[39;00m\n\u001b[0;32m      7\u001b[0m             [\u001b[38;5;124m'\u001b[39m\u001b[38;5;124m2025-01-28_14-46-10_658617\u001b[39m\u001b[38;5;124m'\u001b[39m,\u001b[38;5;241m40.757\u001b[39m,\u001b[38;5;241m51.7\u001b[39m,\u001b[38;5;241m102\u001b[39m],\n\u001b[0;32m      8\u001b[0m             [\u001b[38;5;124m'\u001b[39m\u001b[38;5;124m2025-01-28_14-49-22_442633\u001b[39m\u001b[38;5;124m'\u001b[39m,\u001b[38;5;241m26.136\u001b[39m,\u001b[38;5;241m37.666\u001b[39m,\u001b[38;5;241m76\u001b[39m],\n\u001b[1;32m   (...)\u001b[0m\n\u001b[0;32m     20\u001b[0m             [\u001b[38;5;124m'\u001b[39m\u001b[38;5;124m2025-01-28_12-12-40_427138\u001b[39m\u001b[38;5;124m'\u001b[39m,\u001b[38;5;241m0\u001b[39m,\u001b[38;5;241m0\u001b[39m,\u001b[38;5;241m5\u001b[39m],          \u001b[38;5;66;03m#test\u001b[39;00m\n\u001b[0;32m     21\u001b[0m             [\u001b[38;5;124m'\u001b[39m\u001b[38;5;124m2025-01-28_12-23-47_690315\u001b[39m\u001b[38;5;124m'\u001b[39m,\u001b[38;5;241m0\u001b[39m,\u001b[38;5;241m0\u001b[39m,\u001b[38;5;241m39.7\u001b[39m]]       \u001b[38;5;66;03m#test\u001b[39;00m\n\u001b[0;32m     23\u001b[0m np\u001b[38;5;241m.\u001b[39msave(\u001b[38;5;124m'\u001b[39m\u001b[38;5;124maudioFileStats\u001b[39m\u001b[38;5;124m'\u001b[39m,name)\n\u001b[1;32m---> 26\u001b[0m a \u001b[38;5;241m=\u001b[39m \u001b[43mname\u001b[49m\u001b[43m[\u001b[49m\u001b[38;5;241;43m2\u001b[39;49m\u001b[43m]\u001b[49m\u001b[43m[\u001b[49m\u001b[38;5;241;43m4\u001b[39;49m\u001b[43m]\u001b[49m\n\u001b[0;32m     28\u001b[0m \u001b[38;5;66;03m# for i in range(0,len(name)):\u001b[39;00m\n\u001b[0;32m     29\u001b[0m \u001b[38;5;66;03m#     data = ac.MaskedTimeSamples(name = 'in/array_audio_data/'+name[i]+'.h5')\u001b[39;00m\n\u001b[0;32m     30\u001b[0m \n\u001b[1;32m   (...)\u001b[0m\n\u001b[0;32m     44\u001b[0m \u001b[38;5;66;03m#     appendedName = str('out/audio/'+name[i] + '_mic1.wav')\u001b[39;00m\n\u001b[0;32m     45\u001b[0m \u001b[38;5;66;03m#     ac.tprocess.WriteWAV(source=data, name= appendedName, channels = [0]).save()\u001b[39;00m\n",
      "\u001b[1;31mIndexError\u001b[0m: list index out of range"
     ]
    }
   ],
   "source": [
    "from pathlib import Path\n",
    "import acoular as ac\n",
    "import numpy as np\n",
    "\n",
    "\n",
    "name =  [   ['2025-01-28_14-18-42_192339',0,42,77],        #Klappe vergessen + Töne abgeschnitten\n",
    "            ['2025-01-28_14-46-10_658617',40.757,51.7,102],\n",
    "            ['2025-01-28_14-49-22_442633',26.136,37.666,76],\n",
    "            ['2025-01-28_14-52-30_189465',24.993,45.4,96],\n",
    "            ['2025-01-28_14-57-26_453699',22.385,33.66,84.1],\n",
    "            ['2025-01-28_15-01-02_954236',16.408,30.6,61.5],      # Sprung in der Aufnahme...\n",
    "            ['2025-01-28_15-11-46_550615',20.442,32.6,115.8],\n",
    "            ['2025-01-28_15-18-43_492418',16.759,29.8,36.25],\n",
    "            ['2025-01-28_15-26-45_296613',16.535,29.2,127.38],\n",
    "            ['2025-01-28_15-36-18_896862',16.868,30.396,114.42],\n",
    "            ['2025-01-28_15-59-01_400437',13.07,26.135,93.8],\n",
    "            ['2024-08-08_16-59-56_816742',0,0,20],         #Rauschen\n",
    "            ['2025-01-28_14-42-42_484488',0,0,10],         #leere\n",
    "            ['2025-01-28_15-38-32_401016',0,0,6.24],       #joa\n",
    "            ['2025-01-28_12-12-40_427138',0,0,5],          #test\n",
    "            ['2025-01-28_12-23-47_690315',0,0,39.7]]       #test\n",
    "\n",
    "np.save('audioFileStats',name)\n",
    "\n",
    "# for i in range(0,len(name)):\n",
    "#     data = ac.MaskedTimeSamples(name = 'in/array_audio_data/'+name[i]+'.h5')\n",
    "\n",
    "#     # Load whole measurement \n",
    "\n",
    "#     # print(f'number of valid channels: {data.numchannels}') \n",
    "#     # print('length of measurement: ' + str(data.numsamples/data.sample_freq) + ' s (' + str(data.numsamples) + ' samples)')\n",
    "\n",
    "#     # # Load partial measurement\n",
    "#     # start = 5#25#83#26        # in s\n",
    "#     # stop = 9#36#92#36\n",
    "#     # data = ac.MaskedTimeSamples(name = name, start = start*data.sample_freq, stop = stop*data.sample_freq)\n",
    "\n",
    "#     # print('length of cropped measurement: ' + str(data.numsamples/data.sample_freq) + ' s (' + str(data.numsamples) + ' samples)')\n",
    "\n",
    "#     # create WAV file from mic 1\n",
    "#     appendedName = str('out/audio/'+name[i] + '_mic1.wav')\n",
    "#     ac.tprocess.WriteWAV(source=data, name= appendedName, channels = [0]).save()\n"
   ]
  }
 ],
 "metadata": {
  "kernelspec": {
   "display_name": "eds",
   "language": "python",
   "name": "python3"
  },
  "language_info": {
   "codemirror_mode": {
    "name": "ipython",
    "version": 3
   },
   "file_extension": ".py",
   "mimetype": "text/x-python",
   "name": "python",
   "nbconvert_exporter": "python",
   "pygments_lexer": "ipython3",
   "version": "3.11.5"
  }
 },
 "nbformat": 4,
 "nbformat_minor": 2
}
