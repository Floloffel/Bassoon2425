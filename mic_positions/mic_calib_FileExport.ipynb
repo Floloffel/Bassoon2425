{
 "cells": [
  {
   "cell_type": "code",
   "execution_count": 12,
   "metadata": {},
   "outputs": [],
   "source": [
    "import numpy as np\n",
    "import pandas as pd"
   ]
  },
  {
   "cell_type": "code",
   "execution_count": 13,
   "metadata": {},
   "outputs": [
    {
     "name": "stdout",
     "output_type": "stream",
     "text": [
      "\n",
      "Third Column Array (with suffix removed):\n",
      "[0.0180741  0.01819377 0.01877406 0.01800555 0.01572566 0.01931483\n",
      " 0.01702846 0.0186543  0.01703868 0.01674814 0.01794444 0.01681526\n",
      " 0.02050497 0.01842444 0.01890214 0.01731692 0.0179588  0.01467728\n",
      " 0.01945828 0.01683545 0.01710354 0.01889081 0.015795   0.01643954\n",
      " 0.01934963 0.01759267 0.01944661 0.01777302 0.01809942 0.01716865\n",
      " 0.01757158 0.01846871 0.01702846 0.0196224  0.01713778 0.01967348\n",
      " 0.01710696 0.01741416 0.01827034 0.01697745 0.01859099 0.01971286\n",
      " 0.01705913 0.01747346 0.01858727 0.01686578 0.01881917 0.01937673\n",
      " 0.01895514 0.01797318 0.01778013 0.01922235 0.01549776 0.01834356\n",
      " 0.0182813  0.01791934 0.01856498 0.01953626 0.01633467 0.01758916\n",
      " 0.01777302 0.01680854 0.01817559 0.01857612]\n"
     ]
    }
   ],
   "source": [
    "# Read the .csv file into a pandas DataFrame\n",
    "df = pd.read_csv('Bassoon_RAR.csv')\n",
    "\n",
    "data_array = df.to_numpy()\n",
    "\n",
    "micSensitivity = df.iloc[:, 2].str.replace(' V/Pa', '').astype(float).to_numpy()\n",
    "\n",
    "print(\"\\nThird Column Array (with suffix removed):\")\n",
    "print(micSensitivity)"
   ]
  },
  {
   "cell_type": "code",
   "execution_count": 14,
   "metadata": {},
   "outputs": [],
   "source": [
    "# save all side plane coords\n",
    "micSensitivity_correctionFactor = np.round(1/micSensitivity, 8)\n",
    "headerXML = '''<?xml version=\"1.0\" encoding=\"utf-8\"?>\n",
    "<Calib name=\"bassoon_calibData\">\n",
    "'''\n",
    "\n",
    "elements = \"\"\n",
    "i = 0\n",
    "for element in micSensitivity_correctionFactor:\n",
    "   elements = elements + '  <pos Name=\"Point %s\" factor=\"%s\"/>\\n'% (i,micSensitivity_correctionFactor[i])\n",
    "   i = i + 1\n",
    "\n",
    "footerXML = '''\n",
    "</Calib>\n",
    "'''\n",
    "\n",
    "XML = (headerXML+elements+footerXML)\n",
    "outFile = open(\"bassoon_calibData.xml\",\"w\")\n",
    "outFile.write(XML)\n",
    "outFile.close()"
   ]
  }
 ],
 "metadata": {
  "kernelspec": {
   "display_name": "eds",
   "language": "python",
   "name": "python3"
  },
  "language_info": {
   "codemirror_mode": {
    "name": "ipython",
    "version": 3
   },
   "file_extension": ".py",
   "mimetype": "text/x-python",
   "name": "python",
   "nbconvert_exporter": "python",
   "pygments_lexer": "ipython3",
   "version": "3.11.5"
  }
 },
 "nbformat": 4,
 "nbformat_minor": 2
}
