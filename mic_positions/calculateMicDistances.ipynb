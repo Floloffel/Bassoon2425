{
 "cells": [
  {
   "cell_type": "code",
   "execution_count": 4,
   "metadata": {},
   "outputs": [],
   "source": [
    "import pandas as pd\n",
    "import numpy as np\n"
   ]
  },
  {
   "cell_type": "code",
   "execution_count": 5,
   "metadata": {},
   "outputs": [],
   "source": [
    "def calculate_distance(df, name1, name2, x_col, y_col, z_col, print_values=True):\n",
    "    point1 = df[df[\"Mic_Index\"] == name1][[x_col, y_col, z_col]].iloc[0]\n",
    "    point2 = df[df[\"Mic_Index\"] == name2][[x_col, y_col, z_col]].iloc[0]\n",
    "    \n",
    "    # euklidische Distanz berechnen\n",
    "    dist = np.sqrt((point2[x_col] - point1[x_col])**2 + \n",
    "                   (point2[y_col] - point1[y_col])**2 + \n",
    "                   (point2[z_col] - point1[z_col])**2)\n",
    "    \n",
    "    if print_values == True:\n",
    "        print(name1)\n",
    "        print(x_col, \":\", round(point1[x_col], 3))\n",
    "        print(y_col, \":\", round(point1[y_col], 3))\n",
    "        print(z_col, \":\", round(point1[z_col], 3))\n",
    "        print(\"\")\n",
    "        print(name2)\n",
    "        print(x_col, \":\", round(point2[x_col], 3))\n",
    "        print(y_col, \":\", round(point2[y_col], 3))\n",
    "        print(z_col, \":\", round(point2[z_col], 3))\n",
    "\n",
    "        print(\"distance = \", round(dist, 3))\n",
    "\n",
    "\n",
    "    return dist"
   ]
  },
  {
   "cell_type": "code",
   "execution_count": 6,
   "metadata": {},
   "outputs": [],
   "source": [
    "\n",
    "file_path = r\"data\\side_postions_measured.xlsx\"\n",
    "df = pd.read_excel(file_path, engine='openpyxl')\n",
    "\n",
    "# cut empty rows\n",
    "df = df.head(64)"
   ]
  },
  {
   "cell_type": "code",
   "execution_count": 7,
   "metadata": {},
   "outputs": [
    {
     "name": "stdout",
     "output_type": "stream",
     "text": [
      "    Unnamed: 0 Mic_Index  Plane      X      Y      Z  X measured  Y measured\n",
      "0          0.0        B1  right  1.370  0.734  0.020       0.649       0.020\n",
      "1          1.0        B2  right  1.370  0.987  0.266       0.902       0.266\n",
      "2          2.0        B3  right  1.370  0.336  0.287       0.251       0.287\n",
      "3          3.0        B4  right  1.370  1.398  0.380       1.313       0.380\n",
      "4          4.0        B5  right  1.370  0.647  0.425       0.562       0.425\n",
      "..         ...       ...    ...    ...    ...    ...         ...         ...\n",
      "59        59.0        A9    top  1.405  0.521  1.871       0.065       0.778\n",
      "60        60.0       A10    top  0.680  0.393  1.871       0.790       0.906\n",
      "61        61.0       A11    top  0.985  0.155  1.871       0.485       1.144\n",
      "62        62.0       A12    top  0.332  0.129  1.871       1.138       1.170\n",
      "63        63.0       A13    top  1.272  0.117  1.871       0.198       1.182\n",
      "\n",
      "[64 rows x 8 columns]\n"
     ]
    }
   ],
   "source": [
    "df_3d = df.copy()\n",
    "\n",
    "\n",
    "# all distances in meteres\n",
    "# grid = innenseite vom gitter an den Seiten\n",
    "# frame = unterseite vom Aluprofil \n",
    "\n",
    "MicOffsetInside = 0.028 # wie weit die mics vom grid nach innen reichen\n",
    "MicOffsetInsideTop = 0.013 # wie weit die mics vom frame nach innen reichen\n",
    "\n",
    "side_grid_width = 1.378 #measured width of side grid\n",
    "top_grid_width_Y = 1.23 # measured width of top frame ( 2D-Y direction )\n",
    "top_grid_width_X = 1.46 # measured width of top frame ( 2D-X direction )\n",
    "\n",
    "TopFrameYOffset = 0.069 # Y distance between front plane and edge of top grid (Gitter zu Aluprofilkante)\n",
    "\n",
    "# X distance between edge of top frame and left / right grid\n",
    "XSideOffsetLeft = 0.01\n",
    "XSideOffsetRight = 0.01\n",
    "\n",
    "# Y  distance between front grid and edge of left/right grid\n",
    "YSideOffsetLeft = 0.088\n",
    "YSideOffsetRight = 0.085\n",
    "\n",
    "# distance between top frame and lower edge of side grids (Z = 0)\n",
    "TopOffset = 1.884\n",
    "\n",
    "x_2d = \"X measured\"\n",
    "y_2d = \"Y measured\"\n",
    "\n",
    "# translate 2d coordinates to 3d coordinates\n",
    "# for left plane\n",
    "df_3d.loc[df_3d[\"Plane\"] == \"left\", \"X\"] = 0 + MicOffsetInside\n",
    "df_3d.loc[df_3d[\"Plane\"] == \"left\", \"Y\"] = -df[x_2d] + side_grid_width + YSideOffsetLeft\n",
    "df_3d.loc[df_3d[\"Plane\"] == \"left\", \"Z\"] = df[y_2d]\n",
    "\n",
    "# for front plane\n",
    "df_3d.loc[df_3d[\"Plane\"] == \"front\", \"X\"] = df[x_2d] + XSideOffsetLeft\n",
    "df_3d.loc[df_3d[\"Plane\"] == \"front\", \"Y\"] = 0 + MicOffsetInside\n",
    "df_3d.loc[df_3d[\"Plane\"] == \"front\", \"Z\"] = df[y_2d]\n",
    "\n",
    "# for right plane\n",
    "df_3d.loc[df_3d[\"Plane\"] == \"right\", \"X\"] = side_grid_width + XSideOffsetLeft + XSideOffsetRight - MicOffsetInside\n",
    "df_3d.loc[df_3d[\"Plane\"] == \"right\", \"Y\"] = df[x_2d]  + YSideOffsetRight\n",
    "df_3d.loc[df_3d[\"Plane\"] == \"right\", \"Z\"] = df[y_2d]\n",
    "\n",
    "# for top plane\n",
    "df_3d.loc[df_3d[\"Plane\"] == \"top\", \"X\"] = -df[x_2d] + top_grid_width_X + XSideOffsetLeft\n",
    "df_3d.loc[df_3d[\"Plane\"] == \"top\", \"Y\"] = -df[y_2d] + top_grid_width_Y + TopFrameYOffset\n",
    "df_3d.loc[df_3d[\"Plane\"] == \"top\", \"Z\"] = TopOffset - MicOffsetInsideTop\n",
    "\n",
    "\n",
    "columns_order = [\n",
    "    \"Unnamed: 0\",\n",
    "    \"Mic_Index\",\n",
    "    \"Plane\",\n",
    "    \"X\",\n",
    "    \"Y\",\n",
    "    \"Z\",\n",
    "    \"X measured\",\n",
    "    \"Y measured\",\n",
    "]\n",
    "df_3d = df_3d[columns_order]\n",
    "\n",
    "\n",
    "# Ergebnis anzeigen\n",
    "print(df_3d)\n"
   ]
  },
  {
   "cell_type": "code",
   "execution_count": 8,
   "metadata": {},
   "outputs": [
    {
     "name": "stdout",
     "output_type": "stream",
     "text": [
      "A12\n",
      "X : 0.332\n",
      "Y : 0.129\n",
      "Z : 1.871\n",
      "\n",
      "D16\n",
      "X : 0.028\n",
      "Y : 0.161\n",
      "Z : 1.511\n",
      "distance =  0.472\n"
     ]
    }
   ],
   "source": [
    "_ = calculate_distance(df_3d, \"A12\", \"D16\", x_col=\"X\", y_col=\"Y\", z_col=\"Z\")"
   ]
  },
  {
   "cell_type": "code",
   "execution_count": 9,
   "metadata": {},
   "outputs": [
    {
     "data": {
      "application/vnd.plotly.v1+json": {
       "config": {
        "plotlyServerURL": "https://plot.ly"
       },
       "data": [
        {
         "hovertemplate": "Plane=right<br>X=%{x}<br>Y=%{y}<br>Z=%{z}<br>Mic_Index=%{text}<extra></extra>",
         "legendgroup": "right",
         "marker": {
          "color": "#636efa",
          "symbol": "circle"
         },
         "mode": "markers+text",
         "name": "right",
         "scene": "scene",
         "showlegend": true,
         "text": [
          "B1",
          "B2",
          "B3",
          "B4",
          "B5",
          "B6",
          "B7",
          "B8",
          "B9",
          "B10",
          "B11",
          "B12",
          "B13",
          "B14",
          "B15",
          "B16",
          "B17"
         ],
         "type": "scatter3d",
         "x": [
          1.3699999999999999,
          1.3699999999999999,
          1.3699999999999999,
          1.3699999999999999,
          1.3699999999999999,
          1.3699999999999999,
          1.3699999999999999,
          1.3699999999999999,
          1.3699999999999999,
          1.3699999999999999,
          1.3699999999999999,
          1.3699999999999999,
          1.3699999999999999,
          1.3699999999999999,
          1.3699999999999999,
          1.3699999999999999,
          1.3699999999999999
         ],
         "y": [
          0.734,
          0.987,
          0.336,
          1.398,
          0.647,
          0.989,
          0.22200000000000003,
          1.315,
          0.627,
          0.374,
          1.17,
          0.8089999999999999,
          0.157,
          0.536,
          1.044,
          1.392,
          0.6739999999999999
         ],
         "z": [
          0.02,
          0.266,
          0.287,
          0.38,
          0.425,
          0.629,
          0.672,
          0.718,
          0.774,
          0.989,
          1.148,
          1.194,
          1.257,
          1.372,
          1.485,
          1.51,
          1.689
         ]
        },
        {
         "hovertemplate": "Plane=front<br>X=%{x}<br>Y=%{y}<br>Z=%{z}<br>Mic_Index=%{text}<extra></extra>",
         "legendgroup": "front",
         "marker": {
          "color": "#EF553B",
          "symbol": "circle"
         },
         "mode": "markers+text",
         "name": "front",
         "scene": "scene",
         "showlegend": true,
         "text": [
          "C1",
          "C2",
          "C3",
          "C4",
          "C5",
          "C6",
          "C7",
          "C8",
          "C9",
          "C10",
          "C11",
          "C12",
          "C13",
          "C14",
          "C15",
          "C16",
          "C17"
         ],
         "type": "scatter3d",
         "x": [
          0.659,
          0.913,
          0.261,
          1.322,
          0.5710000000000001,
          0.914,
          0.14600000000000002,
          1.241,
          0.552,
          0.299,
          1.094,
          0.731,
          0.08499999999999999,
          0.461,
          0.979,
          1.313,
          0.599
         ],
         "y": [
          0.028,
          0.028,
          0.028,
          0.028,
          0.028,
          0.028,
          0.028,
          0.028,
          0.028,
          0.028,
          0.028,
          0.028,
          0.028,
          0.028,
          0.028,
          0.028,
          0.028
         ],
         "z": [
          0.023,
          0.267,
          0.287,
          0.38,
          0.425,
          0.63,
          0.675,
          0.717,
          0.773,
          0.99,
          1.15,
          1.194,
          1.261,
          1.375,
          1.485,
          1.508,
          1.691
         ]
        },
        {
         "hovertemplate": "Plane=left<br>X=%{x}<br>Y=%{y}<br>Z=%{z}<br>Mic_Index=%{text}<extra></extra>",
         "legendgroup": "left",
         "marker": {
          "color": "#00cc96",
          "symbol": "circle"
         },
         "mode": "markers+text",
         "name": "left",
         "scene": "scene",
         "showlegend": true,
         "text": [
          "D1",
          "D2",
          "D3",
          "D4",
          "D5",
          "D6",
          "D7",
          "D8",
          "D9",
          "D10",
          "D11",
          "D12",
          "D13",
          "D14",
          "D15",
          "D16",
          "D17"
         ],
         "type": "scatter3d",
         "x": [
          0.028,
          0.028,
          0.028,
          0.028,
          0.028,
          0.028,
          0.028,
          0.028,
          0.028,
          0.028,
          0.028,
          0.028,
          0.028,
          0.028,
          0.028,
          0.028,
          0.028
         ],
         "y": [
          0.8169999999999998,
          0.5659999999999998,
          1.2149999999999999,
          0.15399999999999983,
          0.9049999999999998,
          0.5619999999999998,
          1.331,
          0.2369999999999998,
          0.9249999999999998,
          1.177,
          0.3839999999999998,
          0.7459999999999999,
          1.392,
          1.016,
          0.5029999999999999,
          0.16099999999999995,
          0.8769999999999999
         ],
         "z": [
          0.023,
          0.27,
          0.289,
          0.385,
          0.427,
          0.63,
          0.677,
          0.72,
          0.773,
          0.99,
          1.149,
          1.195,
          1.26,
          1.375,
          1.485,
          1.511,
          1.69
         ]
        },
        {
         "hovertemplate": "Plane=top<br>X=%{x}<br>Y=%{y}<br>Z=%{z}<br>Mic_Index=%{text}<extra></extra>",
         "legendgroup": "top",
         "marker": {
          "color": "#ab63fa",
          "symbol": "circle"
         },
         "mode": "markers+text",
         "name": "top",
         "scene": "scene",
         "showlegend": true,
         "text": [
          "A1",
          "A2",
          "A3",
          "A4",
          "A5",
          "A6",
          "A7",
          "A8",
          "A9",
          "A10",
          "A11",
          "A12",
          "A13"
         ],
         "type": "scatter3d",
         "x": [
          0.59,
          1.159,
          0.87,
          1.3760000000000001,
          1.028,
          0.41100000000000003,
          0.755,
          0.974,
          1.405,
          0.68,
          0.985,
          0.3320000000000001,
          1.272
         ],
         "y": [
          1.246,
          1.147,
          1.127,
          0.8640000000000001,
          0.857,
          0.8560000000000001,
          0.81,
          0.548,
          0.5209999999999999,
          0.39300000000000007,
          0.15499999999999986,
          0.12900000000000006,
          0.11700000000000005
         ],
         "z": [
          1.871,
          1.871,
          1.871,
          1.871,
          1.871,
          1.871,
          1.871,
          1.871,
          1.871,
          1.871,
          1.871,
          1.871,
          1.871
         ]
        }
       ],
       "layout": {
        "height": 1000,
        "legend": {
         "title": {
          "text": "Plane"
         },
         "tracegroupgap": 0
        },
        "scene": {
         "domain": {
          "x": [
           0,
           1
          ],
          "y": [
           0,
           1
          ]
         },
         "xaxis": {
          "title": {
           "text": "X"
          }
         },
         "yaxis": {
          "title": {
           "text": "Y"
          }
         },
         "zaxis": {
          "title": {
           "text": "Z"
          }
         }
        },
        "template": {
         "data": {
          "bar": [
           {
            "error_x": {
             "color": "#2a3f5f"
            },
            "error_y": {
             "color": "#2a3f5f"
            },
            "marker": {
             "line": {
              "color": "#E5ECF6",
              "width": 0.5
             },
             "pattern": {
              "fillmode": "overlay",
              "size": 10,
              "solidity": 0.2
             }
            },
            "type": "bar"
           }
          ],
          "barpolar": [
           {
            "marker": {
             "line": {
              "color": "#E5ECF6",
              "width": 0.5
             },
             "pattern": {
              "fillmode": "overlay",
              "size": 10,
              "solidity": 0.2
             }
            },
            "type": "barpolar"
           }
          ],
          "carpet": [
           {
            "aaxis": {
             "endlinecolor": "#2a3f5f",
             "gridcolor": "white",
             "linecolor": "white",
             "minorgridcolor": "white",
             "startlinecolor": "#2a3f5f"
            },
            "baxis": {
             "endlinecolor": "#2a3f5f",
             "gridcolor": "white",
             "linecolor": "white",
             "minorgridcolor": "white",
             "startlinecolor": "#2a3f5f"
            },
            "type": "carpet"
           }
          ],
          "choropleth": [
           {
            "colorbar": {
             "outlinewidth": 0,
             "ticks": ""
            },
            "type": "choropleth"
           }
          ],
          "contour": [
           {
            "colorbar": {
             "outlinewidth": 0,
             "ticks": ""
            },
            "colorscale": [
             [
              0,
              "#0d0887"
             ],
             [
              0.1111111111111111,
              "#46039f"
             ],
             [
              0.2222222222222222,
              "#7201a8"
             ],
             [
              0.3333333333333333,
              "#9c179e"
             ],
             [
              0.4444444444444444,
              "#bd3786"
             ],
             [
              0.5555555555555556,
              "#d8576b"
             ],
             [
              0.6666666666666666,
              "#ed7953"
             ],
             [
              0.7777777777777778,
              "#fb9f3a"
             ],
             [
              0.8888888888888888,
              "#fdca26"
             ],
             [
              1,
              "#f0f921"
             ]
            ],
            "type": "contour"
           }
          ],
          "contourcarpet": [
           {
            "colorbar": {
             "outlinewidth": 0,
             "ticks": ""
            },
            "type": "contourcarpet"
           }
          ],
          "heatmap": [
           {
            "colorbar": {
             "outlinewidth": 0,
             "ticks": ""
            },
            "colorscale": [
             [
              0,
              "#0d0887"
             ],
             [
              0.1111111111111111,
              "#46039f"
             ],
             [
              0.2222222222222222,
              "#7201a8"
             ],
             [
              0.3333333333333333,
              "#9c179e"
             ],
             [
              0.4444444444444444,
              "#bd3786"
             ],
             [
              0.5555555555555556,
              "#d8576b"
             ],
             [
              0.6666666666666666,
              "#ed7953"
             ],
             [
              0.7777777777777778,
              "#fb9f3a"
             ],
             [
              0.8888888888888888,
              "#fdca26"
             ],
             [
              1,
              "#f0f921"
             ]
            ],
            "type": "heatmap"
           }
          ],
          "heatmapgl": [
           {
            "colorbar": {
             "outlinewidth": 0,
             "ticks": ""
            },
            "colorscale": [
             [
              0,
              "#0d0887"
             ],
             [
              0.1111111111111111,
              "#46039f"
             ],
             [
              0.2222222222222222,
              "#7201a8"
             ],
             [
              0.3333333333333333,
              "#9c179e"
             ],
             [
              0.4444444444444444,
              "#bd3786"
             ],
             [
              0.5555555555555556,
              "#d8576b"
             ],
             [
              0.6666666666666666,
              "#ed7953"
             ],
             [
              0.7777777777777778,
              "#fb9f3a"
             ],
             [
              0.8888888888888888,
              "#fdca26"
             ],
             [
              1,
              "#f0f921"
             ]
            ],
            "type": "heatmapgl"
           }
          ],
          "histogram": [
           {
            "marker": {
             "pattern": {
              "fillmode": "overlay",
              "size": 10,
              "solidity": 0.2
             }
            },
            "type": "histogram"
           }
          ],
          "histogram2d": [
           {
            "colorbar": {
             "outlinewidth": 0,
             "ticks": ""
            },
            "colorscale": [
             [
              0,
              "#0d0887"
             ],
             [
              0.1111111111111111,
              "#46039f"
             ],
             [
              0.2222222222222222,
              "#7201a8"
             ],
             [
              0.3333333333333333,
              "#9c179e"
             ],
             [
              0.4444444444444444,
              "#bd3786"
             ],
             [
              0.5555555555555556,
              "#d8576b"
             ],
             [
              0.6666666666666666,
              "#ed7953"
             ],
             [
              0.7777777777777778,
              "#fb9f3a"
             ],
             [
              0.8888888888888888,
              "#fdca26"
             ],
             [
              1,
              "#f0f921"
             ]
            ],
            "type": "histogram2d"
           }
          ],
          "histogram2dcontour": [
           {
            "colorbar": {
             "outlinewidth": 0,
             "ticks": ""
            },
            "colorscale": [
             [
              0,
              "#0d0887"
             ],
             [
              0.1111111111111111,
              "#46039f"
             ],
             [
              0.2222222222222222,
              "#7201a8"
             ],
             [
              0.3333333333333333,
              "#9c179e"
             ],
             [
              0.4444444444444444,
              "#bd3786"
             ],
             [
              0.5555555555555556,
              "#d8576b"
             ],
             [
              0.6666666666666666,
              "#ed7953"
             ],
             [
              0.7777777777777778,
              "#fb9f3a"
             ],
             [
              0.8888888888888888,
              "#fdca26"
             ],
             [
              1,
              "#f0f921"
             ]
            ],
            "type": "histogram2dcontour"
           }
          ],
          "mesh3d": [
           {
            "colorbar": {
             "outlinewidth": 0,
             "ticks": ""
            },
            "type": "mesh3d"
           }
          ],
          "parcoords": [
           {
            "line": {
             "colorbar": {
              "outlinewidth": 0,
              "ticks": ""
             }
            },
            "type": "parcoords"
           }
          ],
          "pie": [
           {
            "automargin": true,
            "type": "pie"
           }
          ],
          "scatter": [
           {
            "fillpattern": {
             "fillmode": "overlay",
             "size": 10,
             "solidity": 0.2
            },
            "type": "scatter"
           }
          ],
          "scatter3d": [
           {
            "line": {
             "colorbar": {
              "outlinewidth": 0,
              "ticks": ""
             }
            },
            "marker": {
             "colorbar": {
              "outlinewidth": 0,
              "ticks": ""
             }
            },
            "type": "scatter3d"
           }
          ],
          "scattercarpet": [
           {
            "marker": {
             "colorbar": {
              "outlinewidth": 0,
              "ticks": ""
             }
            },
            "type": "scattercarpet"
           }
          ],
          "scattergeo": [
           {
            "marker": {
             "colorbar": {
              "outlinewidth": 0,
              "ticks": ""
             }
            },
            "type": "scattergeo"
           }
          ],
          "scattergl": [
           {
            "marker": {
             "colorbar": {
              "outlinewidth": 0,
              "ticks": ""
             }
            },
            "type": "scattergl"
           }
          ],
          "scattermapbox": [
           {
            "marker": {
             "colorbar": {
              "outlinewidth": 0,
              "ticks": ""
             }
            },
            "type": "scattermapbox"
           }
          ],
          "scatterpolar": [
           {
            "marker": {
             "colorbar": {
              "outlinewidth": 0,
              "ticks": ""
             }
            },
            "type": "scatterpolar"
           }
          ],
          "scatterpolargl": [
           {
            "marker": {
             "colorbar": {
              "outlinewidth": 0,
              "ticks": ""
             }
            },
            "type": "scatterpolargl"
           }
          ],
          "scatterternary": [
           {
            "marker": {
             "colorbar": {
              "outlinewidth": 0,
              "ticks": ""
             }
            },
            "type": "scatterternary"
           }
          ],
          "surface": [
           {
            "colorbar": {
             "outlinewidth": 0,
             "ticks": ""
            },
            "colorscale": [
             [
              0,
              "#0d0887"
             ],
             [
              0.1111111111111111,
              "#46039f"
             ],
             [
              0.2222222222222222,
              "#7201a8"
             ],
             [
              0.3333333333333333,
              "#9c179e"
             ],
             [
              0.4444444444444444,
              "#bd3786"
             ],
             [
              0.5555555555555556,
              "#d8576b"
             ],
             [
              0.6666666666666666,
              "#ed7953"
             ],
             [
              0.7777777777777778,
              "#fb9f3a"
             ],
             [
              0.8888888888888888,
              "#fdca26"
             ],
             [
              1,
              "#f0f921"
             ]
            ],
            "type": "surface"
           }
          ],
          "table": [
           {
            "cells": {
             "fill": {
              "color": "#EBF0F8"
             },
             "line": {
              "color": "white"
             }
            },
            "header": {
             "fill": {
              "color": "#C8D4E3"
             },
             "line": {
              "color": "white"
             }
            },
            "type": "table"
           }
          ]
         },
         "layout": {
          "annotationdefaults": {
           "arrowcolor": "#2a3f5f",
           "arrowhead": 0,
           "arrowwidth": 1
          },
          "autotypenumbers": "strict",
          "coloraxis": {
           "colorbar": {
            "outlinewidth": 0,
            "ticks": ""
           }
          },
          "colorscale": {
           "diverging": [
            [
             0,
             "#8e0152"
            ],
            [
             0.1,
             "#c51b7d"
            ],
            [
             0.2,
             "#de77ae"
            ],
            [
             0.3,
             "#f1b6da"
            ],
            [
             0.4,
             "#fde0ef"
            ],
            [
             0.5,
             "#f7f7f7"
            ],
            [
             0.6,
             "#e6f5d0"
            ],
            [
             0.7,
             "#b8e186"
            ],
            [
             0.8,
             "#7fbc41"
            ],
            [
             0.9,
             "#4d9221"
            ],
            [
             1,
             "#276419"
            ]
           ],
           "sequential": [
            [
             0,
             "#0d0887"
            ],
            [
             0.1111111111111111,
             "#46039f"
            ],
            [
             0.2222222222222222,
             "#7201a8"
            ],
            [
             0.3333333333333333,
             "#9c179e"
            ],
            [
             0.4444444444444444,
             "#bd3786"
            ],
            [
             0.5555555555555556,
             "#d8576b"
            ],
            [
             0.6666666666666666,
             "#ed7953"
            ],
            [
             0.7777777777777778,
             "#fb9f3a"
            ],
            [
             0.8888888888888888,
             "#fdca26"
            ],
            [
             1,
             "#f0f921"
            ]
           ],
           "sequentialminus": [
            [
             0,
             "#0d0887"
            ],
            [
             0.1111111111111111,
             "#46039f"
            ],
            [
             0.2222222222222222,
             "#7201a8"
            ],
            [
             0.3333333333333333,
             "#9c179e"
            ],
            [
             0.4444444444444444,
             "#bd3786"
            ],
            [
             0.5555555555555556,
             "#d8576b"
            ],
            [
             0.6666666666666666,
             "#ed7953"
            ],
            [
             0.7777777777777778,
             "#fb9f3a"
            ],
            [
             0.8888888888888888,
             "#fdca26"
            ],
            [
             1,
             "#f0f921"
            ]
           ]
          },
          "colorway": [
           "#636efa",
           "#EF553B",
           "#00cc96",
           "#ab63fa",
           "#FFA15A",
           "#19d3f3",
           "#FF6692",
           "#B6E880",
           "#FF97FF",
           "#FECB52"
          ],
          "font": {
           "color": "#2a3f5f"
          },
          "geo": {
           "bgcolor": "white",
           "lakecolor": "white",
           "landcolor": "#E5ECF6",
           "showlakes": true,
           "showland": true,
           "subunitcolor": "white"
          },
          "hoverlabel": {
           "align": "left"
          },
          "hovermode": "closest",
          "mapbox": {
           "style": "light"
          },
          "paper_bgcolor": "white",
          "plot_bgcolor": "#E5ECF6",
          "polar": {
           "angularaxis": {
            "gridcolor": "white",
            "linecolor": "white",
            "ticks": ""
           },
           "bgcolor": "#E5ECF6",
           "radialaxis": {
            "gridcolor": "white",
            "linecolor": "white",
            "ticks": ""
           }
          },
          "scene": {
           "xaxis": {
            "backgroundcolor": "#E5ECF6",
            "gridcolor": "white",
            "gridwidth": 2,
            "linecolor": "white",
            "showbackground": true,
            "ticks": "",
            "zerolinecolor": "white"
           },
           "yaxis": {
            "backgroundcolor": "#E5ECF6",
            "gridcolor": "white",
            "gridwidth": 2,
            "linecolor": "white",
            "showbackground": true,
            "ticks": "",
            "zerolinecolor": "white"
           },
           "zaxis": {
            "backgroundcolor": "#E5ECF6",
            "gridcolor": "white",
            "gridwidth": 2,
            "linecolor": "white",
            "showbackground": true,
            "ticks": "",
            "zerolinecolor": "white"
           }
          },
          "shapedefaults": {
           "line": {
            "color": "#2a3f5f"
           }
          },
          "ternary": {
           "aaxis": {
            "gridcolor": "white",
            "linecolor": "white",
            "ticks": ""
           },
           "baxis": {
            "gridcolor": "white",
            "linecolor": "white",
            "ticks": ""
           },
           "bgcolor": "#E5ECF6",
           "caxis": {
            "gridcolor": "white",
            "linecolor": "white",
            "ticks": ""
           }
          },
          "title": {
           "x": 0.05
          },
          "xaxis": {
           "automargin": true,
           "gridcolor": "white",
           "linecolor": "white",
           "ticks": "",
           "title": {
            "standoff": 15
           },
           "zerolinecolor": "white",
           "zerolinewidth": 2
          },
          "yaxis": {
           "automargin": true,
           "gridcolor": "white",
           "linecolor": "white",
           "ticks": "",
           "title": {
            "standoff": 15
           },
           "zerolinecolor": "white",
           "zerolinewidth": 2
          }
         }
        },
        "title": {
         "text": "3D Scatter Plot"
        },
        "width": 1000
       }
      }
     },
     "metadata": {},
     "output_type": "display_data"
    }
   ],
   "source": [
    "# fancy interactiver plot \n",
    "# damit kann man die namen der mikrofone sehr gut sehen\n",
    "\n",
    "\n",
    "import plotly.express as px\n",
    "\n",
    "\n",
    "fig = px.scatter_3d(df_3d, x='X', y='Y', z='Z', text='Mic_Index', title='3D Scatter Plot', color='Plane', width=1000, height=1000)\n",
    "\n",
    "# Plot anzeigen\n",
    "fig.show()"
   ]
  },
  {
   "cell_type": "code",
   "execution_count": 10,
   "metadata": {},
   "outputs": [
    {
     "name": "stdout",
     "output_type": "stream",
     "text": [
      "D13\n",
      "X : 0.028\n",
      "Y : 1.392\n",
      "Z : 1.26\n",
      "\n",
      "D16\n",
      "X : 0.028\n",
      "Y : 0.161\n",
      "Z : 1.511\n",
      "distance =  1.256\n",
      "B17\n",
      "X : 1.37\n",
      "Y : 0.674\n",
      "Z : 1.689\n",
      "\n",
      "C16\n",
      "X : 1.313\n",
      "Y : 0.028\n",
      "Z : 1.508\n",
      "distance =  0.673\n",
      "C10\n",
      "X : 0.299\n",
      "Y : 0.028\n",
      "Z : 0.99\n",
      "\n",
      "D10\n",
      "X : 0.028\n",
      "Y : 1.177\n",
      "Z : 0.99\n",
      "distance =  1.181\n",
      "C2\n",
      "X : 0.913\n",
      "Y : 0.028\n",
      "Z : 0.267\n",
      "\n",
      "B15\n",
      "X : 1.37\n",
      "Y : 1.044\n",
      "Z : 1.485\n",
      "distance =  1.651\n",
      "A7\n",
      "X : 0.755\n",
      "Y : 0.81\n",
      "Z : 1.871\n",
      "\n",
      "B6\n",
      "X : 1.37\n",
      "Y : 0.989\n",
      "Z : 0.629\n",
      "distance =  1.397\n",
      "A6\n",
      "X : 0.411\n",
      "Y : 0.856\n",
      "Z : 1.871\n",
      "\n",
      "D17\n",
      "X : 0.028\n",
      "Y : 0.877\n",
      "Z : 1.69\n",
      "distance =  0.424\n",
      "A10\n",
      "X : 0.68\n",
      "Y : 0.393\n",
      "Z : 1.871\n",
      "\n",
      "C5\n",
      "X : 0.571\n",
      "Y : 0.028\n",
      "Z : 0.425\n",
      "distance =  1.495\n",
      "C4\n",
      "X : 1.322\n",
      "Y : 0.028\n",
      "Z : 0.38\n",
      "\n",
      "D3\n",
      "X : 0.028\n",
      "Y : 1.215\n",
      "Z : 0.289\n",
      "distance =  1.758\n",
      "D1\n",
      "X : 0.028\n",
      "Y : 0.817\n",
      "Z : 0.023\n",
      "\n",
      "B13\n",
      "X : 1.37\n",
      "Y : 0.157\n",
      "Z : 1.257\n",
      "distance =  1.939\n",
      "A5\n",
      "X : 1.028\n",
      "Y : 0.857\n",
      "Z : 1.871\n",
      "\n",
      "B8\n",
      "X : 1.37\n",
      "Y : 1.315\n",
      "Z : 0.718\n",
      "distance =  1.287\n",
      "D7\n",
      "X : 0.028\n",
      "Y : 1.331\n",
      "Z : 0.677\n",
      "\n",
      "B8\n",
      "X : 1.37\n",
      "Y : 1.315\n",
      "Z : 0.718\n",
      "distance =  1.343\n",
      "D13\n",
      "X : 0.028\n",
      "Y : 1.392\n",
      "Z : 1.26\n",
      "\n",
      "B16\n",
      "X : 1.37\n",
      "Y : 1.392\n",
      "Z : 1.51\n",
      "distance =  1.365\n",
      "A1\n",
      "X : 0.59\n",
      "Y : 1.246\n",
      "Z : 1.871\n",
      "\n",
      "C16\n",
      "X : 1.313\n",
      "Y : 0.028\n",
      "Z : 1.508\n",
      "distance =  1.462\n",
      "A4\n",
      "X : 1.376\n",
      "Y : 0.864\n",
      "Z : 1.871\n",
      "\n",
      "D5\n",
      "X : 0.028\n",
      "Y : 0.905\n",
      "Z : 0.427\n",
      "distance =  1.976\n"
     ]
    }
   ],
   "source": [
    "_ = calculate_distance(df_3d, \"D13\", \"D16\", x_col=\"X\", y_col=\"Y\", z_col=\"Z\") # 1,26 m\n",
    "_ = calculate_distance(df_3d, \"B17\", \"C16\", x_col=\"X\", y_col=\"Y\", z_col=\"Z\") # 0,67 m\n",
    "_ = calculate_distance(df_3d, \"C10\", \"D10\", x_col=\"X\", y_col=\"Y\", z_col=\"Z\") # 1,175 m\n",
    "_ = calculate_distance(df_3d, \"C2\", \"B15\", x_col=\"X\", y_col=\"Y\", z_col=\"Z\") # 1,65 m\n",
    "_ = calculate_distance(df_3d, \"A7\", \"B6\", x_col=\"X\", y_col=\"Y\", z_col=\"Z\") # 1,416 m\n",
    "_ = calculate_distance(df_3d, \"A6\", \"D17\", x_col=\"X\", y_col=\"Y\", z_col=\"Z\") # 0,40 m\n",
    "_ = calculate_distance(df_3d, \"A10\", \"C5\", x_col=\"X\", y_col=\"Y\", z_col=\"Z\") # 1,485 m\n",
    "_ = calculate_distance(df_3d, \"C4\", \"D3\", x_col=\"X\", y_col=\"Y\", z_col=\"Z\") # 1,77 m\n",
    "_ = calculate_distance(df_3d, \"D1\", \"B13\", x_col=\"X\", y_col=\"Y\", z_col=\"Z\") #1,975 m\n",
    "_ = calculate_distance(df_3d, \"A5\", \"B8\", x_col=\"X\", y_col=\"Y\", z_col=\"Z\") # 1,301 m\n",
    "_ = calculate_distance(df_3d, \"D7\", \"B8\", x_col=\"X\", y_col=\"Y\", z_col=\"Z\") #1,385 m\n",
    "_ = calculate_distance(df_3d, \"D13\", \"B16\", x_col=\"X\", y_col=\"Y\", z_col=\"Z\") # 1,407 m\n",
    "_ = calculate_distance(df_3d, \"A1\", \"C16\", x_col=\"X\", y_col=\"Y\", z_col=\"Z\") # 1,485 m\n",
    "_ = calculate_distance(df_3d, \"A4\", \"D5\", x_col=\"X\", y_col=\"Y\", z_col=\"Z\") # 1,963"
   ]
  }
 ],
 "metadata": {
  "kernelspec": {
   "display_name": "AsSSASoSe23",
   "language": "python",
   "name": "python3"
  },
  "language_info": {
   "codemirror_mode": {
    "name": "ipython",
    "version": 3
   },
   "file_extension": ".py",
   "mimetype": "text/x-python",
   "name": "python",
   "nbconvert_exporter": "python",
   "pygments_lexer": "ipython3",
   "version": "3.9.16"
  }
 },
 "nbformat": 4,
 "nbformat_minor": 2
}
