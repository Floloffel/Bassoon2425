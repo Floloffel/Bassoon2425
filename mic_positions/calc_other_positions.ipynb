{
 "cells": [
  {
   "cell_type": "code",
   "execution_count": 1,
   "metadata": {},
   "outputs": [],
   "source": [
    "import numpy as np \n",
    "import pandas as pd\n",
    "import plotly.express as px\n",
    "import plotly.graph_objects as go"
   ]
  },
  {
   "cell_type": "code",
   "execution_count": 7,
   "metadata": {},
   "outputs": [
    {
     "name": "stdout",
     "output_type": "stream",
     "text": [
      "                        point 1 point 2  distance\n",
      "0   basson lower mounting point      B3     0.505\n",
      "1   basson lower mounting point     B10     0.740\n",
      "2   basson lower mounting point      B6     0.684\n",
      "3        basson bell top middle     C12     0.484\n",
      "4        basson bell top middle     C16     0.560\n",
      "5        basson bell top middle     C17     0.493\n",
      "6   camera pos 1 (lense center)      B5     0.826\n",
      "7   camera pos 1 (lense center)      C6     0.837\n",
      "8   camera pos 1 (lense center)     A10     1.490\n",
      "9                  camera pos 2      A7     0.470\n",
      "10                 camera pos 2     B13     0.835\n",
      "11                 camera pos 2     C14     0.926\n"
     ]
    }
   ],
   "source": [
    "mic_coords = pd.read_excel(\"data/mic_coords_final.xlsx\", index_col=0)\n",
    "distances = pd.read_excel(\"data/miscellaneous_positions.xlsx\", index_col=0)\n",
    "\n",
    "# remove NaNs\n",
    "distances = distances.drop(index=[12, 13])\n",
    "print(distances)\n",
    "\n",
    "def get_mic_coords(name, df, x, y, z):\n",
    "    filtered_df = df[df['Mic_Index'] == name]\n",
    "    coordinates = filtered_df[[x, y, z]].to_numpy()\n",
    "    return coordinates[0]\n",
    "\n",
    "\n",
    "\n",
    "position_coords_default = []\n",
    "for name in distances[\"point 2\"]:\n",
    "    coord = get_mic_coords(name, mic_coords, \"X\", \"Y\", \"Z\")\n",
    "    position_coords_default.append(coord)\n",
    "\n",
    "position_coords_optimized = []\n",
    "for name in distances[\"point 2\"]:\n",
    "    coord = get_mic_coords(name, mic_coords, \"X_optimized\", \"Y_optimized\", \"Z_optimized\")\n",
    "    position_coords_optimized.append(coord)\n",
    "\n"
   ]
  },
  {
   "cell_type": "code",
   "execution_count": 10,
   "metadata": {},
   "outputs": [
    {
     "name": "stdout",
     "output_type": "stream",
     "text": [
      "OPTIMIZED VALUES\n",
      "\n",
      "basson_low\n",
      "z_squared =  -1.819024328491085\n",
      "Coordinates of the unknown point:\n",
      "x: 0.00223031678506469, y: 1.0053779533482348, z: ±None\n",
      "No return coordinate\n",
      "\n",
      "basson_high\n",
      "z_squared =  0.12382873765795283\n",
      "Coordinates of the unknown point:\n",
      "x: 0.5257270504102248, y: -0.05682104576017928, z: ±0.3518930770247588\n",
      "\n",
      "camera_1\n",
      "z_squared =  0.132899785070402\n",
      "Coordinates of the unknown point:\n",
      "x: 0.6986960438917849, y: 0.7016823714541304, z: ±0.36455422788715813\n",
      "\n",
      "camera_2\n",
      "z_squared =  -2.5361377215643572\n",
      "Coordinates of the unknown point:\n",
      "x: -0.20667685426861693, y: 1.107267247639946, z: ±None\n",
      "No return coordinate\n",
      "\n",
      "\n",
      "DEFAULT CALCULATED VALUES\n",
      "\n",
      "basson_low\n",
      "z_squared =  -1.6732682979236642\n",
      "Coordinates of the unknown point:\n",
      "x: 5.551115123125783e-17, y: 1.028945827439887, z: ±None\n",
      "No return coordinate\n",
      "\n",
      "basson_high\n",
      "z_squared =  0.12382873765795283\n",
      "Coordinates of the unknown point:\n",
      "x: 0.519369940308797, y: 0.0, z: ±0.3518930770247588\n",
      "\n",
      "camera_1\n",
      "z_squared =  0.1774531162692473\n",
      "Coordinates of the unknown point:\n",
      "x: 0.6892581157127653, y: 0.7052751790482733, z: ±0.4212518442324583\n",
      "\n",
      "camera_2\n",
      "z_squared =  -2.3338110273767843\n",
      "Coordinates of the unknown point:\n",
      "x: -0.24319943832747654, y: 1.1540472506670563, z: ±None\n",
      "No return coordinate\n",
      "\n"
     ]
    }
   ],
   "source": [
    "def triangulate_point(list_coords, df_distances, start):\n",
    "    P1 = list_coords[start]\n",
    "    P2 = list_coords[start+1]\n",
    "    P3 = list_coords[start+2]\n",
    "\n",
    "    d1 = df_distances[\"distance\"][start]\n",
    "    d2 = df_distances[\"distance\"][start+1]\n",
    "    d3 = df_distances[\"distance\"][start+2]\n",
    "\n",
    "    # Build the system of linear equations\n",
    "    A = 2 * np.array([\n",
    "        [P2[0] - P1[0], P2[1] - P1[1], P2[2] - P1[2]],\n",
    "        [P3[0] - P1[0], P3[1] - P1[1], P3[2] - P1[2]]\n",
    "        ])\n",
    "\n",
    "    b = np.array([\n",
    "        d1**2 - d2**2 + np.dot(P2, P2) - np.dot(P1, P1),\n",
    "        d1**2 - d3**2 + np.dot(P3, P3) - np.dot(P1, P1)\n",
    "        ])\n",
    "\n",
    "    # Solve for x, y, z using least squares\n",
    "    xyz = np.linalg.lstsq(A, b, rcond=-1)[0]\n",
    "\n",
    "    # Compute z-coordinate explicitly (if needed)\n",
    "    z_squared = d1**2 - np.dot(xyz - P1, xyz - P1)\n",
    "    print(\"z_squared = \", z_squared) # complex means bad :(\n",
    "    z = np.sqrt(z_squared) if z_squared >= 0 else None\n",
    "\n",
    "    print(\"Coordinates of the unknown point:\")\n",
    "    print(f\"x: {xyz[0]}, y: {xyz[1]}, z: ±{z}\")\n",
    "    \n",
    "    try:\n",
    "        coord = np.array([[xyz[0], xyz[1], z], [xyz[0], xyz[1], -z]])\n",
    "        return coord\n",
    "    \n",
    "    except:\n",
    "        print(\"No return coordinate\")\n",
    "\n",
    "\n",
    "items = [\"basson_low\", \"basson_high\", \"camera_1\", \"camera_2\"]\n",
    "start_points = [0, 3, 6, 9]\n",
    "\n",
    "\n",
    "print(\"OPTIMIZED VALUES\")\n",
    "print(\"\")\n",
    "for start, item in zip(start_points, items):\n",
    "    print(item)\n",
    "    _ = triangulate_point(position_coords_optimized, distances, start)\n",
    "    print(\"\")\n",
    "\n",
    "print(\"\")\n",
    "print(\"DEFAULT CALCULATED VALUES\")\n",
    "print(\"\")\n",
    "for start, item in zip(start_points, items):\n",
    "    print(item)\n",
    "    _ = triangulate_point(position_coords_default, distances, start)\n",
    "    print(\"\")\n"
   ]
  },
  {
   "cell_type": "code",
   "execution_count": 4,
   "metadata": {},
   "outputs": [
    {
     "name": "stdout",
     "output_type": "stream",
     "text": [
      "0.703 = distance B10 to B3\n",
      "0.737 = distance B6 to B3\n",
      "0.713 = distance B10 to B6\n"
     ]
    }
   ],
   "source": [
    "from _mic_position_functions import calculate_distance\n",
    "\n",
    "_ = calculate_distance(mic_coords, \"B10\", \"B3\", x_col=\"X_optimized\", y_col=\"Y_optimized\", z_col=\"Z_optimized\")\n",
    "_ = calculate_distance(mic_coords, \"B6\", \"B3\", x_col=\"X_optimized\", y_col=\"Y_optimized\", z_col=\"Z_optimized\")\n",
    "_ = calculate_distance(mic_coords, \"B10\", \"B6\", x_col=\"X_optimized\", y_col=\"Y_optimized\", z_col=\"Z_optimized\")"
   ]
  },
  {
   "cell_type": "code",
   "execution_count": 5,
   "metadata": {},
   "outputs": [
    {
     "name": "stdout",
     "output_type": "stream",
     "text": [
      "z_squared =  0.12382873765795283\n",
      "Coordinates of the unknown point:\n",
      "x: 0.5257270504102248, y: -0.05682104576017928, z: ±0.3518930770247588\n",
      "z_squared =  0.132899785070402\n",
      "Coordinates of the unknown point:\n",
      "x: 0.6986960438917849, y: 0.7016823714541304, z: ±0.36455422788715813\n"
     ]
    },
    {
     "data": {
      "application/vnd.plotly.v1+json": {
       "config": {
        "plotlyServerURL": "https://plot.ly"
       },
       "data": [
        {
         "hovertemplate": "Plane=right<br>X_optimized=%{x}<br>Y_optimized=%{y}<br>Z_optimized=%{z}<br>Mic_Index=%{text}<extra></extra>",
         "legendgroup": "right",
         "marker": {
          "color": "#636efa",
          "symbol": "circle"
         },
         "mode": "markers+text",
         "name": "right",
         "scene": "scene",
         "showlegend": true,
         "text": [
          "B1",
          "B2",
          "B3",
          "B4",
          "B5",
          "B6",
          "B7",
          "B8",
          "B9",
          "B10",
          "B11",
          "B12",
          "B13",
          "B14",
          "B15",
          "B16",
          "B17"
         ],
         "type": "scatter3d",
         "x": [
          1.431736970439887,
          1.422030911618047,
          1.429668287755774,
          1.413835492859852,
          1.422095312390745,
          1.412382454086071,
          1.420896685431991,
          1.405919685430265,
          1.41309491336665,
          1.41057966704335,
          1.396345309058903,
          1.399669713311482,
          1.406206238605785,
          1.398387091361103,
          1.388997250280228,
          1.383954236134591,
          1.388246290069821
         ],
         "y": [
          0.7724205632644902,
          0.5195226985835854,
          1.170478135207909,
          0.1085933005350677,
          0.8595488243725178,
          0.5176439942681164,
          1.284597583184944,
          0.1916995198520569,
          0.8796637052876608,
          1.132715410935535,
          0.336831529066288,
          0.6978182818733589,
          1.349787655158926,
          0.9708560558262891,
          0.4629340082715897,
          0.1149699191337609,
          0.8329727745163288
         ],
         "z": [
          0.03016703382869369,
          0.2760805602195486,
          0.2970731783260849,
          0.3900404870836032,
          0.4350246687404669,
          0.638952958918249,
          0.6819378436125855,
          0.7279216737507128,
          0.7839019887014765,
          0.9988264121731586,
          1.157770520694077,
          1.203754350832204,
          1.266732205151814,
          1.381691780497132,
          1.494652058879923,
          1.519643270911514,
          1.698580349057705
         ]
        },
        {
         "hovertemplate": "Plane=front<br>X_optimized=%{x}<br>Y_optimized=%{y}<br>Z_optimized=%{z}<br>Mic_Index=%{text}<extra></extra>",
         "legendgroup": "front",
         "marker": {
          "color": "#EF553B",
          "symbol": "circle"
         },
         "mode": "markers+text",
         "name": "front",
         "scene": "scene",
         "showlegend": true,
         "text": [
          "C1",
          "C2",
          "C3",
          "C4",
          "C5",
          "C6",
          "C7",
          "C8",
          "C9",
          "C10",
          "C11",
          "C12",
          "C13",
          "C14",
          "C15",
          "C16",
          "C17"
         ],
         "type": "scatter3d",
         "x": [
          0.7469338968689182,
          0.4928336155895092,
          1.144651661547618,
          0.08386241058151087,
          0.8346378981974144,
          0.49158711013476,
          1.259358208041763,
          0.1646124057698179,
          0.8533964252252414,
          1.10618358165611,
          0.3112800987445385,
          0.674156454800373,
          1.319944099950075,
          0.9439636939527135,
          0.4260226740945098,
          0.09209328379964611,
          0.8057845145047688
         ],
         "y": [
          0.01005461907086658,
          0.008528993191660318,
          -0.006885056726207126,
          0.01444345175174852,
          -0.003967942163637914,
          -0.002304754831412761,
          -0.02110245281495124,
          0.002523953224601003,
          -0.01480755102415678,
          -0.02704662147544842,
          -0.01376644707356975,
          -0.02333111109181371,
          -0.04001447727952451,
          -0.03487981072281562,
          -0.02639873846544125,
          -0.01949687533786055,
          -0.04119474354982523
         ],
         "z": [
          0.03299039662966993,
          0.2768811908786574,
          0.2968722395875908,
          0.3898306160841312,
          0.4348104756792313,
          0.6397187249457987,
          0.6846985845408989,
          0.7266797868296591,
          0.7826547232146726,
          0.9995576017066,
          1.159485991378067,
          1.203466298537721,
          1.270436311712648,
          1.384385289353568,
          1.494336057252702,
          1.517325763267975,
          1.700243858954716
         ]
        },
        {
         "hovertemplate": "Plane=left<br>X_optimized=%{x}<br>Y_optimized=%{y}<br>Z_optimized=%{z}<br>Mic_Index=%{text}<extra></extra>",
         "legendgroup": "left",
         "marker": {
          "color": "#00cc96",
          "symbol": "circle"
         },
         "mode": "markers+text",
         "name": "left",
         "scene": "scene",
         "showlegend": true,
         "text": [
          "D1",
          "D2",
          "D3",
          "D4",
          "D5",
          "D6",
          "D7",
          "D8",
          "D9",
          "D10",
          "D11",
          "D12",
          "D13",
          "D14",
          "D15",
          "D16",
          "D17"
         ],
         "type": "scatter3d",
         "x": [
          0.0382713656488418,
          0.03830999191730931,
          0.02835300806285724,
          0.04272648535037085,
          0.03090464129903687,
          0.03297384778578524,
          0.02080880420396231,
          0.03646846402108281,
          0.02542065422092971,
          0.01841259330240147,
          0.02784774269881322,
          0.02176330916192526,
          0.01116157719615678,
          0.01504155371053182,
          0.02103821623660954,
          0.02574543339417382,
          0.01239181766439332
         ],
         "y": [
          0.6994046470141787,
          0.9504319503401228,
          0.3015082725567115,
          1.362411884556102,
          0.6115046729994396,
          0.9545119293387857,
          0.1856078338436715,
          1.279495940789802,
          0.5915841898573074,
          0.3396606542073992,
          1.132608104236331,
          0.7706585841008975,
          0.1247448494412902,
          0.5007287818015643,
          1.013696382012205,
          1.355664207986297,
          0.6397837148545086
         ],
         "z": [
          0.01063476537521875,
          0.2576070138018707,
          0.2766048790654592,
          0.3725940930288543,
          0.4145893741378396,
          0.6175665661646021,
          0.6645612855008477,
          0.707556454255285,
          0.7605504994642427,
          0.9775261185273336,
          1.136508254154207,
          1.182503085845,
          1.247495782799382,
          1.362482862026366,
          1.47247050302609,
          1.498467581807842,
          1.677447470343756
         ]
        },
        {
         "hovertemplate": "Plane=top<br>X_optimized=%{x}<br>Y_optimized=%{y}<br>Z_optimized=%{z}<br>Mic_Index=%{text}<extra></extra>",
         "legendgroup": "top",
         "marker": {
          "color": "#ab63fa",
          "symbol": "circle"
         },
         "mode": "markers+text",
         "name": "top",
         "scene": "scene",
         "showlegend": true,
         "text": [
          "A1",
          "A2",
          "A3",
          "A4",
          "A5",
          "A6",
          "A7",
          "A8",
          "A9",
          "A10",
          "A11",
          "A12",
          "A13"
         ],
         "type": "scatter3d",
         "x": [
          0.8493005129940666,
          0.2803005129940666,
          0.5693005129940666,
          0.06330051299406655,
          0.4113005129940666,
          1.028300512994067,
          0.6843005129940666,
          0.4653005129940666,
          0.03430051299406649,
          0.7593005129940665,
          0.4543005129940665,
          1.349300512994067,
          0.1673005129940665
         ],
         "y": [
          1.21166964630419,
          1.11266964630419,
          1.09266964630419,
          0.8296696463041897,
          0.8226696463041896,
          0.8216696463041897,
          0.7756696463041897,
          0.5136696463041897,
          0.4866696463041895,
          0.3586696463041897,
          0.1206696463041894,
          0.09466964630418964,
          0.08266964630418956
         ],
         "z": [
          1.871,
          1.871,
          1.871,
          1.871,
          1.871,
          1.871,
          1.871,
          1.871,
          1.871,
          1.871,
          1.871,
          1.871,
          1.871
         ]
        },
        {
         "marker": {
          "color": "red",
          "size": 10
         },
         "mode": "markers+text",
         "name": "bassoon_high",
         "text": [
          "bassoon_high"
         ],
         "type": "scatter3d",
         "x": [
          0.5257270504102248
         ],
         "y": [
          -0.05682104576017928
         ],
         "z": [
          0.3518930770247588
         ]
        },
        {
         "marker": {
          "color": "red",
          "size": 10
         },
         "mode": "markers+text",
         "name": "camera_1",
         "text": [
          "camera_1"
         ],
         "type": "scatter3d",
         "x": [
          0.6986960438917849
         ],
         "y": [
          0.7016823714541304
         ],
         "z": [
          0.36455422788715813
         ]
        }
       ],
       "layout": {
        "height": 1000,
        "legend": {
         "title": {
          "text": "Plane"
         },
         "tracegroupgap": 0
        },
        "scene": {
         "domain": {
          "x": [
           0,
           1
          ],
          "y": [
           0,
           1
          ]
         },
         "xaxis": {
          "range": [
           1.5,
           0
          ],
          "title": {
           "text": "X_optimized"
          }
         },
         "yaxis": {
          "title": {
           "text": "Y_optimized"
          }
         },
         "zaxis": {
          "title": {
           "text": "Z_optimized"
          }
         }
        },
        "template": {
         "data": {
          "bar": [
           {
            "error_x": {
             "color": "#2a3f5f"
            },
            "error_y": {
             "color": "#2a3f5f"
            },
            "marker": {
             "line": {
              "color": "#E5ECF6",
              "width": 0.5
             },
             "pattern": {
              "fillmode": "overlay",
              "size": 10,
              "solidity": 0.2
             }
            },
            "type": "bar"
           }
          ],
          "barpolar": [
           {
            "marker": {
             "line": {
              "color": "#E5ECF6",
              "width": 0.5
             },
             "pattern": {
              "fillmode": "overlay",
              "size": 10,
              "solidity": 0.2
             }
            },
            "type": "barpolar"
           }
          ],
          "carpet": [
           {
            "aaxis": {
             "endlinecolor": "#2a3f5f",
             "gridcolor": "white",
             "linecolor": "white",
             "minorgridcolor": "white",
             "startlinecolor": "#2a3f5f"
            },
            "baxis": {
             "endlinecolor": "#2a3f5f",
             "gridcolor": "white",
             "linecolor": "white",
             "minorgridcolor": "white",
             "startlinecolor": "#2a3f5f"
            },
            "type": "carpet"
           }
          ],
          "choropleth": [
           {
            "colorbar": {
             "outlinewidth": 0,
             "ticks": ""
            },
            "type": "choropleth"
           }
          ],
          "contour": [
           {
            "colorbar": {
             "outlinewidth": 0,
             "ticks": ""
            },
            "colorscale": [
             [
              0,
              "#0d0887"
             ],
             [
              0.1111111111111111,
              "#46039f"
             ],
             [
              0.2222222222222222,
              "#7201a8"
             ],
             [
              0.3333333333333333,
              "#9c179e"
             ],
             [
              0.4444444444444444,
              "#bd3786"
             ],
             [
              0.5555555555555556,
              "#d8576b"
             ],
             [
              0.6666666666666666,
              "#ed7953"
             ],
             [
              0.7777777777777778,
              "#fb9f3a"
             ],
             [
              0.8888888888888888,
              "#fdca26"
             ],
             [
              1,
              "#f0f921"
             ]
            ],
            "type": "contour"
           }
          ],
          "contourcarpet": [
           {
            "colorbar": {
             "outlinewidth": 0,
             "ticks": ""
            },
            "type": "contourcarpet"
           }
          ],
          "heatmap": [
           {
            "colorbar": {
             "outlinewidth": 0,
             "ticks": ""
            },
            "colorscale": [
             [
              0,
              "#0d0887"
             ],
             [
              0.1111111111111111,
              "#46039f"
             ],
             [
              0.2222222222222222,
              "#7201a8"
             ],
             [
              0.3333333333333333,
              "#9c179e"
             ],
             [
              0.4444444444444444,
              "#bd3786"
             ],
             [
              0.5555555555555556,
              "#d8576b"
             ],
             [
              0.6666666666666666,
              "#ed7953"
             ],
             [
              0.7777777777777778,
              "#fb9f3a"
             ],
             [
              0.8888888888888888,
              "#fdca26"
             ],
             [
              1,
              "#f0f921"
             ]
            ],
            "type": "heatmap"
           }
          ],
          "heatmapgl": [
           {
            "colorbar": {
             "outlinewidth": 0,
             "ticks": ""
            },
            "colorscale": [
             [
              0,
              "#0d0887"
             ],
             [
              0.1111111111111111,
              "#46039f"
             ],
             [
              0.2222222222222222,
              "#7201a8"
             ],
             [
              0.3333333333333333,
              "#9c179e"
             ],
             [
              0.4444444444444444,
              "#bd3786"
             ],
             [
              0.5555555555555556,
              "#d8576b"
             ],
             [
              0.6666666666666666,
              "#ed7953"
             ],
             [
              0.7777777777777778,
              "#fb9f3a"
             ],
             [
              0.8888888888888888,
              "#fdca26"
             ],
             [
              1,
              "#f0f921"
             ]
            ],
            "type": "heatmapgl"
           }
          ],
          "histogram": [
           {
            "marker": {
             "pattern": {
              "fillmode": "overlay",
              "size": 10,
              "solidity": 0.2
             }
            },
            "type": "histogram"
           }
          ],
          "histogram2d": [
           {
            "colorbar": {
             "outlinewidth": 0,
             "ticks": ""
            },
            "colorscale": [
             [
              0,
              "#0d0887"
             ],
             [
              0.1111111111111111,
              "#46039f"
             ],
             [
              0.2222222222222222,
              "#7201a8"
             ],
             [
              0.3333333333333333,
              "#9c179e"
             ],
             [
              0.4444444444444444,
              "#bd3786"
             ],
             [
              0.5555555555555556,
              "#d8576b"
             ],
             [
              0.6666666666666666,
              "#ed7953"
             ],
             [
              0.7777777777777778,
              "#fb9f3a"
             ],
             [
              0.8888888888888888,
              "#fdca26"
             ],
             [
              1,
              "#f0f921"
             ]
            ],
            "type": "histogram2d"
           }
          ],
          "histogram2dcontour": [
           {
            "colorbar": {
             "outlinewidth": 0,
             "ticks": ""
            },
            "colorscale": [
             [
              0,
              "#0d0887"
             ],
             [
              0.1111111111111111,
              "#46039f"
             ],
             [
              0.2222222222222222,
              "#7201a8"
             ],
             [
              0.3333333333333333,
              "#9c179e"
             ],
             [
              0.4444444444444444,
              "#bd3786"
             ],
             [
              0.5555555555555556,
              "#d8576b"
             ],
             [
              0.6666666666666666,
              "#ed7953"
             ],
             [
              0.7777777777777778,
              "#fb9f3a"
             ],
             [
              0.8888888888888888,
              "#fdca26"
             ],
             [
              1,
              "#f0f921"
             ]
            ],
            "type": "histogram2dcontour"
           }
          ],
          "mesh3d": [
           {
            "colorbar": {
             "outlinewidth": 0,
             "ticks": ""
            },
            "type": "mesh3d"
           }
          ],
          "parcoords": [
           {
            "line": {
             "colorbar": {
              "outlinewidth": 0,
              "ticks": ""
             }
            },
            "type": "parcoords"
           }
          ],
          "pie": [
           {
            "automargin": true,
            "type": "pie"
           }
          ],
          "scatter": [
           {
            "fillpattern": {
             "fillmode": "overlay",
             "size": 10,
             "solidity": 0.2
            },
            "type": "scatter"
           }
          ],
          "scatter3d": [
           {
            "line": {
             "colorbar": {
              "outlinewidth": 0,
              "ticks": ""
             }
            },
            "marker": {
             "colorbar": {
              "outlinewidth": 0,
              "ticks": ""
             }
            },
            "type": "scatter3d"
           }
          ],
          "scattercarpet": [
           {
            "marker": {
             "colorbar": {
              "outlinewidth": 0,
              "ticks": ""
             }
            },
            "type": "scattercarpet"
           }
          ],
          "scattergeo": [
           {
            "marker": {
             "colorbar": {
              "outlinewidth": 0,
              "ticks": ""
             }
            },
            "type": "scattergeo"
           }
          ],
          "scattergl": [
           {
            "marker": {
             "colorbar": {
              "outlinewidth": 0,
              "ticks": ""
             }
            },
            "type": "scattergl"
           }
          ],
          "scattermapbox": [
           {
            "marker": {
             "colorbar": {
              "outlinewidth": 0,
              "ticks": ""
             }
            },
            "type": "scattermapbox"
           }
          ],
          "scatterpolar": [
           {
            "marker": {
             "colorbar": {
              "outlinewidth": 0,
              "ticks": ""
             }
            },
            "type": "scatterpolar"
           }
          ],
          "scatterpolargl": [
           {
            "marker": {
             "colorbar": {
              "outlinewidth": 0,
              "ticks": ""
             }
            },
            "type": "scatterpolargl"
           }
          ],
          "scatterternary": [
           {
            "marker": {
             "colorbar": {
              "outlinewidth": 0,
              "ticks": ""
             }
            },
            "type": "scatterternary"
           }
          ],
          "surface": [
           {
            "colorbar": {
             "outlinewidth": 0,
             "ticks": ""
            },
            "colorscale": [
             [
              0,
              "#0d0887"
             ],
             [
              0.1111111111111111,
              "#46039f"
             ],
             [
              0.2222222222222222,
              "#7201a8"
             ],
             [
              0.3333333333333333,
              "#9c179e"
             ],
             [
              0.4444444444444444,
              "#bd3786"
             ],
             [
              0.5555555555555556,
              "#d8576b"
             ],
             [
              0.6666666666666666,
              "#ed7953"
             ],
             [
              0.7777777777777778,
              "#fb9f3a"
             ],
             [
              0.8888888888888888,
              "#fdca26"
             ],
             [
              1,
              "#f0f921"
             ]
            ],
            "type": "surface"
           }
          ],
          "table": [
           {
            "cells": {
             "fill": {
              "color": "#EBF0F8"
             },
             "line": {
              "color": "white"
             }
            },
            "header": {
             "fill": {
              "color": "#C8D4E3"
             },
             "line": {
              "color": "white"
             }
            },
            "type": "table"
           }
          ]
         },
         "layout": {
          "annotationdefaults": {
           "arrowcolor": "#2a3f5f",
           "arrowhead": 0,
           "arrowwidth": 1
          },
          "autotypenumbers": "strict",
          "coloraxis": {
           "colorbar": {
            "outlinewidth": 0,
            "ticks": ""
           }
          },
          "colorscale": {
           "diverging": [
            [
             0,
             "#8e0152"
            ],
            [
             0.1,
             "#c51b7d"
            ],
            [
             0.2,
             "#de77ae"
            ],
            [
             0.3,
             "#f1b6da"
            ],
            [
             0.4,
             "#fde0ef"
            ],
            [
             0.5,
             "#f7f7f7"
            ],
            [
             0.6,
             "#e6f5d0"
            ],
            [
             0.7,
             "#b8e186"
            ],
            [
             0.8,
             "#7fbc41"
            ],
            [
             0.9,
             "#4d9221"
            ],
            [
             1,
             "#276419"
            ]
           ],
           "sequential": [
            [
             0,
             "#0d0887"
            ],
            [
             0.1111111111111111,
             "#46039f"
            ],
            [
             0.2222222222222222,
             "#7201a8"
            ],
            [
             0.3333333333333333,
             "#9c179e"
            ],
            [
             0.4444444444444444,
             "#bd3786"
            ],
            [
             0.5555555555555556,
             "#d8576b"
            ],
            [
             0.6666666666666666,
             "#ed7953"
            ],
            [
             0.7777777777777778,
             "#fb9f3a"
            ],
            [
             0.8888888888888888,
             "#fdca26"
            ],
            [
             1,
             "#f0f921"
            ]
           ],
           "sequentialminus": [
            [
             0,
             "#0d0887"
            ],
            [
             0.1111111111111111,
             "#46039f"
            ],
            [
             0.2222222222222222,
             "#7201a8"
            ],
            [
             0.3333333333333333,
             "#9c179e"
            ],
            [
             0.4444444444444444,
             "#bd3786"
            ],
            [
             0.5555555555555556,
             "#d8576b"
            ],
            [
             0.6666666666666666,
             "#ed7953"
            ],
            [
             0.7777777777777778,
             "#fb9f3a"
            ],
            [
             0.8888888888888888,
             "#fdca26"
            ],
            [
             1,
             "#f0f921"
            ]
           ]
          },
          "colorway": [
           "#636efa",
           "#EF553B",
           "#00cc96",
           "#ab63fa",
           "#FFA15A",
           "#19d3f3",
           "#FF6692",
           "#B6E880",
           "#FF97FF",
           "#FECB52"
          ],
          "font": {
           "color": "#2a3f5f"
          },
          "geo": {
           "bgcolor": "white",
           "lakecolor": "white",
           "landcolor": "#E5ECF6",
           "showlakes": true,
           "showland": true,
           "subunitcolor": "white"
          },
          "hoverlabel": {
           "align": "left"
          },
          "hovermode": "closest",
          "mapbox": {
           "style": "light"
          },
          "paper_bgcolor": "white",
          "plot_bgcolor": "#E5ECF6",
          "polar": {
           "angularaxis": {
            "gridcolor": "white",
            "linecolor": "white",
            "ticks": ""
           },
           "bgcolor": "#E5ECF6",
           "radialaxis": {
            "gridcolor": "white",
            "linecolor": "white",
            "ticks": ""
           }
          },
          "scene": {
           "xaxis": {
            "backgroundcolor": "#E5ECF6",
            "gridcolor": "white",
            "gridwidth": 2,
            "linecolor": "white",
            "showbackground": true,
            "ticks": "",
            "zerolinecolor": "white"
           },
           "yaxis": {
            "backgroundcolor": "#E5ECF6",
            "gridcolor": "white",
            "gridwidth": 2,
            "linecolor": "white",
            "showbackground": true,
            "ticks": "",
            "zerolinecolor": "white"
           },
           "zaxis": {
            "backgroundcolor": "#E5ECF6",
            "gridcolor": "white",
            "gridwidth": 2,
            "linecolor": "white",
            "showbackground": true,
            "ticks": "",
            "zerolinecolor": "white"
           }
          },
          "shapedefaults": {
           "line": {
            "color": "#2a3f5f"
           }
          },
          "ternary": {
           "aaxis": {
            "gridcolor": "white",
            "linecolor": "white",
            "ticks": ""
           },
           "baxis": {
            "gridcolor": "white",
            "linecolor": "white",
            "ticks": ""
           },
           "bgcolor": "#E5ECF6",
           "caxis": {
            "gridcolor": "white",
            "linecolor": "white",
            "ticks": ""
           }
          },
          "title": {
           "x": 0.05
          },
          "xaxis": {
           "automargin": true,
           "gridcolor": "white",
           "linecolor": "white",
           "ticks": "",
           "title": {
            "standoff": 15
           },
           "zerolinecolor": "white",
           "zerolinewidth": 2
          },
          "yaxis": {
           "automargin": true,
           "gridcolor": "white",
           "linecolor": "white",
           "ticks": "",
           "title": {
            "standoff": 15
           },
           "zerolinecolor": "white",
           "zerolinewidth": 2
          }
         }
        },
        "title": {
         "text": "3D Scatter Plot"
        },
        "width": 1000
       }
      }
     },
     "metadata": {},
     "output_type": "display_data"
    }
   ],
   "source": [
    "bassoon_high = triangulate_point(position_coords_optimized, distances, 3)[0]\n",
    "camera_1 = triangulate_point(position_coords_optimized, distances, 6)[0]\n",
    "\n",
    "\n",
    "fig = px.scatter_3d(mic_coords, x='X_optimized', y='Y_optimized', z='Z_optimized', text='Mic_Index', title='3D Scatter Plot', color='Plane', width=1000, height=1000)\n",
    "\n",
    "\n",
    "# Add the single point to the existing figure\n",
    "fig.add_trace(go.Scatter3d(\n",
    "    x=[bassoon_high[0]],  # x-coordinate of the single point\n",
    "    y=[bassoon_high[1]],  # y-coordinate of the single point\n",
    "    z=[bassoon_high[2]],  # z-coordinate of the single point\n",
    "    mode='markers+text',  # Include markers and optional text\n",
    "    marker=dict(size=10, color='red'),  # Customize the marker style\n",
    "    text=['bassoon_high'],  # Optional text label for the point\n",
    "    name='bassoon_high'  # Legend entry\n",
    "))\n",
    "\n",
    "# Add the single point to the existing figure\n",
    "fig.add_trace(go.Scatter3d(\n",
    "    x=[camera_1[0]],  # x-coordinate of the single point\n",
    "    y=[camera_1[1]],  # y-coordinate of the single point\n",
    "    z=[camera_1[2]],  # z-coordinate of the single point\n",
    "    mode='markers+text',  # Include markers and optional text\n",
    "    marker=dict(size=10, color='red'),  # Customize the marker style\n",
    "    text=['camera_1'],  # Optional text label for the point\n",
    "    name='camera_1'  # Legend entry\n",
    "))\n",
    "\n",
    "\n",
    "fig.update_layout(scene=dict(\n",
    "    xaxis=dict(range=[1.5, 0]), # x-Achse umdrehen - \"linke hand regel\"\n",
    "))\n",
    "\n",
    "# Plot anzeigen\n",
    "fig.show()"
   ]
  }
 ],
 "metadata": {
  "kernelspec": {
   "display_name": "AsSSASoSe23",
   "language": "python",
   "name": "python3"
  },
  "language_info": {
   "codemirror_mode": {
    "name": "ipython",
    "version": 3
   },
   "file_extension": ".py",
   "mimetype": "text/x-python",
   "name": "python",
   "nbconvert_exporter": "python",
   "pygments_lexer": "ipython3",
   "version": "3.9.16"
  }
 },
 "nbformat": 4,
 "nbformat_minor": 2
}
