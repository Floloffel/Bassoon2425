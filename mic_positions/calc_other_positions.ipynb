{
 "cells": [
  {
   "cell_type": "code",
   "execution_count": 75,
   "metadata": {},
   "outputs": [],
   "source": [
    "import numpy as np \n",
    "import pandas as pd"
   ]
  },
  {
   "cell_type": "code",
   "execution_count": 76,
   "metadata": {},
   "outputs": [
    {
     "name": "stdout",
     "output_type": "stream",
     "text": [
      "                        point 1 point 2  distance\n",
      "0   basson lower mounting point      B3     0.505\n",
      "1   basson lower mounting point     B10     0.740\n",
      "2   basson lower mounting point      B6     0.684\n",
      "3        basson bell top middle     C12     0.484\n",
      "4        basson bell top middle     C16     0.560\n",
      "5        basson bell top middle     C17     0.493\n",
      "6   camera pos 1 (lense center)      B5     0.826\n",
      "7   camera pos 1 (lense center)      C6     0.837\n",
      "8   camera pos 1 (lense center)     A10     1.490\n",
      "9                  camera pos 2      A7     0.470\n",
      "10                 camera pos 2     B13     0.835\n",
      "11                 camera pos 2     C14     0.926\n"
     ]
    }
   ],
   "source": [
    "mic_coords = pd.read_excel(\"data/mic_coords_final.xlsx\", index_col=0)\n",
    "distances = pd.read_excel(\"data/miscellaneous_positions.xlsx\", index_col=0)\n",
    "\n",
    "# remove NaNs\n",
    "distances = distances.drop(index=[12, 13])\n",
    "print(distances)\n",
    "\n",
    "def get_mic_coords(name, df, x, y, z):\n",
    "    filtered_df = df[df['Mic_Index'] == name]\n",
    "    coordinates = filtered_df[[x, y, z]].to_numpy()\n",
    "    return coordinates[0]\n",
    "\n",
    "#coords = get_mic_coords(\"B4\", mic_coords, \"X\", \"Y\", \"Z\")\n",
    "\n",
    "items = [\"basson_low\", \"basson_high\", \"camera_1\", \"camera_2\"]\n",
    "\n",
    "position_coords_default = []\n",
    "for name in distances[\"point 2\"]:\n",
    "    coord = get_mic_coords(name, mic_coords, \"X\", \"Y\", \"Z\")\n",
    "    position_coords_default.append(coord)\n",
    "\n",
    "position_coords_optimized = []\n",
    "for name in distances[\"point 2\"]:\n",
    "    coord = get_mic_coords(name, mic_coords, \"X_optimized\", \"Y_optimized\", \"Z_optimized\")\n",
    "    position_coords_optimized.append(coord)\n",
    "\n"
   ]
  },
  {
   "cell_type": "code",
   "execution_count": 82,
   "metadata": {},
   "outputs": [
    {
     "name": "stdout",
     "output_type": "stream",
     "text": [
      "DEFAULT CALCULATED VALUES\n",
      "\n",
      "basson_low\n",
      "z_squared =  -1.6732682979236642\n",
      "Coordinates of the unknown point:\n",
      "x: 5.551115123125783e-17, y: 1.028945827439887, z: ±None\n",
      "\n",
      "basson_high\n",
      "z_squared =  0.12382873765795283\n",
      "Coordinates of the unknown point:\n",
      "x: 0.519369940308797, y: 0.0, z: ±0.3518930770247588\n",
      "\n",
      "camera_1\n",
      "z_squared =  0.1774531162692473\n",
      "Coordinates of the unknown point:\n",
      "x: 0.6892581157127653, y: 0.7052751790482733, z: ±0.4212518442324583\n",
      "\n",
      "camera_2\n",
      "z_squared =  -2.3338110273767843\n",
      "Coordinates of the unknown point:\n",
      "x: -0.24319943832747654, y: 1.1540472506670563, z: ±None\n",
      "\n",
      "\n",
      "OPTIMIZED VALUES\n",
      "basson_low\n",
      "z_squared =  -1.819024328491085\n",
      "Coordinates of the unknown point:\n",
      "x: 0.00223031678506469, y: 1.0053779533482348, z: ±None\n",
      "\n",
      "basson_high\n",
      "z_squared =  0.12382873765795283\n",
      "Coordinates of the unknown point:\n",
      "x: 0.5257270504102248, y: -0.05682104576017928, z: ±0.3518930770247588\n",
      "\n",
      "camera_1\n",
      "z_squared =  0.132899785070402\n",
      "Coordinates of the unknown point:\n",
      "x: 0.6986960438917849, y: 0.7016823714541304, z: ±0.36455422788715813\n",
      "\n",
      "camera_2\n",
      "z_squared =  -2.5361377215643572\n",
      "Coordinates of the unknown point:\n",
      "x: -0.20667685426861693, y: 1.107267247639946, z: ±None\n",
      "\n"
     ]
    }
   ],
   "source": [
    "def triangulate_point(list_coords, df_distances, start):\n",
    "    P1 = list_coords[start]\n",
    "    P2 = list_coords[start+1]\n",
    "    P3 = list_coords[start+2]\n",
    "\n",
    "    d1 = df_distances[\"distance\"][start]\n",
    "    d2 = df_distances[\"distance\"][start+1]\n",
    "    d3 = df_distances[\"distance\"][start+2]\n",
    "\n",
    "    # Build the system of linear equations\n",
    "    A = 2 * np.array([\n",
    "        [P2[0] - P1[0], P2[1] - P1[1], P2[2] - P1[2]],\n",
    "        [P3[0] - P1[0], P3[1] - P1[1], P3[2] - P1[2]]\n",
    "        ])\n",
    "\n",
    "    b = np.array([\n",
    "        d1**2 - d2**2 + np.dot(P2, P2) - np.dot(P1, P1),\n",
    "        d1**2 - d3**2 + np.dot(P3, P3) - np.dot(P1, P1)\n",
    "        ])\n",
    "\n",
    "    # Solve for x, y, z using least squares\n",
    "    xyz = np.linalg.lstsq(A, b, rcond=None)[0]\n",
    "\n",
    "    # Compute z-coordinate explicitly (if needed)\n",
    "    z_squared = d1**2 - np.dot(xyz - P1, xyz - P1)\n",
    "    print(\"z_squared = \", z_squared) # complex means bad :(\n",
    "    z = np.sqrt(z_squared) if z_squared >= 0 else None\n",
    "\n",
    "    print(\"Coordinates of the unknown point:\")\n",
    "    print(f\"x: {xyz[0]}, y: {xyz[1]}, z: ±{z}\")\n",
    "\n",
    "\n",
    "start_points = [0, 3, 6, 9]\n",
    "\n",
    "print(\"DEFAULT CALCULATED VALUES\")\n",
    "print(\"\")\n",
    "for start, item in zip(start_points, items):\n",
    "    print(item)\n",
    "    triangulate_point(position_coords_default, distances, start)\n",
    "    print(\"\")\n",
    "\n",
    "\n",
    "print(\"\")\n",
    "print(\"OPTIMIZED VALUES\")\n",
    "for start, item in zip(start_points, items):\n",
    "    print(item)\n",
    "    triangulate_point(position_coords_optimized, distances, start)\n",
    "    print(\"\")\n",
    "\n"
   ]
  },
  {
   "cell_type": "code",
   "execution_count": 78,
   "metadata": {},
   "outputs": [
    {
     "name": "stdout",
     "output_type": "stream",
     "text": [
      "0.703 = distance B10 to B3\n",
      "0.737 = distance B6 to B3\n",
      "0.713 = distance B10 to B6\n"
     ]
    }
   ],
   "source": [
    "from _mic_position_functions import calculate_distance\n",
    "\n",
    "_ = calculate_distance(mic_coords, \"B10\", \"B3\", x_col=\"X_optimized\", y_col=\"Y_optimized\", z_col=\"Z_optimized\")\n",
    "_ = calculate_distance(mic_coords, \"B6\", \"B3\", x_col=\"X_optimized\", y_col=\"Y_optimized\", z_col=\"Z_optimized\")\n",
    "_ = calculate_distance(mic_coords, \"B10\", \"B6\", x_col=\"X_optimized\", y_col=\"Y_optimized\", z_col=\"Z_optimized\")"
   ]
  }
 ],
 "metadata": {
  "kernelspec": {
   "display_name": "AsSSASoSe23",
   "language": "python",
   "name": "python3"
  },
  "language_info": {
   "codemirror_mode": {
    "name": "ipython",
    "version": 3
   },
   "file_extension": ".py",
   "mimetype": "text/x-python",
   "name": "python",
   "nbconvert_exporter": "python",
   "pygments_lexer": "ipython3",
   "version": "3.9.16"
  }
 },
 "nbformat": 4,
 "nbformat_minor": 2
}
