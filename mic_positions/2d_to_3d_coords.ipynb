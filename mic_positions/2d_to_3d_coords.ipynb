{
 "cells": [
  {
   "cell_type": "code",
   "execution_count": 8,
   "metadata": {},
   "outputs": [],
   "source": [
    "import pandas as pd\n",
    "import numpy as np"
   ]
  },
  {
   "cell_type": "code",
   "execution_count": 9,
   "metadata": {},
   "outputs": [],
   "source": [
    "\n",
    "file_path = r\"data\\side_postions_measured.xlsx\"\n",
    "df = pd.read_excel(file_path, engine='openpyxl', index_col=0)\n",
    "\n",
    "# cut empty rows\n",
    "df = df.head(64)"
   ]
  },
  {
   "cell_type": "code",
   "execution_count": 10,
   "metadata": {},
   "outputs": [
    {
     "name": "stdout",
     "output_type": "stream",
     "text": [
      "     Mic_Index  Plane      X      Y      Z\n",
      "0.0         B1  right  1.370  0.734  0.020\n",
      "1.0         B2  right  1.370  0.987  0.266\n",
      "2.0         B3  right  1.370  0.336  0.287\n",
      "3.0         B4  right  1.370  1.398  0.380\n",
      "4.0         B5  right  1.370  0.647  0.425\n",
      "...        ...    ...    ...    ...    ...\n",
      "59.0        A9    top  1.405  0.521  1.871\n",
      "60.0       A10    top  0.680  0.393  1.871\n",
      "61.0       A11    top  0.985  0.155  1.871\n",
      "62.0       A12    top  0.332  0.129  1.871\n",
      "63.0       A13    top  1.272  0.117  1.871\n",
      "\n",
      "[64 rows x 5 columns]\n"
     ]
    }
   ],
   "source": [
    "df_3d = df.copy()\n",
    "\n",
    "\n",
    "# all distances in meteres\n",
    "# grid = innenseite vom gitter an den Seiten\n",
    "# frame = unterseite vom Aluprofil \n",
    "\n",
    "MicOffsetInside = 0.028 # wie weit die mics vom grid nach innen reichen\n",
    "MicOffsetInsideTop = 0.013 # wie weit die mics vom frame nach innen reichen\n",
    "\n",
    "side_grid_width = 1.378 #measured width of side grid\n",
    "top_grid_width_Y = 1.23 # measured width of top frame ( 2D-Y direction )\n",
    "top_grid_width_X = 1.46 # measured width of top frame ( 2D-X direction )\n",
    "\n",
    "TopFrameYOffset = 0.069 # Y distance between front plane and edge of top grid (Gitter zu Aluprofilkante)\n",
    "\n",
    "# X distance between edge of top frame and left / right grid\n",
    "XSideOffsetLeft = 0.01\n",
    "XSideOffsetRight = 0.01\n",
    "\n",
    "# Y  distance between front grid and edge of left/right grid\n",
    "YSideOffsetLeft = 0.088\n",
    "YSideOffsetRight = 0.085\n",
    "\n",
    "# distance between top frame and lower edge of side grids (Z = 0)\n",
    "TopOffset = 1.884\n",
    "\n",
    "x_2d = \"X measured\"\n",
    "y_2d = \"Y measured\"\n",
    "\n",
    "# translate 2d coordinates to 3d coordinates\n",
    "# for left plane\n",
    "df_3d.loc[df_3d[\"Plane\"] == \"left\", \"X\"] = 0 + MicOffsetInside\n",
    "df_3d.loc[df_3d[\"Plane\"] == \"left\", \"Y\"] = -df[x_2d] + side_grid_width + YSideOffsetLeft\n",
    "df_3d.loc[df_3d[\"Plane\"] == \"left\", \"Z\"] = df[y_2d]\n",
    "\n",
    "# for front plane\n",
    "df_3d.loc[df_3d[\"Plane\"] == \"front\", \"X\"] = df[x_2d] + XSideOffsetLeft\n",
    "df_3d.loc[df_3d[\"Plane\"] == \"front\", \"Y\"] = 0 + MicOffsetInside\n",
    "df_3d.loc[df_3d[\"Plane\"] == \"front\", \"Z\"] = df[y_2d]\n",
    "\n",
    "# for right plane\n",
    "df_3d.loc[df_3d[\"Plane\"] == \"right\", \"X\"] = side_grid_width + XSideOffsetLeft + XSideOffsetRight - MicOffsetInside\n",
    "df_3d.loc[df_3d[\"Plane\"] == \"right\", \"Y\"] = df[x_2d]  + YSideOffsetRight\n",
    "df_3d.loc[df_3d[\"Plane\"] == \"right\", \"Z\"] = df[y_2d]\n",
    "\n",
    "# for top plane\n",
    "df_3d.loc[df_3d[\"Plane\"] == \"top\", \"X\"] = -df[x_2d] + top_grid_width_X + XSideOffsetLeft\n",
    "df_3d.loc[df_3d[\"Plane\"] == \"top\", \"Y\"] = -df[y_2d] + top_grid_width_Y + TopFrameYOffset\n",
    "df_3d.loc[df_3d[\"Plane\"] == \"top\", \"Z\"] = TopOffset - MicOffsetInsideTop\n",
    "\n",
    "# drop 2D values\n",
    "df_3d.drop(columns = \"X measured\")\n",
    "df_3d.drop(columns = \"Y measured\")\n",
    "\n",
    "columns_order = [\n",
    "    \"Mic_Index\",\n",
    "    \"Plane\",\n",
    "    \"X\",\n",
    "    \"Y\",\n",
    "    \"Z\",\n",
    "    ]\n",
    "df_3d = df_3d[columns_order]\n",
    "\n",
    "\n",
    "# write and print df\n",
    "\n",
    "df_3d.to_excel(\"data/3d_measured_coords.xlsx\", engine='openpyxl')\n",
    "print(df_3d)"
   ]
  }
 ],
 "metadata": {
  "kernelspec": {
   "display_name": "AsSSASoSe23",
   "language": "python",
   "name": "python3"
  },
  "language_info": {
   "codemirror_mode": {
    "name": "ipython",
    "version": 3
   },
   "file_extension": ".py",
   "mimetype": "text/x-python",
   "name": "python",
   "nbconvert_exporter": "python",
   "pygments_lexer": "ipython3",
   "version": "3.9.16"
  }
 },
 "nbformat": 4,
 "nbformat_minor": 2
}
