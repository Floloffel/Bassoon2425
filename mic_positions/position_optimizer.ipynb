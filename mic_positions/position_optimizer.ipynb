{
 "cells": [
  {
   "cell_type": "code",
   "execution_count": 90,
   "metadata": {},
   "outputs": [],
   "source": [
    "# imports\n",
    "import numpy as np\n",
    "import pandas as pd\n",
    "import scipy as sp \n",
    "import math\n",
    "from calc_mic_distances import calculate_distance"
   ]
  },
  {
   "cell_type": "markdown",
   "metadata": {},
   "source": [
    "steps:\n",
    "* import meaasured 3d mic positions and distance measurements\n",
    "* only use points with measured distance\n",
    "* calculate sum of squarred errors\n",
    "* build a mic positions model with parameters (offsets and tilt)\n",
    "* optimize those paramters for minimal sum of squarred errors\n",
    "* return optimized paramters and mic positions"
   ]
  },
  {
   "cell_type": "code",
   "execution_count": 91,
   "metadata": {},
   "outputs": [
    {
     "name": "stdout",
     "output_type": "stream",
     "text": [
      "1.803 = distance A1 to B2\n"
     ]
    }
   ],
   "source": [
    "# read meaasured 3d mic positions\n",
    "\n",
    "df_mic_coords = pd.read_excel(\"data/3d_measured_coords.xlsx\", index_col=0)\n",
    "\n",
    "_ = calculate_distance(df_mic_coords, \"A1\", \"B2\")\n",
    "\n",
    "# read distance measurements\n",
    "df_distances = pd.read_excel(\"data/mic_pos_distances.xlsx\")"
   ]
  },
  {
   "cell_type": "code",
   "execution_count": 92,
   "metadata": {},
   "outputs": [
    {
     "name": "stdout",
     "output_type": "stream",
     "text": [
      "  Mic_Index 1 Mic_Index 2  dist measured  dist calculated  error\n",
      "0         D13         D16          1.260            1.256  0.004\n",
      "1         B17         C16          0.670            0.673 -0.003\n",
      "2         C10         D10          1.175            1.181 -0.006\n",
      "3          C2         B15          1.650            1.651 -0.001\n",
      "4          A7          B6          1.416            1.397  0.019\n",
      "\n",
      "all distances checked\n"
     ]
    }
   ],
   "source": [
    "# check if calculated distances match\n",
    "\n",
    "print(df_distances.head())\n",
    "\n",
    "print(\"\")\n",
    "for index, row in df_distances.iterrows():\n",
    "    \n",
    "    dist = calculate_distance(df_mic_coords, row[0], row[1], print_dist=False)\n",
    "\n",
    "    if math.isclose(dist, df_distances[\"dist calculated\"][index], abs_tol=0.001) == False:\n",
    "        print(index)\n",
    "        print(\"different distance\")\n",
    "\n",
    "print(\"all distances checked\")"
   ]
  },
  {
   "cell_type": "code",
   "execution_count": 93,
   "metadata": {},
   "outputs": [
    {
     "name": "stdout",
     "output_type": "stream",
     "text": [
      "25 different mics used for measurng distances\n",
      "\n",
      "   Mic_Index  Plane      X      Y      Z\n",
      "5         B6  right  1.370  0.989  0.629\n",
      "7         B8  right  1.370  1.315  0.718\n",
      "12       B13  right  1.370  0.157  1.257\n",
      "14       B15  right  1.370  1.044  1.485\n",
      "15       B16  right  1.370  1.392  1.510\n",
      "16       B17  right  1.370  0.674  1.689\n",
      "18        C2  front  0.913  0.028  0.267\n",
      "20        C4  front  1.322  0.028  0.380\n",
      "21        C5  front  0.571  0.028  0.425\n",
      "26       C10  front  0.299  0.028  0.990\n",
      "32       C16  front  1.313  0.028  1.508\n",
      "34        D1   left  0.028  0.817  0.023\n",
      "36        D3   left  0.028  1.215  0.289\n",
      "38        D5   left  0.028  0.905  0.427\n",
      "40        D7   left  0.028  1.331  0.677\n",
      "43       D10   left  0.028  1.177  0.990\n",
      "46       D13   left  0.028  1.392  1.260\n",
      "49       D16   left  0.028  0.161  1.511\n",
      "50       D17   left  0.028  0.877  1.690\n",
      "51        A1    top  0.590  1.246  1.871\n",
      "54        A4    top  1.376  0.864  1.871\n",
      "55        A5    top  1.028  0.857  1.871\n",
      "56        A6    top  0.411  0.856  1.871\n",
      "57        A7    top  0.755  0.810  1.871\n",
      "60       A10    top  0.680  0.393  1.871\n"
     ]
    }
   ],
   "source": [
    "# get all mic positions used for measurng distances\n",
    "# get indixes\n",
    "measured_mic_pos = []\n",
    "\n",
    "for mic_index_temp in df_distances[\"Mic_Index 1\"]:\n",
    "    measured_mic_pos.append(mic_index_temp)\n",
    "\n",
    "for mic_index_temp in df_distances[\"Mic_Index 2\"]:\n",
    "    measured_mic_pos.append(mic_index_temp)\n",
    "\n",
    "measured_mic_pos = set(measured_mic_pos) # remove double values\n",
    "measured_mic_pos = sorted(measured_mic_pos) # sort values\n",
    "\n",
    "# filter dataframe\n",
    "df_mic_coords_filtered = df_mic_coords[df_mic_coords.isin(measured_mic_pos).any(axis=1)]\n",
    "\n",
    "\n",
    "print(len(measured_mic_pos), \"different mics used for measurng distances\")\n",
    "print(\"\")\n",
    "print(df_mic_coords_filtered)"
   ]
  },
  {
   "cell_type": "code",
   "execution_count": 94,
   "metadata": {},
   "outputs": [
    {
     "name": "stdout",
     "output_type": "stream",
     "text": [
      "0.00696 = default sum of squared errors\n"
     ]
    }
   ],
   "source": [
    "# calculate sum of squarred errors\n",
    "\n",
    "for index, row in df_distances.iterrows():\n",
    "    \n",
    "    dist = calculate_distance(df_mic_coords_filtered, row[0], row[1], print_dist=False)\n",
    "    sq_error = (dist - df_distances[\"dist measured\"][index])**2\n",
    "    df_distances.loc[index, \"squared error\"] = sq_error\n",
    "\n",
    "sum_sq_errors_default = df_distances[\"squared error\"].sum()\n",
    "print(round(sum_sq_errors_default, 5), \"= default sum of squared errors\")\n"
   ]
  },
  {
   "cell_type": "code",
   "execution_count": 99,
   "metadata": {},
   "outputs": [
    {
     "name": "stdout",
     "output_type": "stream",
     "text": [
      "15 parameter in total\n",
      "[0.4, 0.7, 0.8, 0, 40, -30, 0.5, 0, 30, -50, -0.3, 0.6, 0, -50, 20]\n"
     ]
    }
   ],
   "source": [
    "# TODO# build parametric model\n",
    "\n",
    "# parameter:\n",
    "\n",
    "# translations = shift = offset\n",
    "\n",
    "# Rotations:\n",
    "# Roll (rotation around the plane's local X-axis)\n",
    "# Pitch (rotation around the plane's local Y-axis)\n",
    "# Yaw (rotation around the plane's local Z-axis) --> assumption: no yaw\n",
    "\n",
    "# shift is in m\n",
    "# roll & pitch in degrees\n",
    "\n",
    "# top plane\n",
    "A_x_shift = 0.4\n",
    "A_y_shift = 0.7\n",
    "\n",
    "# left plane\n",
    "# B_x_shift = 0 # keep 0 for reference\n",
    "B_y_shift = 0.8\n",
    "B_z_shift = 0\n",
    "B_roll = 40 # rotation over 3d y axis \n",
    "B_pitch = -30 # rotation over 3d z axis\n",
    "\n",
    "# front plane\n",
    "C_x_shift = 0.5\n",
    "# C_y_shift = 0 # keep 0 for reference\n",
    "C_z_shift = 0\n",
    "C_roll = 30 # rotation over 3d x axis \n",
    "C_pitch = -50 # rotation over 3d z axis\n",
    "\n",
    "# right_plane\n",
    "D_x_shift = -0.3\n",
    "D_y_shift = 0.6\n",
    "D_z_shift = 0\n",
    "D_roll = -50 # rotation over 3d y axis \n",
    "D_pitch = 20 # rotation over 3d z axis\n",
    "\n",
    "\n",
    "initial_parameters = [\n",
    "    A_x_shift,\n",
    "    A_y_shift,\n",
    "    B_y_shift,\n",
    "    B_z_shift,\n",
    "    B_roll,\n",
    "    B_pitch,\n",
    "    C_x_shift,\n",
    "    C_z_shift,\n",
    "    C_roll,\n",
    "    C_pitch,\n",
    "    D_x_shift,\n",
    "    D_y_shift,\n",
    "    D_z_shift,\n",
    "    D_roll,\n",
    "    D_pitch\n",
    "    ]\n",
    "\n",
    "\n",
    "print(len(initial_parameters), \"parameter in total\")\n",
    "print(initial_parameters)"
   ]
  },
  {
   "cell_type": "code",
   "execution_count": 96,
   "metadata": {},
   "outputs": [
    {
     "ename": "IndexError",
     "evalue": "list index out of range",
     "output_type": "error",
     "traceback": [
      "\u001b[1;31m---------------------------------------------------------------------------\u001b[0m",
      "\u001b[1;31mIndexError\u001b[0m                                Traceback (most recent call last)",
      "Cell \u001b[1;32mIn[96], line 54\u001b[0m\n\u001b[0;32m     50\u001b[0m     df_mic_coords \u001b[38;5;241m=\u001b[39m pandas_rotation(df_mic_coords, \u001b[38;5;124m\"\u001b[39m\u001b[38;5;124mright\u001b[39m\u001b[38;5;124m\"\u001b[39m, initial_parameters[\u001b[38;5;241m14\u001b[39m], initial_parameters[\u001b[38;5;241m15\u001b[39m], \u001b[38;5;124m\"\u001b[39m\u001b[38;5;124my\u001b[39m\u001b[38;5;124m\"\u001b[39m, \u001b[38;5;124m\"\u001b[39m\u001b[38;5;124mz\u001b[39m\u001b[38;5;124m\"\u001b[39m)\n\u001b[0;32m     52\u001b[0m     \u001b[38;5;28;01mreturn\u001b[39;00m df_mic_coords\n\u001b[1;32m---> 54\u001b[0m df_mic_coords_optimized \u001b[38;5;241m=\u001b[39m \u001b[43mparametric_model\u001b[49m\u001b[43m(\u001b[49m\u001b[43mdf_mic_coords\u001b[49m\u001b[38;5;241;43m=\u001b[39;49m\u001b[43mdf_mic_coords\u001b[49m\u001b[43m,\u001b[49m\u001b[43m \u001b[49m\u001b[43minitial_parameters\u001b[49m\u001b[38;5;241;43m=\u001b[39;49m\u001b[43minitial_parameters\u001b[49m\u001b[43m)\u001b[49m\n",
      "Cell \u001b[1;32mIn[96], line 50\u001b[0m, in \u001b[0;36mparametric_model\u001b[1;34m(df_mic_coords, initial_parameters)\u001b[0m\n\u001b[0;32m     48\u001b[0m df_mic_coords\u001b[38;5;241m.\u001b[39mloc[df_mic_coords[\u001b[38;5;124m\"\u001b[39m\u001b[38;5;124mPlane\u001b[39m\u001b[38;5;124m\"\u001b[39m]\u001b[38;5;241m.\u001b[39misin([\u001b[38;5;124m\"\u001b[39m\u001b[38;5;124mright\u001b[39m\u001b[38;5;124m\"\u001b[39m]), \u001b[38;5;124m\"\u001b[39m\u001b[38;5;124mY_optimized\u001b[39m\u001b[38;5;124m\"\u001b[39m] \u001b[38;5;241m+\u001b[39m\u001b[38;5;241m=\u001b[39m initial_parameters[\u001b[38;5;241m12\u001b[39m]\n\u001b[0;32m     49\u001b[0m df_mic_coords\u001b[38;5;241m.\u001b[39mloc[df_mic_coords[\u001b[38;5;124m\"\u001b[39m\u001b[38;5;124mPlane\u001b[39m\u001b[38;5;124m\"\u001b[39m]\u001b[38;5;241m.\u001b[39misin([\u001b[38;5;124m\"\u001b[39m\u001b[38;5;124mright\u001b[39m\u001b[38;5;124m\"\u001b[39m]), \u001b[38;5;124m\"\u001b[39m\u001b[38;5;124mZ_optimized\u001b[39m\u001b[38;5;124m\"\u001b[39m] \u001b[38;5;241m+\u001b[39m\u001b[38;5;241m=\u001b[39m initial_parameters[\u001b[38;5;241m13\u001b[39m]\n\u001b[1;32m---> 50\u001b[0m df_mic_coords \u001b[38;5;241m=\u001b[39m pandas_rotation(df_mic_coords, \u001b[38;5;124m\"\u001b[39m\u001b[38;5;124mright\u001b[39m\u001b[38;5;124m\"\u001b[39m, initial_parameters[\u001b[38;5;241m14\u001b[39m], \u001b[43minitial_parameters\u001b[49m\u001b[43m[\u001b[49m\u001b[38;5;241;43m15\u001b[39;49m\u001b[43m]\u001b[49m, \u001b[38;5;124m\"\u001b[39m\u001b[38;5;124my\u001b[39m\u001b[38;5;124m\"\u001b[39m, \u001b[38;5;124m\"\u001b[39m\u001b[38;5;124mz\u001b[39m\u001b[38;5;124m\"\u001b[39m)\n\u001b[0;32m     52\u001b[0m \u001b[38;5;28;01mreturn\u001b[39;00m df_mic_coords\n",
      "\u001b[1;31mIndexError\u001b[0m: list index out of range"
     ]
    }
   ],
   "source": [
    "#build function for 3 model\n",
    "\n",
    "def pandas_rotation(df_mic_coords,plane_to_rotate, roll, pitch, roll_axis, pitch_axis):\n",
    "    \n",
    "    # create rotation object\n",
    "    planes_to_rotate_formatted = roll_axis+pitch_axis\n",
    "    r = sp.spatial.transform.Rotation.from_euler(planes_to_rotate_formatted, [roll, pitch], degrees=True)\n",
    "    \n",
    "    # filter plane to rotate (left, rigth, etc.)\n",
    "    filtered_df = df_mic_coords[df_mic_coords['Plane'].isin([plane_to_rotate])]\n",
    "\n",
    "    coordinates = filtered_df[[\"X_optimized\", \"Y_optimized\", \"Z_optimized\"]].to_numpy()\n",
    "\n",
    "    # Apply the rotation to the filtered subset of coordinates\n",
    "    rotated_coordinates = r.apply(coordinates)\n",
    "\n",
    "    # Update the original DataFrame with the rotated coordinates\n",
    "    df_mic_coords.loc[filtered_df.index, ['X_optimized', 'Y_optimized', 'Z_optimized']] = rotated_coordinates\n",
    "\n",
    "    return df_mic_coords\n",
    "\n",
    "\n",
    "\n",
    "def parametric_model(df_mic_coords, initial_parameters):\n",
    "\n",
    "    # copy initial coords to preserve them\n",
    "    df_mic_coords[\"X_optimized\"] = df_mic_coords[\"X\"]\n",
    "    df_mic_coords[\"Y_optimized\"] = df_mic_coords[\"Y\"]\n",
    "    df_mic_coords[\"Z_optimized\"] = df_mic_coords[\"Z\"]\n",
    "\n",
    "    # top plane xy shift\n",
    "    df_mic_coords.loc[df_mic_coords[\"Plane\"].isin([\"top\"]), \"X_optimized\"] += initial_parameters[0]\n",
    "    df_mic_coords.loc[df_mic_coords[\"Plane\"].isin([\"top\"]), \"Y_optimized\"] += initial_parameters[1]\n",
    "\n",
    "    # left plane y, z shift and rotation\n",
    "    df_mic_coords.loc[df_mic_coords[\"Plane\"].isin([\"left\"]), \"Y_optimized\"] += initial_parameters[2]\n",
    "    df_mic_coords.loc[df_mic_coords[\"Plane\"].isin([\"left\"]), \"Z_optimized\"] += initial_parameters[3]\n",
    "    df_mic_coords = pandas_rotation(df_mic_coords, \"left\", initial_parameters[4], initial_parameters[5], \"y\", \"z\")\n",
    "\n",
    "    # front plane x shift and rotation\n",
    "    df_mic_coords.loc[df_mic_coords[\"Plane\"].isin([\"front\"]), \"X_optimized\"] += initial_parameters[6]\n",
    "    df_mic_coords.loc[df_mic_coords[\"Plane\"].isin([\"front\"]), \"Z_optimized\"] += initial_parameters[7]\n",
    "    df_mic_coords = pandas_rotation(df_mic_coords, \"front\", initial_parameters[8], initial_parameters[9], \"x\", \"z\")\n",
    "\n",
    "    # right plane x,y shift & rotatiotn\n",
    "    df_mic_coords.loc[df_mic_coords[\"Plane\"].isin([\"right\"]), \"X_optimized\"] += initial_parameters[10]\n",
    "    df_mic_coords.loc[df_mic_coords[\"Plane\"].isin([\"right\"]), \"Y_optimized\"] += initial_parameters[11]\n",
    "    df_mic_coords.loc[df_mic_coords[\"Plane\"].isin([\"right\"]), \"Z_optimized\"] += initial_parameters[12]\n",
    "    df_mic_coords = pandas_rotation(df_mic_coords, \"right\", initial_parameters[13], initial_parameters[14], \"y\", \"z\")\n",
    "\n",
    "    return df_mic_coords\n",
    "\n",
    "df_mic_coords_optimized = parametric_model(df_mic_coords=df_mic_coords, initial_parameters=initial_parameters)\n"
   ]
  },
  {
   "cell_type": "code",
   "execution_count": 87,
   "metadata": {},
   "outputs": [
    {
     "data": {
      "application/vnd.plotly.v1+json": {
       "config": {
        "plotlyServerURL": "https://plot.ly"
       },
       "data": [
        {
         "hovertemplate": "Plane=right<br>X_optimized=%{x}<br>Y_optimized=%{y}<br>Z_optimized=%{z}<br>Mic_Index=%{text}<extra></extra>",
         "legendgroup": "right",
         "marker": {
          "color": "#636efa",
          "symbol": "circle"
         },
         "mode": "markers+text",
         "name": "right",
         "scene": "scene",
         "showlegend": true,
         "text": [
          "B1",
          "B2",
          "B3",
          "B4",
          "B5",
          "B6",
          "B7",
          "B8",
          "B9",
          "B10",
          "B11",
          "B12",
          "B13",
          "B14",
          "B15",
          "B16",
          "B17"
         ],
         "type": "scatter3d",
         "x": [
          -0.040301322818280055,
          -0.30391461143634096,
          -0.09637627064958254,
          -0.5265473697279874,
          -0.3020833260580931,
          -0.5659028623956346,
          -0.33452680381174366,
          -0.7414677507447756,
          -0.5464692855187208,
          -0.6147051459918117,
          -1.0014087434315238,
          -0.9110524019690331,
          -0.7334055860754534,
          -0.9458135460910717,
          -1.2009024119749152,
          -1.3379215796120716,
          -1.2212036062645801
         ],
         "y": [
          1.4049446665754595,
          1.5782342525978654,
          0.9609923012314219,
          1.9345796198947238,
          1.2170803433241844,
          1.4850066830661706,
          0.7529963298235153,
          1.7680282433519614,
          1.1068475729584109,
          0.8127747744002585,
          1.519111682339369,
          1.1678305252451044,
          0.5386447707882412,
          0.8646579715897214,
          1.312415525733042,
          1.632878492010803,
          0.9112807194754615
         ],
         "z": [
          1.0253595892369989,
          1.1834853412198876,
          1.1969838810233049,
          1.256763128724153,
          1.2856885711600472,
          1.4168172435361013,
          1.4444571107526225,
          1.4740253407982031,
          1.5100214469406494,
          1.6482207830232554,
          1.750424012963415,
          1.7799922430089958,
          1.8204878624192478,
          1.8944084375332,
          1.9670434374277788,
          1.9831131276699423,
          2.0981721098038326
         ]
        },
        {
         "hovertemplate": "Plane=front<br>X_optimized=%{x}<br>Y_optimized=%{y}<br>Z_optimized=%{z}<br>Mic_Index=%{text}<extra></extra>",
         "legendgroup": "front",
         "marker": {
          "color": "#EF553B",
          "symbol": "circle"
         },
         "mode": "markers+text",
         "name": "front",
         "scene": "scene",
         "showlegend": true,
         "text": [
          "C1",
          "C2",
          "C3",
          "C4",
          "C5",
          "C6",
          "C7",
          "C8",
          "C9",
          "C10",
          "C11",
          "C12",
          "C13",
          "C14",
          "C15",
          "C16",
          "C17"
         ],
         "type": "scatter3d",
         "x": [
          0.6398502526117144,
          0.7096608834115801,
          0.28290291746476665,
          0.9292795047371525,
          0.42931000989238444,
          0.5712666045951722,
          0.06036972038573285,
          0.748135219686995,
          0.283805312205638,
          0.03806422487653427,
          0.48779681912781503,
          0.2376119390629835,
          -0.20329134563900658,
          -0.005267737654649496,
          0.285563799791434,
          0.49144535033087,
          -0.03759806953070566
         ],
         "y": [
          -0.9760689373609318,
          -1.24906431429491,
          -0.7560312134782018,
          -1.5986939914778617,
          -1.0378573359134564,
          -1.366496309896136,
          -0.792636898798708,
          -1.644954103817406,
          -1.1351475355796534,
          -1.0110807471215415,
          -1.6715090881760524,
          -1.4075762827369669,
          -0.9342449574066063,
          -1.2589165617714748,
          -1.6910809018398651,
          -1.9543318033529988,
          -1.466191137252367
         ],
         "z": [
          0.29372620542237365,
          0.5050364039457766,
          0.5223569120214654,
          0.6028972745734181,
          0.641868417743718,
          0.8194036255195278,
          0.8583747686898278,
          0.8947478356487739,
          0.9432452582607026,
          1.131172770881926,
          1.2697368354874359,
          1.3078419532539514,
          1.3658656553075086,
          1.4645925513389346,
          1.559855345755223,
          1.579773930042265,
          1.7382565789348174
         ]
        },
        {
         "hovertemplate": "Plane=left<br>X_optimized=%{x}<br>Y_optimized=%{y}<br>Z_optimized=%{z}<br>Mic_Index=%{text}<extra></extra>",
         "legendgroup": "left",
         "marker": {
          "color": "#00cc96",
          "symbol": "circle"
         },
         "mode": "markers+text",
         "name": "left",
         "scene": "scene",
         "showlegend": true,
         "text": [
          "D1",
          "D2",
          "D3",
          "D4",
          "D5",
          "D6",
          "D7",
          "D8",
          "D9",
          "D10",
          "D11",
          "D12",
          "D13",
          "D14",
          "D15",
          "D16",
          "D17"
         ],
         "type": "scatter3d",
         "x": [
          1.0068801294988636,
          1.0188777181077893,
          1.3539544556930914,
          0.8768948140188275,
          1.275774970786337,
          1.2172790618293001,
          1.6279425705929422,
          1.104879397759678,
          1.4783829289186783,
          1.7251804055508113,
          1.4171909990278118,
          1.6237978373922273,
          1.9829814133419448,
          1.8589985092529826,
          1.6637322531678889,
          1.5072056835477758,
          1.964849685009305
         ],
         "y": [
          1.2858282567513957,
          0.9890716106052138,
          1.5450156153692927,
          0.5953088566890491,
          1.2321953951277451,
          0.8699057392464989,
          1.520773765929099,
          0.5595220405806622,
          1.1383136467276627,
          1.286809592830352,
          0.5489498326592118,
          0.8476669138063884,
          1.3862287273363236,
          1.0236428879563986,
          0.5440185372822217,
          0.23948161026201864,
          0.8020263083047315
         ],
         "z": [
          0.2294343020562068,
          0.4186472795065944,
          0.43320212392585494,
          0.5067423904652769,
          0.5389162570762739,
          0.6944232790294265,
          0.7304273678560186,
          0.7633672789101346,
          0.8039676343954404,
          0.9701992785522586,
          1.092000345008176,
          1.1272383893916493,
          1.1770312781943828,
          1.2651263891530653,
          1.349391277896153,
          1.3693084334172463,
          1.5064303887355432
         ]
        },
        {
         "hovertemplate": "Plane=top<br>X_optimized=%{x}<br>Y_optimized=%{y}<br>Z_optimized=%{z}<br>Mic_Index=%{text}<extra></extra>",
         "legendgroup": "top",
         "marker": {
          "color": "#ab63fa",
          "symbol": "circle"
         },
         "mode": "markers+text",
         "name": "top",
         "scene": "scene",
         "showlegend": true,
         "text": [
          "A1",
          "A2",
          "A3",
          "A4",
          "A5",
          "A6",
          "A7",
          "A8",
          "A9",
          "A10",
          "A11",
          "A12",
          "A13"
         ],
         "type": "scatter3d",
         "x": [
          0.99,
          1.5590000000000002,
          1.27,
          1.7759999999999998,
          1.428,
          0.8109999999999999,
          1.155,
          1.374,
          1.8050000000000002,
          1.08,
          1.385,
          0.7320000000000001,
          1.6720000000000002
         ],
         "y": [
          1.946,
          1.847,
          1.827,
          1.564,
          1.557,
          1.556,
          1.51,
          1.248,
          1.2209999999999999,
          1.093,
          0.8549999999999999,
          0.8290000000000001,
          0.817
         ],
         "z": [
          1.871,
          1.871,
          1.871,
          1.871,
          1.871,
          1.871,
          1.871,
          1.871,
          1.871,
          1.871,
          1.871,
          1.871,
          1.871
         ]
        }
       ],
       "layout": {
        "height": 1000,
        "legend": {
         "title": {
          "text": "Plane"
         },
         "tracegroupgap": 0
        },
        "scene": {
         "domain": {
          "x": [
           0,
           1
          ],
          "y": [
           0,
           1
          ]
         },
         "xaxis": {
          "title": {
           "text": "X_optimized"
          }
         },
         "yaxis": {
          "title": {
           "text": "Y_optimized"
          }
         },
         "zaxis": {
          "title": {
           "text": "Z_optimized"
          }
         }
        },
        "template": {
         "data": {
          "bar": [
           {
            "error_x": {
             "color": "#2a3f5f"
            },
            "error_y": {
             "color": "#2a3f5f"
            },
            "marker": {
             "line": {
              "color": "#E5ECF6",
              "width": 0.5
             },
             "pattern": {
              "fillmode": "overlay",
              "size": 10,
              "solidity": 0.2
             }
            },
            "type": "bar"
           }
          ],
          "barpolar": [
           {
            "marker": {
             "line": {
              "color": "#E5ECF6",
              "width": 0.5
             },
             "pattern": {
              "fillmode": "overlay",
              "size": 10,
              "solidity": 0.2
             }
            },
            "type": "barpolar"
           }
          ],
          "carpet": [
           {
            "aaxis": {
             "endlinecolor": "#2a3f5f",
             "gridcolor": "white",
             "linecolor": "white",
             "minorgridcolor": "white",
             "startlinecolor": "#2a3f5f"
            },
            "baxis": {
             "endlinecolor": "#2a3f5f",
             "gridcolor": "white",
             "linecolor": "white",
             "minorgridcolor": "white",
             "startlinecolor": "#2a3f5f"
            },
            "type": "carpet"
           }
          ],
          "choropleth": [
           {
            "colorbar": {
             "outlinewidth": 0,
             "ticks": ""
            },
            "type": "choropleth"
           }
          ],
          "contour": [
           {
            "colorbar": {
             "outlinewidth": 0,
             "ticks": ""
            },
            "colorscale": [
             [
              0,
              "#0d0887"
             ],
             [
              0.1111111111111111,
              "#46039f"
             ],
             [
              0.2222222222222222,
              "#7201a8"
             ],
             [
              0.3333333333333333,
              "#9c179e"
             ],
             [
              0.4444444444444444,
              "#bd3786"
             ],
             [
              0.5555555555555556,
              "#d8576b"
             ],
             [
              0.6666666666666666,
              "#ed7953"
             ],
             [
              0.7777777777777778,
              "#fb9f3a"
             ],
             [
              0.8888888888888888,
              "#fdca26"
             ],
             [
              1,
              "#f0f921"
             ]
            ],
            "type": "contour"
           }
          ],
          "contourcarpet": [
           {
            "colorbar": {
             "outlinewidth": 0,
             "ticks": ""
            },
            "type": "contourcarpet"
           }
          ],
          "heatmap": [
           {
            "colorbar": {
             "outlinewidth": 0,
             "ticks": ""
            },
            "colorscale": [
             [
              0,
              "#0d0887"
             ],
             [
              0.1111111111111111,
              "#46039f"
             ],
             [
              0.2222222222222222,
              "#7201a8"
             ],
             [
              0.3333333333333333,
              "#9c179e"
             ],
             [
              0.4444444444444444,
              "#bd3786"
             ],
             [
              0.5555555555555556,
              "#d8576b"
             ],
             [
              0.6666666666666666,
              "#ed7953"
             ],
             [
              0.7777777777777778,
              "#fb9f3a"
             ],
             [
              0.8888888888888888,
              "#fdca26"
             ],
             [
              1,
              "#f0f921"
             ]
            ],
            "type": "heatmap"
           }
          ],
          "heatmapgl": [
           {
            "colorbar": {
             "outlinewidth": 0,
             "ticks": ""
            },
            "colorscale": [
             [
              0,
              "#0d0887"
             ],
             [
              0.1111111111111111,
              "#46039f"
             ],
             [
              0.2222222222222222,
              "#7201a8"
             ],
             [
              0.3333333333333333,
              "#9c179e"
             ],
             [
              0.4444444444444444,
              "#bd3786"
             ],
             [
              0.5555555555555556,
              "#d8576b"
             ],
             [
              0.6666666666666666,
              "#ed7953"
             ],
             [
              0.7777777777777778,
              "#fb9f3a"
             ],
             [
              0.8888888888888888,
              "#fdca26"
             ],
             [
              1,
              "#f0f921"
             ]
            ],
            "type": "heatmapgl"
           }
          ],
          "histogram": [
           {
            "marker": {
             "pattern": {
              "fillmode": "overlay",
              "size": 10,
              "solidity": 0.2
             }
            },
            "type": "histogram"
           }
          ],
          "histogram2d": [
           {
            "colorbar": {
             "outlinewidth": 0,
             "ticks": ""
            },
            "colorscale": [
             [
              0,
              "#0d0887"
             ],
             [
              0.1111111111111111,
              "#46039f"
             ],
             [
              0.2222222222222222,
              "#7201a8"
             ],
             [
              0.3333333333333333,
              "#9c179e"
             ],
             [
              0.4444444444444444,
              "#bd3786"
             ],
             [
              0.5555555555555556,
              "#d8576b"
             ],
             [
              0.6666666666666666,
              "#ed7953"
             ],
             [
              0.7777777777777778,
              "#fb9f3a"
             ],
             [
              0.8888888888888888,
              "#fdca26"
             ],
             [
              1,
              "#f0f921"
             ]
            ],
            "type": "histogram2d"
           }
          ],
          "histogram2dcontour": [
           {
            "colorbar": {
             "outlinewidth": 0,
             "ticks": ""
            },
            "colorscale": [
             [
              0,
              "#0d0887"
             ],
             [
              0.1111111111111111,
              "#46039f"
             ],
             [
              0.2222222222222222,
              "#7201a8"
             ],
             [
              0.3333333333333333,
              "#9c179e"
             ],
             [
              0.4444444444444444,
              "#bd3786"
             ],
             [
              0.5555555555555556,
              "#d8576b"
             ],
             [
              0.6666666666666666,
              "#ed7953"
             ],
             [
              0.7777777777777778,
              "#fb9f3a"
             ],
             [
              0.8888888888888888,
              "#fdca26"
             ],
             [
              1,
              "#f0f921"
             ]
            ],
            "type": "histogram2dcontour"
           }
          ],
          "mesh3d": [
           {
            "colorbar": {
             "outlinewidth": 0,
             "ticks": ""
            },
            "type": "mesh3d"
           }
          ],
          "parcoords": [
           {
            "line": {
             "colorbar": {
              "outlinewidth": 0,
              "ticks": ""
             }
            },
            "type": "parcoords"
           }
          ],
          "pie": [
           {
            "automargin": true,
            "type": "pie"
           }
          ],
          "scatter": [
           {
            "fillpattern": {
             "fillmode": "overlay",
             "size": 10,
             "solidity": 0.2
            },
            "type": "scatter"
           }
          ],
          "scatter3d": [
           {
            "line": {
             "colorbar": {
              "outlinewidth": 0,
              "ticks": ""
             }
            },
            "marker": {
             "colorbar": {
              "outlinewidth": 0,
              "ticks": ""
             }
            },
            "type": "scatter3d"
           }
          ],
          "scattercarpet": [
           {
            "marker": {
             "colorbar": {
              "outlinewidth": 0,
              "ticks": ""
             }
            },
            "type": "scattercarpet"
           }
          ],
          "scattergeo": [
           {
            "marker": {
             "colorbar": {
              "outlinewidth": 0,
              "ticks": ""
             }
            },
            "type": "scattergeo"
           }
          ],
          "scattergl": [
           {
            "marker": {
             "colorbar": {
              "outlinewidth": 0,
              "ticks": ""
             }
            },
            "type": "scattergl"
           }
          ],
          "scattermapbox": [
           {
            "marker": {
             "colorbar": {
              "outlinewidth": 0,
              "ticks": ""
             }
            },
            "type": "scattermapbox"
           }
          ],
          "scatterpolar": [
           {
            "marker": {
             "colorbar": {
              "outlinewidth": 0,
              "ticks": ""
             }
            },
            "type": "scatterpolar"
           }
          ],
          "scatterpolargl": [
           {
            "marker": {
             "colorbar": {
              "outlinewidth": 0,
              "ticks": ""
             }
            },
            "type": "scatterpolargl"
           }
          ],
          "scatterternary": [
           {
            "marker": {
             "colorbar": {
              "outlinewidth": 0,
              "ticks": ""
             }
            },
            "type": "scatterternary"
           }
          ],
          "surface": [
           {
            "colorbar": {
             "outlinewidth": 0,
             "ticks": ""
            },
            "colorscale": [
             [
              0,
              "#0d0887"
             ],
             [
              0.1111111111111111,
              "#46039f"
             ],
             [
              0.2222222222222222,
              "#7201a8"
             ],
             [
              0.3333333333333333,
              "#9c179e"
             ],
             [
              0.4444444444444444,
              "#bd3786"
             ],
             [
              0.5555555555555556,
              "#d8576b"
             ],
             [
              0.6666666666666666,
              "#ed7953"
             ],
             [
              0.7777777777777778,
              "#fb9f3a"
             ],
             [
              0.8888888888888888,
              "#fdca26"
             ],
             [
              1,
              "#f0f921"
             ]
            ],
            "type": "surface"
           }
          ],
          "table": [
           {
            "cells": {
             "fill": {
              "color": "#EBF0F8"
             },
             "line": {
              "color": "white"
             }
            },
            "header": {
             "fill": {
              "color": "#C8D4E3"
             },
             "line": {
              "color": "white"
             }
            },
            "type": "table"
           }
          ]
         },
         "layout": {
          "annotationdefaults": {
           "arrowcolor": "#2a3f5f",
           "arrowhead": 0,
           "arrowwidth": 1
          },
          "autotypenumbers": "strict",
          "coloraxis": {
           "colorbar": {
            "outlinewidth": 0,
            "ticks": ""
           }
          },
          "colorscale": {
           "diverging": [
            [
             0,
             "#8e0152"
            ],
            [
             0.1,
             "#c51b7d"
            ],
            [
             0.2,
             "#de77ae"
            ],
            [
             0.3,
             "#f1b6da"
            ],
            [
             0.4,
             "#fde0ef"
            ],
            [
             0.5,
             "#f7f7f7"
            ],
            [
             0.6,
             "#e6f5d0"
            ],
            [
             0.7,
             "#b8e186"
            ],
            [
             0.8,
             "#7fbc41"
            ],
            [
             0.9,
             "#4d9221"
            ],
            [
             1,
             "#276419"
            ]
           ],
           "sequential": [
            [
             0,
             "#0d0887"
            ],
            [
             0.1111111111111111,
             "#46039f"
            ],
            [
             0.2222222222222222,
             "#7201a8"
            ],
            [
             0.3333333333333333,
             "#9c179e"
            ],
            [
             0.4444444444444444,
             "#bd3786"
            ],
            [
             0.5555555555555556,
             "#d8576b"
            ],
            [
             0.6666666666666666,
             "#ed7953"
            ],
            [
             0.7777777777777778,
             "#fb9f3a"
            ],
            [
             0.8888888888888888,
             "#fdca26"
            ],
            [
             1,
             "#f0f921"
            ]
           ],
           "sequentialminus": [
            [
             0,
             "#0d0887"
            ],
            [
             0.1111111111111111,
             "#46039f"
            ],
            [
             0.2222222222222222,
             "#7201a8"
            ],
            [
             0.3333333333333333,
             "#9c179e"
            ],
            [
             0.4444444444444444,
             "#bd3786"
            ],
            [
             0.5555555555555556,
             "#d8576b"
            ],
            [
             0.6666666666666666,
             "#ed7953"
            ],
            [
             0.7777777777777778,
             "#fb9f3a"
            ],
            [
             0.8888888888888888,
             "#fdca26"
            ],
            [
             1,
             "#f0f921"
            ]
           ]
          },
          "colorway": [
           "#636efa",
           "#EF553B",
           "#00cc96",
           "#ab63fa",
           "#FFA15A",
           "#19d3f3",
           "#FF6692",
           "#B6E880",
           "#FF97FF",
           "#FECB52"
          ],
          "font": {
           "color": "#2a3f5f"
          },
          "geo": {
           "bgcolor": "white",
           "lakecolor": "white",
           "landcolor": "#E5ECF6",
           "showlakes": true,
           "showland": true,
           "subunitcolor": "white"
          },
          "hoverlabel": {
           "align": "left"
          },
          "hovermode": "closest",
          "mapbox": {
           "style": "light"
          },
          "paper_bgcolor": "white",
          "plot_bgcolor": "#E5ECF6",
          "polar": {
           "angularaxis": {
            "gridcolor": "white",
            "linecolor": "white",
            "ticks": ""
           },
           "bgcolor": "#E5ECF6",
           "radialaxis": {
            "gridcolor": "white",
            "linecolor": "white",
            "ticks": ""
           }
          },
          "scene": {
           "xaxis": {
            "backgroundcolor": "#E5ECF6",
            "gridcolor": "white",
            "gridwidth": 2,
            "linecolor": "white",
            "showbackground": true,
            "ticks": "",
            "zerolinecolor": "white"
           },
           "yaxis": {
            "backgroundcolor": "#E5ECF6",
            "gridcolor": "white",
            "gridwidth": 2,
            "linecolor": "white",
            "showbackground": true,
            "ticks": "",
            "zerolinecolor": "white"
           },
           "zaxis": {
            "backgroundcolor": "#E5ECF6",
            "gridcolor": "white",
            "gridwidth": 2,
            "linecolor": "white",
            "showbackground": true,
            "ticks": "",
            "zerolinecolor": "white"
           }
          },
          "shapedefaults": {
           "line": {
            "color": "#2a3f5f"
           }
          },
          "ternary": {
           "aaxis": {
            "gridcolor": "white",
            "linecolor": "white",
            "ticks": ""
           },
           "baxis": {
            "gridcolor": "white",
            "linecolor": "white",
            "ticks": ""
           },
           "bgcolor": "#E5ECF6",
           "caxis": {
            "gridcolor": "white",
            "linecolor": "white",
            "ticks": ""
           }
          },
          "title": {
           "x": 0.05
          },
          "xaxis": {
           "automargin": true,
           "gridcolor": "white",
           "linecolor": "white",
           "ticks": "",
           "title": {
            "standoff": 15
           },
           "zerolinecolor": "white",
           "zerolinewidth": 2
          },
          "yaxis": {
           "automargin": true,
           "gridcolor": "white",
           "linecolor": "white",
           "ticks": "",
           "title": {
            "standoff": 15
           },
           "zerolinecolor": "white",
           "zerolinewidth": 2
          }
         }
        },
        "title": {
         "text": "3D Scatter Plot"
        },
        "width": 1000
       }
      }
     },
     "metadata": {},
     "output_type": "display_data"
    }
   ],
   "source": [
    "import plotly.express as px\n",
    "fig = px.scatter_3d(df_mic_coords_optimized, x='X_optimized', y='Y_optimized', z='Z_optimized', text='Mic_Index', title='3D Scatter Plot', color='Plane', width=1000, height=1000)\n",
    "\n",
    "# Plot anzeigen\n",
    "fig.show()"
   ]
  }
 ],
 "metadata": {
  "kernelspec": {
   "display_name": "AsSSASoSe23",
   "language": "python",
   "name": "python3"
  },
  "language_info": {
   "codemirror_mode": {
    "name": "ipython",
    "version": 3
   },
   "file_extension": ".py",
   "mimetype": "text/x-python",
   "name": "python",
   "nbconvert_exporter": "python",
   "pygments_lexer": "ipython3",
   "version": "3.9.16"
  }
 },
 "nbformat": 4,
 "nbformat_minor": 2
}
