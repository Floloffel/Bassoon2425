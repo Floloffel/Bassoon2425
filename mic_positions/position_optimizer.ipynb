{
 "cells": [
  {
   "cell_type": "code",
   "execution_count": 15,
   "metadata": {},
   "outputs": [],
   "source": [
    "# imports\n",
    "import numpy as np\n",
    "import pandas as pd\n",
    "import scipy as sp \n",
    "import math\n",
    "from calc_mic_distances import calculate_distance"
   ]
  },
  {
   "cell_type": "markdown",
   "metadata": {},
   "source": [
    "steps:\n",
    "* import meaasured 3d mic positions and distance measurements\n",
    "* only use points with measured distance\n",
    "* calculate sum of squarred errors\n",
    "* build a mic positions model with parameters (offsets and tilt)\n",
    "* optimize those paramters for minimal sum of squarred errors\n",
    "* return optimized paramters and mic positions"
   ]
  },
  {
   "cell_type": "code",
   "execution_count": 16,
   "metadata": {},
   "outputs": [
    {
     "name": "stdout",
     "output_type": "stream",
     "text": [
      "1.803 = distance A1 to B2\n"
     ]
    }
   ],
   "source": [
    "# read meaasured 3d mic positions\n",
    "\n",
    "df_mic_coords = pd.read_excel(\"data/3d_measured_coords.xlsx\", index_col=0)\n",
    "\n",
    "_ = calculate_distance(df_mic_coords, \"A1\", \"B2\")\n",
    "\n",
    "# read distance measurements\n",
    "df_distances = pd.read_excel(\"data/mic_pos_distances.xlsx\")"
   ]
  },
  {
   "cell_type": "code",
   "execution_count": 17,
   "metadata": {},
   "outputs": [
    {
     "name": "stdout",
     "output_type": "stream",
     "text": [
      "  Mic_Index 1 Mic_Index 2  dist measured  dist calculated  error\n",
      "0         D13         D16          1.260            1.256  0.004\n",
      "1         B17         C16          0.670            0.673 -0.003\n",
      "2         C10         D10          1.175            1.181 -0.006\n",
      "3          C2         B15          1.650            1.651 -0.001\n",
      "4          A7          B6          1.416            1.397  0.019\n",
      "\n",
      "all distances checked\n"
     ]
    }
   ],
   "source": [
    "# check if calculated distances match\n",
    "\n",
    "print(df_distances.head())\n",
    "\n",
    "print(\"\")\n",
    "for index, row in df_distances.iterrows():\n",
    "    \n",
    "    dist = calculate_distance(df_mic_coords, row[0], row[1], print_dist=False)\n",
    "\n",
    "    if math.isclose(dist, df_distances[\"dist calculated\"][index], abs_tol=0.001) == False:\n",
    "        print(index)\n",
    "        print(\"different distance\")\n",
    "\n",
    "print(\"all distances checked\")"
   ]
  },
  {
   "cell_type": "code",
   "execution_count": 18,
   "metadata": {},
   "outputs": [
    {
     "name": "stdout",
     "output_type": "stream",
     "text": [
      "25 different mics used for measurng distances\n",
      "\n",
      "   Mic_Index  Plane      X      Y      Z\n",
      "5         B6  right  1.370  0.989  0.629\n",
      "7         B8  right  1.370  1.315  0.718\n",
      "12       B13  right  1.370  0.157  1.257\n",
      "14       B15  right  1.370  1.044  1.485\n",
      "15       B16  right  1.370  1.392  1.510\n",
      "16       B17  right  1.370  0.674  1.689\n",
      "18        C2  front  0.913  0.028  0.267\n",
      "20        C4  front  1.322  0.028  0.380\n",
      "21        C5  front  0.571  0.028  0.425\n",
      "26       C10  front  0.299  0.028  0.990\n",
      "32       C16  front  1.313  0.028  1.508\n",
      "34        D1   left  0.028  0.817  0.023\n",
      "36        D3   left  0.028  1.215  0.289\n",
      "38        D5   left  0.028  0.905  0.427\n",
      "40        D7   left  0.028  1.331  0.677\n",
      "43       D10   left  0.028  1.177  0.990\n",
      "46       D13   left  0.028  1.392  1.260\n",
      "49       D16   left  0.028  0.161  1.511\n",
      "50       D17   left  0.028  0.877  1.690\n",
      "51        A1    top  0.590  1.246  1.871\n",
      "54        A4    top  1.376  0.864  1.871\n",
      "55        A5    top  1.028  0.857  1.871\n",
      "56        A6    top  0.411  0.856  1.871\n",
      "57        A7    top  0.755  0.810  1.871\n",
      "60       A10    top  0.680  0.393  1.871\n"
     ]
    }
   ],
   "source": [
    "# get all mic positions used for measurng distances\n",
    "# get indixes\n",
    "measured_mic_pos = []\n",
    "\n",
    "for mic_index_temp in df_distances[\"Mic_Index 1\"]:\n",
    "    measured_mic_pos.append(mic_index_temp)\n",
    "\n",
    "for mic_index_temp in df_distances[\"Mic_Index 2\"]:\n",
    "    measured_mic_pos.append(mic_index_temp)\n",
    "\n",
    "measured_mic_pos = set(measured_mic_pos) # remove double values\n",
    "measured_mic_pos = sorted(measured_mic_pos) # sort values\n",
    "\n",
    "# filter dataframe\n",
    "df_mic_coords_filtered = df_mic_coords[df_mic_coords.isin(measured_mic_pos).any(axis=1)]\n",
    "\n",
    "\n",
    "print(len(measured_mic_pos), \"different mics used for measurng distances\")\n",
    "print(\"\")\n",
    "print(df_mic_coords_filtered)"
   ]
  },
  {
   "cell_type": "code",
   "execution_count": 19,
   "metadata": {},
   "outputs": [
    {
     "name": "stdout",
     "output_type": "stream",
     "text": [
      "0.00696 = default sum of squared errors\n"
     ]
    }
   ],
   "source": [
    "# calculate sum of squarred errors\n",
    "\n",
    "for index, row in df_distances.iterrows():\n",
    "    \n",
    "    dist = calculate_distance(df_mic_coords_filtered, row[0], row[1], print_dist=False)\n",
    "    sq_error = (dist - df_distances[\"dist measured\"][index])**2\n",
    "    df_distances.loc[index, \"squared error\"] = sq_error\n",
    "\n",
    "sum_sq_errors_default = df_distances[\"squared error\"].sum()\n",
    "print(round(sum_sq_errors_default, 5), \"= default sum of squared errors\")\n"
   ]
  },
  {
   "cell_type": "code",
   "execution_count": 20,
   "metadata": {},
   "outputs": [
    {
     "name": "stdout",
     "output_type": "stream",
     "text": [
      "15 parameter in total\n",
      "[0.2, 0, 0, 0, 0, 0, 0, 0, 0, 0, 0, 0, 0, 0, 0]\n"
     ]
    }
   ],
   "source": [
    "# TODO# build parametric model\n",
    "\n",
    "# parameter:\n",
    "\n",
    "# translations = shift = offset\n",
    "\n",
    "# Rotations:\n",
    "# Roll (rotation around the plane's local X-axis)\n",
    "# Pitch (rotation around the plane's local Y-axis)\n",
    "# Yaw (rotation around the plane's local Z-axis) --> assumption: no yaw\n",
    "\n",
    "# shift is in m\n",
    "# roll & pitch in degrees\n",
    "\n",
    "# top plane\n",
    "A_x_shift = 0.2\n",
    "A_y_shift = 0\n",
    "\n",
    "# left plane\n",
    "# B_x_shift = 0 # keep 0 for reference\n",
    "B_y_shift = 0\n",
    "B_z_shift = 0\n",
    "B_roll = 0 # rotation over 3d y axis \n",
    "B_pitch = 0 # rotation over 3d z axis\n",
    "\n",
    "# front plane\n",
    "C_x_shift = 0\n",
    "# C_y_shift = 0 # keep 0 for reference\n",
    "C_z_shift = 0\n",
    "C_roll = 0 # rotation over 3d x axis \n",
    "C_pitch = 0 # rotation over 3d z axis\n",
    "\n",
    "# right_plane\n",
    "D_x_shift = 0\n",
    "D_y_shift = 0\n",
    "D_z_shift = 0\n",
    "D_roll = 0 # rotation over 3d y axis \n",
    "D_pitch = 0 # rotation over 3d z axis\n",
    "\n",
    "\n",
    "initial_parameters = [\n",
    "    A_x_shift,\n",
    "    A_y_shift,\n",
    "    B_y_shift,\n",
    "    B_z_shift,\n",
    "    B_roll,\n",
    "    B_pitch,\n",
    "    C_x_shift,\n",
    "    C_z_shift,\n",
    "    C_roll,\n",
    "    C_pitch,\n",
    "    D_x_shift,\n",
    "    D_y_shift,\n",
    "    D_z_shift,\n",
    "    D_roll,\n",
    "    D_pitch\n",
    "    ]\n",
    "\n",
    "\n",
    "print(len(initial_parameters), \"parameter in total\")\n",
    "print(initial_parameters)"
   ]
  },
  {
   "cell_type": "code",
   "execution_count": 21,
   "metadata": {},
   "outputs": [],
   "source": [
    "# parametric model\n",
    "\n",
    "def pandas_rotation(df_mic_coords, plane_to_rotate, roll, pitch, roll_axis, pitch_axis):\n",
    "    \n",
    "    # create rotation object\n",
    "    planes_to_rotate_formatted = roll_axis+pitch_axis\n",
    "    r = sp.spatial.transform.Rotation.from_euler(planes_to_rotate_formatted, [roll, pitch], degrees=True)\n",
    "    \n",
    "    # filter plane to rotate (left, rigth, etc.)\n",
    "    filtered_df = df_mic_coords[df_mic_coords['Plane'].isin([plane_to_rotate])]\n",
    "\n",
    "    coordinates = filtered_df[[\"X_optimized\", \"Y_optimized\", \"Z_optimized\"]].to_numpy()\n",
    "\n",
    "    # Apply the rotation to the filtered subset of coordinates\n",
    "    rotated_coordinates = r.apply(coordinates)\n",
    "\n",
    "    # Update the original DataFrame with the rotated coordinates\n",
    "    df_mic_coords.loc[filtered_df.index, ['X_optimized', 'Y_optimized', 'Z_optimized']] = rotated_coordinates\n",
    "\n",
    "    return df_mic_coords\n",
    "\n",
    "\n",
    "\n",
    "def parametric_model(df_mic_coords, parameters):\n",
    "\n",
    "    # copy initial coords to preserve them\n",
    "    df_mic_coords[\"X_optimized\"] = df_mic_coords[\"X\"]\n",
    "    df_mic_coords[\"Y_optimized\"] = df_mic_coords[\"Y\"]\n",
    "    df_mic_coords[\"Z_optimized\"] = df_mic_coords[\"Z\"]\n",
    "\n",
    "    # top plane x,y shift\n",
    "    df_mic_coords.loc[df_mic_coords[\"Plane\"].isin([\"top\"]), \"X_optimized\"] += parameters[0]\n",
    "    df_mic_coords.loc[df_mic_coords[\"Plane\"].isin([\"top\"]), \"Y_optimized\"] += parameters[1]\n",
    "\n",
    "    # left plane y,z shift and rotation\n",
    "    df_mic_coords.loc[df_mic_coords[\"Plane\"].isin([\"left\"]), \"Y_optimized\"] += parameters[2]\n",
    "    df_mic_coords.loc[df_mic_coords[\"Plane\"].isin([\"left\"]), \"Z_optimized\"] += parameters[3]\n",
    "    df_mic_coords = pandas_rotation(df_mic_coords, \"left\", parameters[4], parameters[5], \"y\", \"z\")\n",
    "\n",
    "    # front plane x,z shift and rotation\n",
    "    df_mic_coords.loc[df_mic_coords[\"Plane\"].isin([\"front\"]), \"X_optimized\"] += parameters[6]\n",
    "    df_mic_coords.loc[df_mic_coords[\"Plane\"].isin([\"front\"]), \"Z_optimized\"] += parameters[7]\n",
    "    df_mic_coords = pandas_rotation(df_mic_coords, \"front\", parameters[8], parameters[9], \"x\", \"z\")\n",
    "\n",
    "    # right plane x,y,z shift & rotatiotn\n",
    "    df_mic_coords.loc[df_mic_coords[\"Plane\"].isin([\"right\"]), \"X_optimized\"] += parameters[10]\n",
    "    df_mic_coords.loc[df_mic_coords[\"Plane\"].isin([\"right\"]), \"Y_optimized\"] += parameters[11]\n",
    "    df_mic_coords.loc[df_mic_coords[\"Plane\"].isin([\"right\"]), \"Z_optimized\"] += parameters[12]\n",
    "    df_mic_coords = pandas_rotation(df_mic_coords, \"right\", parameters[13], parameters[14], \"y\", \"z\")\n",
    "\n",
    "    return df_mic_coords"
   ]
  },
  {
   "cell_type": "code",
   "execution_count": 22,
   "metadata": {},
   "outputs": [],
   "source": [
    "def calc_error_optimized_coords(df_distances, df_mic_coords_moved):\n",
    "\n",
    "    for index, row in df_distances.iterrows():\n",
    "        dist_optimized = calculate_distance(\n",
    "            df_mic_coords_moved, row[0], row[1], print_dist=False, \n",
    "            x_col=\"X_optimized\", y_col=\"Y_optimized\", z_col=\"Z_optimized\"\n",
    "            )    \n",
    "        sq_error = (dist_optimized - df_distances[\"dist measured\"][index])**2\n",
    "        df_distances.loc[index, \"squared error optimized\"] = sq_error\n",
    "\n",
    "    sum_sq_errors = df_distances[\"squared error optimized\"].sum()\n",
    "    return sum_sq_errors, df_distances\n"
   ]
  },
  {
   "cell_type": "code",
   "execution_count": 23,
   "metadata": {},
   "outputs": [],
   "source": [
    "\n",
    "def optimizer_wrapper(initial_parameters, df_mic_coords=df_mic_coords, df_distances=df_distances):\n",
    "    df_mic_coords_moved = parametric_model(df_mic_coords, initial_parameters)\n",
    "    sum_sq_errors, _ = calc_error_optimized_coords(df_distances, df_mic_coords_moved)\n",
    "\n",
    "    return sum_sq_errors"
   ]
  },
  {
   "cell_type": "code",
   "execution_count": 24,
   "metadata": {},
   "outputs": [
    {
     "name": "stdout",
     "output_type": "stream",
     "text": [
      "Optimal variables: [-0.0380209  -0.03926696 -0.03352994 -0.02157031 -0.16013974 -0.38830788\n",
      "  0.08006996 -0.00557273  1.06346201  1.60886169  0.0404717   0.01607017\n",
      "  0.01144947 -0.71111458 -0.67249499]\n",
      "Optimal function value: 1.3478284241642126e-05\n"
     ]
    }
   ],
   "source": [
    "result = sp.optimize.minimize(optimizer_wrapper, initial_parameters)\n",
    "\n",
    "print(\"Optimal variables:\", result.x)\n",
    "print(\"Optimal function value:\", result.fun)"
   ]
  },
  {
   "cell_type": "code",
   "execution_count": 25,
   "metadata": {},
   "outputs": [
    {
     "data": {
      "application/vnd.plotly.v1+json": {
       "config": {
        "plotlyServerURL": "https://plot.ly"
       },
       "data": [
        {
         "hovertemplate": "Plane=right<br>X=%{x}<br>Y=%{y}<br>Z=%{z}<br>Mic_Index=%{text}<extra></extra>",
         "legendgroup": "right",
         "marker": {
          "color": "#636efa",
          "symbol": "circle"
         },
         "mode": "markers+text",
         "name": "right",
         "scene": "scene",
         "showlegend": true,
         "text": [
          "B1",
          "B2",
          "B3",
          "B4",
          "B5",
          "B6",
          "B7",
          "B8",
          "B9",
          "B10",
          "B11",
          "B12",
          "B13",
          "B14",
          "B15",
          "B16",
          "B17"
         ],
         "type": "scatter3d",
         "x": [
          1.37,
          1.37,
          1.37,
          1.37,
          1.37,
          1.37,
          1.37,
          1.37,
          1.37,
          1.37,
          1.37,
          1.37,
          1.37,
          1.37,
          1.37,
          1.37,
          1.37
         ],
         "y": [
          0.734,
          0.987,
          0.336,
          1.398,
          0.647,
          0.989,
          0.222,
          1.315,
          0.627,
          0.374,
          1.17,
          0.8089999999999999,
          0.157,
          0.536,
          1.044,
          1.392,
          0.6739999999999999
         ],
         "z": [
          0.02,
          0.266,
          0.287,
          0.38,
          0.425,
          0.629,
          0.672,
          0.718,
          0.774,
          0.989,
          1.148,
          1.194,
          1.257,
          1.372,
          1.485,
          1.51,
          1.689
         ]
        },
        {
         "hovertemplate": "Plane=front<br>X=%{x}<br>Y=%{y}<br>Z=%{z}<br>Mic_Index=%{text}<extra></extra>",
         "legendgroup": "front",
         "marker": {
          "color": "#EF553B",
          "symbol": "circle"
         },
         "mode": "markers+text",
         "name": "front",
         "scene": "scene",
         "showlegend": true,
         "text": [
          "C1",
          "C2",
          "C3",
          "C4",
          "C5",
          "C6",
          "C7",
          "C8",
          "C9",
          "C10",
          "C11",
          "C12",
          "C13",
          "C14",
          "C15",
          "C16",
          "C17"
         ],
         "type": "scatter3d",
         "x": [
          0.659,
          0.913,
          0.261,
          1.322,
          0.5710000000000001,
          0.914,
          0.146,
          1.241,
          0.552,
          0.299,
          1.094,
          0.731,
          0.08499999999999999,
          0.461,
          0.979,
          1.313,
          0.599
         ],
         "y": [
          0.028,
          0.028,
          0.028,
          0.028,
          0.028,
          0.028,
          0.028,
          0.028,
          0.028,
          0.028,
          0.028,
          0.028,
          0.028,
          0.028,
          0.028,
          0.028,
          0.028
         ],
         "z": [
          0.023,
          0.267,
          0.287,
          0.38,
          0.425,
          0.63,
          0.675,
          0.717,
          0.773,
          0.99,
          1.15,
          1.194,
          1.261,
          1.375,
          1.485,
          1.508,
          1.691
         ]
        },
        {
         "hovertemplate": "Plane=left<br>X=%{x}<br>Y=%{y}<br>Z=%{z}<br>Mic_Index=%{text}<extra></extra>",
         "legendgroup": "left",
         "marker": {
          "color": "#00cc96",
          "symbol": "circle"
         },
         "mode": "markers+text",
         "name": "left",
         "scene": "scene",
         "showlegend": true,
         "text": [
          "D1",
          "D2",
          "D3",
          "D4",
          "D5",
          "D6",
          "D7",
          "D8",
          "D9",
          "D10",
          "D11",
          "D12",
          "D13",
          "D14",
          "D15",
          "D16",
          "D17"
         ],
         "type": "scatter3d",
         "x": [
          0.028,
          0.028,
          0.028,
          0.028,
          0.028,
          0.028,
          0.028,
          0.028,
          0.028,
          0.028,
          0.028,
          0.028,
          0.028,
          0.028,
          0.028,
          0.028,
          0.028
         ],
         "y": [
          0.8169999999999998,
          0.5659999999999998,
          1.215,
          0.1539999999999998,
          0.9049999999999998,
          0.5619999999999998,
          1.331,
          0.2369999999999998,
          0.9249999999999998,
          1.177,
          0.3839999999999998,
          0.7459999999999999,
          1.392,
          1.016,
          0.5029999999999999,
          0.1609999999999999,
          0.8769999999999999
         ],
         "z": [
          0.023,
          0.27,
          0.289,
          0.385,
          0.427,
          0.63,
          0.677,
          0.72,
          0.773,
          0.99,
          1.149,
          1.195,
          1.26,
          1.375,
          1.485,
          1.511,
          1.69
         ]
        },
        {
         "hovertemplate": "Plane=top<br>X=%{x}<br>Y=%{y}<br>Z=%{z}<br>Mic_Index=%{text}<extra></extra>",
         "legendgroup": "top",
         "marker": {
          "color": "#ab63fa",
          "symbol": "circle"
         },
         "mode": "markers+text",
         "name": "top",
         "scene": "scene",
         "showlegend": true,
         "text": [
          "A1",
          "A2",
          "A3",
          "A4",
          "A5",
          "A6",
          "A7",
          "A8",
          "A9",
          "A10",
          "A11",
          "A12",
          "A13"
         ],
         "type": "scatter3d",
         "x": [
          0.59,
          1.159,
          0.87,
          1.376,
          1.028,
          0.411,
          0.755,
          0.974,
          1.405,
          0.68,
          0.985,
          0.3320000000000001,
          1.272
         ],
         "y": [
          1.246,
          1.147,
          1.127,
          0.8640000000000001,
          0.857,
          0.8560000000000001,
          0.81,
          0.548,
          0.5209999999999999,
          0.3930000000000001,
          0.1549999999999999,
          0.1290000000000001,
          0.117
         ],
         "z": [
          1.871,
          1.871,
          1.871,
          1.871,
          1.871,
          1.871,
          1.871,
          1.871,
          1.871,
          1.871,
          1.871,
          1.871,
          1.871
         ]
        },
        {
         "hovertemplate": "Plane=right<br>X_optimized=%{x}<br>Y_optimized=%{y}<br>Z_optimized=%{z}<br>Mic_Index=%{text}<extra></extra>",
         "legendgroup": "right",
         "marker": {
          "color": "rgba(0, 0, 0, 0.7)",
          "symbol": "circle"
         },
         "mode": "markers+text",
         "name": "Optimized Data",
         "scene": "scene",
         "showlegend": true,
         "text": [
          "B1",
          "B2",
          "B3",
          "B4",
          "B5",
          "B6",
          "B7",
          "B8",
          "B9",
          "B10",
          "B11",
          "B12",
          "B13",
          "B14",
          "B15",
          "B16",
          "B17"
         ],
         "type": "scatter3d",
         "x": [
          1.4186791841823196,
          1.4185957518368513,
          1.41069436393562,
          1.4220048981669644,
          1.4126319692268858,
          1.4141143532267604,
          1.4045784528054122,
          1.4168361089986066,
          1.4080660986495093,
          1.402428466926446,
          1.4097978961411195,
          1.404989980157355,
          1.3965556303479008,
          1.3995767831290487,
          1.404136826853727,
          1.4079110437411138,
          1.3972624794987225
         ],
         "y": [
          0.7334696822786573,
          0.9864880896198532,
          0.33553599000157286,
          1.3974763857113124,
          0.6465346701845017,
          0.9885408291099824,
          0.22159992434042503,
          1.3145313383810535,
          0.6265868857080562,
          0.37363563101975156,
          1.1696039630542971,
          0.8086355297029975,
          0.15668961699457923,
          0.535680262937345,
          1.0436617319288566,
          1.3916414031124338,
          0.6737169339471482
         ],
         "z": [
          0.048952373518248854,
          0.2949334268243285,
          0.3159318094236279,
          0.4089246466490971,
          0.4539211807904531,
          0.6579054688979338,
          0.7009021570774517,
          0.7468986141997267,
          0.8028943011311921,
          1.0178777420287821,
          1.1768654959949065,
          1.2228619531171816,
          1.2858571009150799,
          1.4008482437207679,
          1.5138395405646174,
          1.5388376150875929,
          1.717823828672098
         ]
        },
        {
         "hovertemplate": "Plane=front<br>X_optimized=%{x}<br>Y_optimized=%{y}<br>Z_optimized=%{z}<br>Mic_Index=%{text}<extra></extra>",
         "legendgroup": "front",
         "marker": {
          "color": "rgba(0, 0, 0, 0.7)",
          "symbol": "circle"
         },
         "mode": "markers+text",
         "name": "Optimized Data",
         "scene": "scene",
         "showlegend": true,
         "text": [
          "C1",
          "C2",
          "C3",
          "C4",
          "C5",
          "C6",
          "C7",
          "C8",
          "C9",
          "C10",
          "C11",
          "C12",
          "C13",
          "C14",
          "C15",
          "C16",
          "C17"
         ],
         "type": "scatter3d",
         "x": [
          0.7380016907430431,
          0.9920287061808059,
          0.3402961564597688,
          1.4009263553300975,
          0.6502458602072696,
          0.993217467929804,
          0.22554367446934828,
          1.3201338943835665,
          0.6314346899027743,
          0.37864750311349826,
          1.1734174763735226,
          0.8105835045716266,
          0.16487308082610977,
          0.540784260175523,
          1.0586373765701131,
          1.3925176937039292,
          0.678894523141989
         ],
         "y": [
          0.04841112924949976,
          0.051015677529299475,
          0.032338915998009685,
          0.060402425179857444,
          0.038482302238872744,
          0.044309184928677706,
          0.0219117658444317,
          0.051876046406635394,
          0.03149257273260042,
          0.02036338378951885,
          0.03971559254765379,
          0.02870760470176698,
          0.00932733166397794,
          0.017769010740482913,
          0.030271726550412385,
          0.0392224837345234,
          0.015780932498499635
         ],
         "z": [
          0.017943946865880283,
          0.2619019181561026,
          0.28189847317989125,
          0.3748824540405088,
          0.4198747028440334,
          0.6248393918378676,
          0.6698316406413922,
          0.7118244061913485,
          0.7678147602579569,
          0.9847773822660644,
          1.1447498224563744,
          1.1887422435087094,
          1.2557307028384015,
          1.3697110664739973,
          1.4796921191048353,
          1.5026881573821922,
          1.685656635849859
         ]
        },
        {
         "hovertemplate": "Plane=left<br>X_optimized=%{x}<br>Y_optimized=%{y}<br>Z_optimized=%{z}<br>Mic_Index=%{text}<extra></extra>",
         "legendgroup": "left",
         "marker": {
          "color": "rgba(0, 0, 0, 0.7)",
          "symbol": "circle"
         },
         "mode": "markers+text",
         "name": "Optimized Data",
         "scene": "scene",
         "showlegend": true,
         "text": [
          "D1",
          "D2",
          "D3",
          "D4",
          "D5",
          "D6",
          "D7",
          "D8",
          "D9",
          "D10",
          "D11",
          "D12",
          "D13",
          "D14",
          "D15",
          "D16",
          "D17"
         ],
         "type": "scatter3d",
         "x": [
          0.03330498441837237,
          0.03091356763189891,
          0.03525886684242516,
          0.027799948304507747,
          0.03277223917935539,
          0.029880295577133238,
          0.034960601547624474,
          0.027426165027351356,
          0.03194074847618624,
          0.033042109818170025,
          0.02722340209180291,
          0.02954818289174909,
          0.033744585199527014,
          0.030874945042812567,
          0.027090803087384277,
          0.024700333619542623,
          0.029052521505262184
         ],
         "y": [
          0.7832623323668545,
          0.5322727753795761,
          1.181258230682571,
          0.12028441548828629,
          0.8712679639788604,
          0.5282796863669057,
          1.2972629161889493,
          0.20328885492864446,
          0.891274058606505,
          1.1432723817232877,
          0.3502936051278183,
          0.7122861629574361,
          1.3582725584895576,
          0.9822833718410562,
          0.46929723675297985,
          0.1273055834388834,
          0.8432925307772529
         ],
         "z": [
          0.0015079406494785327,
          0.24850697588865323,
          0.267506901676282,
          0.36350652670851186,
          0.40550636266011236,
          0.608505569759515,
          0.6555053861815442,
          0.6985052182272304,
          0.751505011213774,
          0.9685041636303768,
          1.1275035425900075,
          1.173503362917951,
          1.2385031090335232,
          1.353502659853382,
          1.463502230202812,
          1.4895021286490406,
          1.668501429490386
         ]
        },
        {
         "hovertemplate": "Plane=top<br>X_optimized=%{x}<br>Y_optimized=%{y}<br>Z_optimized=%{z}<br>Mic_Index=%{text}<extra></extra>",
         "legendgroup": "top",
         "marker": {
          "color": "rgba(0, 0, 0, 0.7)",
          "symbol": "circle"
         },
         "mode": "markers+text",
         "name": "Optimized Data",
         "scene": "scene",
         "showlegend": true,
         "text": [
          "A1",
          "A2",
          "A3",
          "A4",
          "A5",
          "A6",
          "A7",
          "A8",
          "A9",
          "A10",
          "A11",
          "A12",
          "A13"
         ],
         "type": "scatter3d",
         "x": [
          0.5519791004491875,
          1.1209791004491876,
          0.8319791004491875,
          1.3379791004491874,
          0.9899791004491876,
          0.3729791004491875,
          0.7169791004491876,
          0.9359791004491875,
          1.3669791004491876,
          0.6419791004491876,
          0.9469791004491875,
          0.2939791004491876,
          1.2339791004491876
         ],
         "y": [
          1.206733044346455,
          1.107733044346455,
          1.087733044346455,
          0.8247330443464551,
          0.817733044346455,
          0.8167330443464551,
          0.7707330443464551,
          0.508733044346455,
          0.48173304434645486,
          0.3537330443464551,
          0.11573304434645486,
          0.08973304434645506,
          0.07773304434645498
         ],
         "z": [
          1.871,
          1.871,
          1.871,
          1.871,
          1.871,
          1.871,
          1.871,
          1.871,
          1.871,
          1.871,
          1.871,
          1.871,
          1.871
         ]
        }
       ],
       "layout": {
        "height": 1000,
        "legend": {
         "title": {
          "text": "Plane"
         },
         "tracegroupgap": 0
        },
        "scene": {
         "domain": {
          "x": [
           0,
           1
          ],
          "y": [
           0,
           1
          ]
         },
         "xaxis": {
          "title": {
           "text": "X"
          }
         },
         "yaxis": {
          "title": {
           "text": "Y"
          }
         },
         "zaxis": {
          "title": {
           "text": "Z"
          }
         }
        },
        "template": {
         "data": {
          "bar": [
           {
            "error_x": {
             "color": "#2a3f5f"
            },
            "error_y": {
             "color": "#2a3f5f"
            },
            "marker": {
             "line": {
              "color": "#E5ECF6",
              "width": 0.5
             },
             "pattern": {
              "fillmode": "overlay",
              "size": 10,
              "solidity": 0.2
             }
            },
            "type": "bar"
           }
          ],
          "barpolar": [
           {
            "marker": {
             "line": {
              "color": "#E5ECF6",
              "width": 0.5
             },
             "pattern": {
              "fillmode": "overlay",
              "size": 10,
              "solidity": 0.2
             }
            },
            "type": "barpolar"
           }
          ],
          "carpet": [
           {
            "aaxis": {
             "endlinecolor": "#2a3f5f",
             "gridcolor": "white",
             "linecolor": "white",
             "minorgridcolor": "white",
             "startlinecolor": "#2a3f5f"
            },
            "baxis": {
             "endlinecolor": "#2a3f5f",
             "gridcolor": "white",
             "linecolor": "white",
             "minorgridcolor": "white",
             "startlinecolor": "#2a3f5f"
            },
            "type": "carpet"
           }
          ],
          "choropleth": [
           {
            "colorbar": {
             "outlinewidth": 0,
             "ticks": ""
            },
            "type": "choropleth"
           }
          ],
          "contour": [
           {
            "colorbar": {
             "outlinewidth": 0,
             "ticks": ""
            },
            "colorscale": [
             [
              0,
              "#0d0887"
             ],
             [
              0.1111111111111111,
              "#46039f"
             ],
             [
              0.2222222222222222,
              "#7201a8"
             ],
             [
              0.3333333333333333,
              "#9c179e"
             ],
             [
              0.4444444444444444,
              "#bd3786"
             ],
             [
              0.5555555555555556,
              "#d8576b"
             ],
             [
              0.6666666666666666,
              "#ed7953"
             ],
             [
              0.7777777777777778,
              "#fb9f3a"
             ],
             [
              0.8888888888888888,
              "#fdca26"
             ],
             [
              1,
              "#f0f921"
             ]
            ],
            "type": "contour"
           }
          ],
          "contourcarpet": [
           {
            "colorbar": {
             "outlinewidth": 0,
             "ticks": ""
            },
            "type": "contourcarpet"
           }
          ],
          "heatmap": [
           {
            "colorbar": {
             "outlinewidth": 0,
             "ticks": ""
            },
            "colorscale": [
             [
              0,
              "#0d0887"
             ],
             [
              0.1111111111111111,
              "#46039f"
             ],
             [
              0.2222222222222222,
              "#7201a8"
             ],
             [
              0.3333333333333333,
              "#9c179e"
             ],
             [
              0.4444444444444444,
              "#bd3786"
             ],
             [
              0.5555555555555556,
              "#d8576b"
             ],
             [
              0.6666666666666666,
              "#ed7953"
             ],
             [
              0.7777777777777778,
              "#fb9f3a"
             ],
             [
              0.8888888888888888,
              "#fdca26"
             ],
             [
              1,
              "#f0f921"
             ]
            ],
            "type": "heatmap"
           }
          ],
          "heatmapgl": [
           {
            "colorbar": {
             "outlinewidth": 0,
             "ticks": ""
            },
            "colorscale": [
             [
              0,
              "#0d0887"
             ],
             [
              0.1111111111111111,
              "#46039f"
             ],
             [
              0.2222222222222222,
              "#7201a8"
             ],
             [
              0.3333333333333333,
              "#9c179e"
             ],
             [
              0.4444444444444444,
              "#bd3786"
             ],
             [
              0.5555555555555556,
              "#d8576b"
             ],
             [
              0.6666666666666666,
              "#ed7953"
             ],
             [
              0.7777777777777778,
              "#fb9f3a"
             ],
             [
              0.8888888888888888,
              "#fdca26"
             ],
             [
              1,
              "#f0f921"
             ]
            ],
            "type": "heatmapgl"
           }
          ],
          "histogram": [
           {
            "marker": {
             "pattern": {
              "fillmode": "overlay",
              "size": 10,
              "solidity": 0.2
             }
            },
            "type": "histogram"
           }
          ],
          "histogram2d": [
           {
            "colorbar": {
             "outlinewidth": 0,
             "ticks": ""
            },
            "colorscale": [
             [
              0,
              "#0d0887"
             ],
             [
              0.1111111111111111,
              "#46039f"
             ],
             [
              0.2222222222222222,
              "#7201a8"
             ],
             [
              0.3333333333333333,
              "#9c179e"
             ],
             [
              0.4444444444444444,
              "#bd3786"
             ],
             [
              0.5555555555555556,
              "#d8576b"
             ],
             [
              0.6666666666666666,
              "#ed7953"
             ],
             [
              0.7777777777777778,
              "#fb9f3a"
             ],
             [
              0.8888888888888888,
              "#fdca26"
             ],
             [
              1,
              "#f0f921"
             ]
            ],
            "type": "histogram2d"
           }
          ],
          "histogram2dcontour": [
           {
            "colorbar": {
             "outlinewidth": 0,
             "ticks": ""
            },
            "colorscale": [
             [
              0,
              "#0d0887"
             ],
             [
              0.1111111111111111,
              "#46039f"
             ],
             [
              0.2222222222222222,
              "#7201a8"
             ],
             [
              0.3333333333333333,
              "#9c179e"
             ],
             [
              0.4444444444444444,
              "#bd3786"
             ],
             [
              0.5555555555555556,
              "#d8576b"
             ],
             [
              0.6666666666666666,
              "#ed7953"
             ],
             [
              0.7777777777777778,
              "#fb9f3a"
             ],
             [
              0.8888888888888888,
              "#fdca26"
             ],
             [
              1,
              "#f0f921"
             ]
            ],
            "type": "histogram2dcontour"
           }
          ],
          "mesh3d": [
           {
            "colorbar": {
             "outlinewidth": 0,
             "ticks": ""
            },
            "type": "mesh3d"
           }
          ],
          "parcoords": [
           {
            "line": {
             "colorbar": {
              "outlinewidth": 0,
              "ticks": ""
             }
            },
            "type": "parcoords"
           }
          ],
          "pie": [
           {
            "automargin": true,
            "type": "pie"
           }
          ],
          "scatter": [
           {
            "fillpattern": {
             "fillmode": "overlay",
             "size": 10,
             "solidity": 0.2
            },
            "type": "scatter"
           }
          ],
          "scatter3d": [
           {
            "line": {
             "colorbar": {
              "outlinewidth": 0,
              "ticks": ""
             }
            },
            "marker": {
             "colorbar": {
              "outlinewidth": 0,
              "ticks": ""
             }
            },
            "type": "scatter3d"
           }
          ],
          "scattercarpet": [
           {
            "marker": {
             "colorbar": {
              "outlinewidth": 0,
              "ticks": ""
             }
            },
            "type": "scattercarpet"
           }
          ],
          "scattergeo": [
           {
            "marker": {
             "colorbar": {
              "outlinewidth": 0,
              "ticks": ""
             }
            },
            "type": "scattergeo"
           }
          ],
          "scattergl": [
           {
            "marker": {
             "colorbar": {
              "outlinewidth": 0,
              "ticks": ""
             }
            },
            "type": "scattergl"
           }
          ],
          "scattermapbox": [
           {
            "marker": {
             "colorbar": {
              "outlinewidth": 0,
              "ticks": ""
             }
            },
            "type": "scattermapbox"
           }
          ],
          "scatterpolar": [
           {
            "marker": {
             "colorbar": {
              "outlinewidth": 0,
              "ticks": ""
             }
            },
            "type": "scatterpolar"
           }
          ],
          "scatterpolargl": [
           {
            "marker": {
             "colorbar": {
              "outlinewidth": 0,
              "ticks": ""
             }
            },
            "type": "scatterpolargl"
           }
          ],
          "scatterternary": [
           {
            "marker": {
             "colorbar": {
              "outlinewidth": 0,
              "ticks": ""
             }
            },
            "type": "scatterternary"
           }
          ],
          "surface": [
           {
            "colorbar": {
             "outlinewidth": 0,
             "ticks": ""
            },
            "colorscale": [
             [
              0,
              "#0d0887"
             ],
             [
              0.1111111111111111,
              "#46039f"
             ],
             [
              0.2222222222222222,
              "#7201a8"
             ],
             [
              0.3333333333333333,
              "#9c179e"
             ],
             [
              0.4444444444444444,
              "#bd3786"
             ],
             [
              0.5555555555555556,
              "#d8576b"
             ],
             [
              0.6666666666666666,
              "#ed7953"
             ],
             [
              0.7777777777777778,
              "#fb9f3a"
             ],
             [
              0.8888888888888888,
              "#fdca26"
             ],
             [
              1,
              "#f0f921"
             ]
            ],
            "type": "surface"
           }
          ],
          "table": [
           {
            "cells": {
             "fill": {
              "color": "#EBF0F8"
             },
             "line": {
              "color": "white"
             }
            },
            "header": {
             "fill": {
              "color": "#C8D4E3"
             },
             "line": {
              "color": "white"
             }
            },
            "type": "table"
           }
          ]
         },
         "layout": {
          "annotationdefaults": {
           "arrowcolor": "#2a3f5f",
           "arrowhead": 0,
           "arrowwidth": 1
          },
          "autotypenumbers": "strict",
          "coloraxis": {
           "colorbar": {
            "outlinewidth": 0,
            "ticks": ""
           }
          },
          "colorscale": {
           "diverging": [
            [
             0,
             "#8e0152"
            ],
            [
             0.1,
             "#c51b7d"
            ],
            [
             0.2,
             "#de77ae"
            ],
            [
             0.3,
             "#f1b6da"
            ],
            [
             0.4,
             "#fde0ef"
            ],
            [
             0.5,
             "#f7f7f7"
            ],
            [
             0.6,
             "#e6f5d0"
            ],
            [
             0.7,
             "#b8e186"
            ],
            [
             0.8,
             "#7fbc41"
            ],
            [
             0.9,
             "#4d9221"
            ],
            [
             1,
             "#276419"
            ]
           ],
           "sequential": [
            [
             0,
             "#0d0887"
            ],
            [
             0.1111111111111111,
             "#46039f"
            ],
            [
             0.2222222222222222,
             "#7201a8"
            ],
            [
             0.3333333333333333,
             "#9c179e"
            ],
            [
             0.4444444444444444,
             "#bd3786"
            ],
            [
             0.5555555555555556,
             "#d8576b"
            ],
            [
             0.6666666666666666,
             "#ed7953"
            ],
            [
             0.7777777777777778,
             "#fb9f3a"
            ],
            [
             0.8888888888888888,
             "#fdca26"
            ],
            [
             1,
             "#f0f921"
            ]
           ],
           "sequentialminus": [
            [
             0,
             "#0d0887"
            ],
            [
             0.1111111111111111,
             "#46039f"
            ],
            [
             0.2222222222222222,
             "#7201a8"
            ],
            [
             0.3333333333333333,
             "#9c179e"
            ],
            [
             0.4444444444444444,
             "#bd3786"
            ],
            [
             0.5555555555555556,
             "#d8576b"
            ],
            [
             0.6666666666666666,
             "#ed7953"
            ],
            [
             0.7777777777777778,
             "#fb9f3a"
            ],
            [
             0.8888888888888888,
             "#fdca26"
            ],
            [
             1,
             "#f0f921"
            ]
           ]
          },
          "colorway": [
           "#636efa",
           "#EF553B",
           "#00cc96",
           "#ab63fa",
           "#FFA15A",
           "#19d3f3",
           "#FF6692",
           "#B6E880",
           "#FF97FF",
           "#FECB52"
          ],
          "font": {
           "color": "#2a3f5f"
          },
          "geo": {
           "bgcolor": "white",
           "lakecolor": "white",
           "landcolor": "#E5ECF6",
           "showlakes": true,
           "showland": true,
           "subunitcolor": "white"
          },
          "hoverlabel": {
           "align": "left"
          },
          "hovermode": "closest",
          "mapbox": {
           "style": "light"
          },
          "paper_bgcolor": "white",
          "plot_bgcolor": "#E5ECF6",
          "polar": {
           "angularaxis": {
            "gridcolor": "white",
            "linecolor": "white",
            "ticks": ""
           },
           "bgcolor": "#E5ECF6",
           "radialaxis": {
            "gridcolor": "white",
            "linecolor": "white",
            "ticks": ""
           }
          },
          "scene": {
           "xaxis": {
            "backgroundcolor": "#E5ECF6",
            "gridcolor": "white",
            "gridwidth": 2,
            "linecolor": "white",
            "showbackground": true,
            "ticks": "",
            "zerolinecolor": "white"
           },
           "yaxis": {
            "backgroundcolor": "#E5ECF6",
            "gridcolor": "white",
            "gridwidth": 2,
            "linecolor": "white",
            "showbackground": true,
            "ticks": "",
            "zerolinecolor": "white"
           },
           "zaxis": {
            "backgroundcolor": "#E5ECF6",
            "gridcolor": "white",
            "gridwidth": 2,
            "linecolor": "white",
            "showbackground": true,
            "ticks": "",
            "zerolinecolor": "white"
           }
          },
          "shapedefaults": {
           "line": {
            "color": "#2a3f5f"
           }
          },
          "ternary": {
           "aaxis": {
            "gridcolor": "white",
            "linecolor": "white",
            "ticks": ""
           },
           "baxis": {
            "gridcolor": "white",
            "linecolor": "white",
            "ticks": ""
           },
           "bgcolor": "#E5ECF6",
           "caxis": {
            "gridcolor": "white",
            "linecolor": "white",
            "ticks": ""
           }
          },
          "title": {
           "x": 0.05
          },
          "xaxis": {
           "automargin": true,
           "gridcolor": "white",
           "linecolor": "white",
           "ticks": "",
           "title": {
            "standoff": 15
           },
           "zerolinecolor": "white",
           "zerolinewidth": 2
          },
          "yaxis": {
           "automargin": true,
           "gridcolor": "white",
           "linecolor": "white",
           "ticks": "",
           "title": {
            "standoff": 15
           },
           "zerolinecolor": "white",
           "zerolinewidth": 2
          }
         }
        },
        "title": {
         "text": "3D Scatter Plot"
        },
        "width": 1000
       }
      }
     },
     "metadata": {},
     "output_type": "display_data"
    }
   ],
   "source": [
    "import plotly.express as px\n",
    "\n",
    "df_mic_coords_optimized = parametric_model(df_mic_coords, result.x)\n",
    "\n",
    "# Create the first 3D scatter plot\n",
    "fig = px.scatter_3d(df_mic_coords, \n",
    "                    x='X', \n",
    "                    y='Y', \n",
    "                    z='Z', \n",
    "                    text='Mic_Index', \n",
    "                    title='3D Scatter Plot', \n",
    "                    color='Plane', \n",
    "                    width=1000, \n",
    "                    height=1000)\n",
    "\n",
    "# Create the second 3D scatter plot (optimized data)\n",
    "fig_optimized = px.scatter_3d(df_mic_coords_optimized, \n",
    "                               x='X_optimized', \n",
    "                               y='Y_optimized', \n",
    "                               z='Z_optimized', \n",
    "                               text='Mic_Index', \n",
    "                               color='Plane')\n",
    "\n",
    "# Customize the color of the second plot to differentiate it\n",
    "for trace in fig_optimized.data:\n",
    "    trace.marker.color = 'rgba(0, 0, 0, 0.7)'  # black with some transparency\n",
    "    trace.name = 'Optimized Data'  # Label in the legend\n",
    "\n",
    "# Add each trace from the second figure to the first\n",
    "for trace in fig_optimized.data:\n",
    "    fig.add_trace(trace)\n",
    "\n",
    "# Display the combined figure\n",
    "fig.show()\n"
   ]
  }
 ],
 "metadata": {
  "kernelspec": {
   "display_name": "AsSSASoSe23",
   "language": "python",
   "name": "python3"
  },
  "language_info": {
   "codemirror_mode": {
    "name": "ipython",
    "version": 3
   },
   "file_extension": ".py",
   "mimetype": "text/x-python",
   "name": "python",
   "nbconvert_exporter": "python",
   "pygments_lexer": "ipython3",
   "version": "3.9.16"
  }
 },
 "nbformat": 4,
 "nbformat_minor": 2
}
