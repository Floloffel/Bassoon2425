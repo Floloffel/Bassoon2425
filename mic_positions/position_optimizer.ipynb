{
 "cells": [
  {
   "cell_type": "code",
   "execution_count": 1,
   "metadata": {},
   "outputs": [],
   "source": [
    "# imports\n",
    "import pandas as pd\n",
    "import scipy as sp \n",
    "import math\n",
    "import plotly.express as px\n",
    "\n",
    "from _mic_position_functions import calculate_distance, parametric_model, calc_error_optimized_coords"
   ]
  },
  {
   "cell_type": "markdown",
   "metadata": {},
   "source": [
    "steps:\n",
    "* import meaasured 3d mic positions and distance measurements\n",
    "* only use points with measured distance\n",
    "* calculate sum of squarred errors\n",
    "* build a mic positions model with parameters (offsets and tilt)\n",
    "* optimize those paramters for minimal sum of squarred errors\n",
    "* return optimized paramters and mic positions"
   ]
  },
  {
   "cell_type": "code",
   "execution_count": 2,
   "metadata": {},
   "outputs": [],
   "source": [
    "# read meaasured 3d mic positions\n",
    "df_mic_coords = pd.read_excel(\"data/3d_measured_coords.xlsx\", index_col=0)\n",
    "\n",
    "# read distance measurements\n",
    "df_distances = pd.read_excel(\"data/mic_pos_distances.xlsx\")"
   ]
  },
  {
   "cell_type": "code",
   "execution_count": 3,
   "metadata": {},
   "outputs": [
    {
     "name": "stdout",
     "output_type": "stream",
     "text": [
      "  Mic_Index 1 Mic_Index 2  dist measured  dist calculated  error\n",
      "0         D13         D16          1.260            1.256  0.004\n",
      "1         B17         C16          0.670            0.673 -0.003\n",
      "2         C10         D10          1.175            1.181 -0.006\n",
      "3          C2         B15          1.650            1.651 -0.001\n",
      "4          A7          B6          1.416            1.397  0.019\n",
      "\n",
      "all distances checked\n"
     ]
    }
   ],
   "source": [
    "# check if calculated distances match\n",
    "\n",
    "print(df_distances.head())\n",
    "\n",
    "print(\"\")\n",
    "for index, row in df_distances.iterrows():\n",
    "    \n",
    "    dist = calculate_distance(df_mic_coords, row[0], row[1], print_dist=False)\n",
    "\n",
    "    if math.isclose(dist, df_distances[\"dist calculated\"][index], abs_tol=0.001) == False:\n",
    "        print(index)\n",
    "        print(\"different distance\")\n",
    "\n",
    "print(\"all distances checked\")"
   ]
  },
  {
   "cell_type": "code",
   "execution_count": 4,
   "metadata": {},
   "outputs": [
    {
     "name": "stdout",
     "output_type": "stream",
     "text": [
      "25 different mics used for measurng distances\n",
      "\n",
      "   Mic_Index  Plane      X      Y      Z\n",
      "5         B6   left  1.370  0.989  0.629\n",
      "7         B8   left  1.370  1.315  0.718\n",
      "12       B13   left  1.370  0.157  1.257\n",
      "14       B15   left  1.370  1.044  1.485\n",
      "15       B16   left  1.370  1.392  1.510\n",
      "16       B17   left  1.370  0.674  1.689\n",
      "18        C2  front  0.913  0.028  0.267\n",
      "20        C4  front  1.322  0.028  0.380\n",
      "21        C5  front  0.571  0.028  0.425\n",
      "26       C10  front  0.299  0.028  0.990\n",
      "32       C16  front  1.313  0.028  1.508\n",
      "34        D1  right  0.028  0.817  0.023\n",
      "36        D3  right  0.028  1.215  0.289\n",
      "38        D5  right  0.028  0.905  0.427\n",
      "40        D7  right  0.028  1.331  0.677\n",
      "43       D10  right  0.028  1.177  0.990\n",
      "46       D13  right  0.028  1.392  1.260\n",
      "49       D16  right  0.028  0.161  1.511\n",
      "50       D17  right  0.028  0.877  1.690\n",
      "51        A1    top  0.590  1.246  1.871\n",
      "54        A4    top  1.376  0.864  1.871\n",
      "55        A5    top  1.028  0.857  1.871\n",
      "56        A6    top  0.411  0.856  1.871\n",
      "57        A7    top  0.755  0.810  1.871\n",
      "60       A10    top  0.680  0.393  1.871\n"
     ]
    }
   ],
   "source": [
    "# get all mic positions used for measurng distances (no further used)\n",
    "# get indixes\n",
    "measured_mic_pos = []\n",
    "\n",
    "for mic_index_temp in df_distances[\"Mic_Index 1\"]:\n",
    "    measured_mic_pos.append(mic_index_temp)\n",
    "\n",
    "for mic_index_temp in df_distances[\"Mic_Index 2\"]:\n",
    "    measured_mic_pos.append(mic_index_temp)\n",
    "\n",
    "measured_mic_pos = set(measured_mic_pos) # remove double values\n",
    "measured_mic_pos = sorted(measured_mic_pos) # sort values\n",
    "\n",
    "# filter dataframe\n",
    "df_mic_coords_filtered = df_mic_coords[df_mic_coords.isin(measured_mic_pos).any(axis=1)]\n",
    "\n",
    "\n",
    "print(len(measured_mic_pos), \"different mics used for measurng distances\")\n",
    "print(\"\")\n",
    "print(df_mic_coords_filtered)"
   ]
  },
  {
   "cell_type": "code",
   "execution_count": 5,
   "metadata": {},
   "outputs": [
    {
     "name": "stdout",
     "output_type": "stream",
     "text": [
      "0.00696 = default sum of squared errors\n"
     ]
    }
   ],
   "source": [
    "# calculate sum of squarred errors\n",
    "\n",
    "for index, row in df_distances.iterrows():\n",
    "    \n",
    "    dist = calculate_distance(df_mic_coords, row[0], row[1], print_dist=False)\n",
    "    sq_error = (dist - df_distances[\"dist measured\"][index])**2\n",
    "    df_distances.loc[index, \"squared error\"] = sq_error\n",
    "\n",
    "sum_sq_errors_default = df_distances[\"squared error\"].sum()\n",
    "print(round(sum_sq_errors_default, 5), \"= default sum of squared errors\")\n"
   ]
  },
  {
   "cell_type": "code",
   "execution_count": 6,
   "metadata": {},
   "outputs": [
    {
     "name": "stdout",
     "output_type": "stream",
     "text": [
      "15 parameter in total\n",
      "[0, 0, 0, 0, 0, 0, 0, 0, 0, 0, 0, 0, 0, 0, 0]\n"
     ]
    }
   ],
   "source": [
    "# Parameter\n",
    "\n",
    "# translations = shift = offset\n",
    "\n",
    "# Rotations:\n",
    "# Roll (rotation around the plane's local X-axis)\n",
    "# Pitch (rotation around the plane's local Y-axis)\n",
    "# Yaw (rotation around the plane's local Z-axis) --> assumption: no yaw\n",
    "\n",
    "# shift is in m\n",
    "# roll & pitch in degrees\n",
    "\n",
    "# top plane\n",
    "A_x_shift = 0\n",
    "A_y_shift = 0\n",
    "\n",
    "# left plane\n",
    "# B_x_shift = 0 # keep 0 for reference\n",
    "B_y_shift = 0\n",
    "B_z_shift = 0\n",
    "B_roll = 0 # rotation over 3d y axis \n",
    "B_pitch = 0 # rotation over 3d z axis\n",
    "\n",
    "# front plane\n",
    "C_x_shift = 0\n",
    "# C_y_shift = 0 # keep 0 for reference\n",
    "C_z_shift = 0\n",
    "C_roll = 0 # rotation over 3d x axis \n",
    "C_pitch = 0 # rotation over 3d z axis\n",
    "\n",
    "# right_plane\n",
    "D_x_shift = 0\n",
    "D_y_shift = 0\n",
    "D_z_shift = 0\n",
    "D_roll = 0 # rotation over 3d y axis \n",
    "D_pitch = 0 # rotation over 3d z axis\n",
    "\n",
    "\n",
    "initial_parameters = [\n",
    "    A_x_shift,\n",
    "    A_y_shift,\n",
    "    B_y_shift,\n",
    "    B_z_shift,\n",
    "    B_roll,\n",
    "    B_pitch,\n",
    "    C_x_shift,\n",
    "    C_z_shift,\n",
    "    C_roll,\n",
    "    C_pitch,\n",
    "    D_x_shift,\n",
    "    D_y_shift,\n",
    "    D_z_shift,\n",
    "    D_roll,\n",
    "    D_pitch\n",
    "    ]\n",
    "\n",
    "\n",
    "print(len(initial_parameters), \"parameter in total\")\n",
    "print(initial_parameters)"
   ]
  },
  {
   "cell_type": "code",
   "execution_count": 7,
   "metadata": {},
   "outputs": [],
   "source": [
    "\n",
    "def optimizer_wrapper(initial_parameters, df_mic_coords=df_mic_coords, df_distances=df_distances):\n",
    "    df_mic_coords_moved = parametric_model(df_mic_coords, initial_parameters)\n",
    "    sum_sq_errors, _ = calc_error_optimized_coords(df_distances, df_mic_coords_moved)\n",
    "\n",
    "    return sum_sq_errors"
   ]
  },
  {
   "cell_type": "code",
   "execution_count": 8,
   "metadata": {},
   "outputs": [
    {
     "name": "stdout",
     "output_type": "stream",
     "text": [
      "Optimal variables: [-0.07855106 -0.04049084  0.01434719  0.0119259  -0.71233223 -0.67175506\n",
      "  0.03950037 -0.00558461  1.0641494   1.60576729 -0.04041927 -0.03496487\n",
      " -0.02147978 -0.16139158 -0.38482831]\n",
      "Optimal function value: 1.34779251190118e-05\n"
     ]
    }
   ],
   "source": [
    "result = sp.optimize.minimize(optimizer_wrapper, initial_parameters)\n",
    "\n",
    "print(\"Optimal variables:\", result.x)\n",
    "print(\"Optimal function value:\", result.fun)"
   ]
  },
  {
   "cell_type": "code",
   "execution_count": 9,
   "metadata": {},
   "outputs": [
    {
     "data": {
      "application/vnd.plotly.v1+json": {
       "config": {
        "plotlyServerURL": "https://plot.ly"
       },
       "data": [
        {
         "hovertemplate": "Plane=left<br>X=%{x}<br>Y=%{y}<br>Z=%{z}<br>Mic_Index=%{text}<extra></extra>",
         "legendgroup": "left",
         "marker": {
          "color": "#636efa",
          "symbol": "circle"
         },
         "mode": "markers+text",
         "name": "left",
         "scene": "scene",
         "showlegend": true,
         "text": [
          "B1",
          "B2",
          "B3",
          "B4",
          "B5",
          "B6",
          "B7",
          "B8",
          "B9",
          "B10",
          "B11",
          "B12",
          "B13",
          "B14",
          "B15",
          "B16",
          "B17"
         ],
         "type": "scatter3d",
         "x": [
          1.37,
          1.37,
          1.37,
          1.37,
          1.37,
          1.37,
          1.37,
          1.37,
          1.37,
          1.37,
          1.37,
          1.37,
          1.37,
          1.37,
          1.37,
          1.37,
          1.37
         ],
         "y": [
          0.734,
          0.987,
          0.336,
          1.398,
          0.647,
          0.989,
          0.222,
          1.315,
          0.627,
          0.374,
          1.17,
          0.8089999999999999,
          0.157,
          0.536,
          1.044,
          1.392,
          0.6739999999999999
         ],
         "z": [
          0.02,
          0.266,
          0.287,
          0.38,
          0.425,
          0.629,
          0.672,
          0.718,
          0.774,
          0.989,
          1.148,
          1.194,
          1.257,
          1.372,
          1.485,
          1.51,
          1.689
         ]
        },
        {
         "hovertemplate": "Plane=front<br>X=%{x}<br>Y=%{y}<br>Z=%{z}<br>Mic_Index=%{text}<extra></extra>",
         "legendgroup": "front",
         "marker": {
          "color": "#EF553B",
          "symbol": "circle"
         },
         "mode": "markers+text",
         "name": "front",
         "scene": "scene",
         "showlegend": true,
         "text": [
          "C1",
          "C2",
          "C3",
          "C4",
          "C5",
          "C6",
          "C7",
          "C8",
          "C9",
          "C10",
          "C11",
          "C12",
          "C13",
          "C14",
          "C15",
          "C16",
          "C17"
         ],
         "type": "scatter3d",
         "x": [
          0.659,
          0.913,
          0.261,
          1.322,
          0.5710000000000001,
          0.914,
          0.146,
          1.241,
          0.552,
          0.299,
          1.094,
          0.731,
          0.08499999999999999,
          0.461,
          0.979,
          1.313,
          0.599
         ],
         "y": [
          0.028,
          0.028,
          0.028,
          0.028,
          0.028,
          0.028,
          0.028,
          0.028,
          0.028,
          0.028,
          0.028,
          0.028,
          0.028,
          0.028,
          0.028,
          0.028,
          0.028
         ],
         "z": [
          0.023,
          0.267,
          0.287,
          0.38,
          0.425,
          0.63,
          0.675,
          0.717,
          0.773,
          0.99,
          1.15,
          1.194,
          1.261,
          1.375,
          1.485,
          1.508,
          1.691
         ]
        },
        {
         "hovertemplate": "Plane=right<br>X=%{x}<br>Y=%{y}<br>Z=%{z}<br>Mic_Index=%{text}<extra></extra>",
         "legendgroup": "right",
         "marker": {
          "color": "#00cc96",
          "symbol": "circle"
         },
         "mode": "markers+text",
         "name": "right",
         "scene": "scene",
         "showlegend": true,
         "text": [
          "D1",
          "D2",
          "D3",
          "D4",
          "D5",
          "D6",
          "D7",
          "D8",
          "D9",
          "D10",
          "D11",
          "D12",
          "D13",
          "D14",
          "D15",
          "D16",
          "D17"
         ],
         "type": "scatter3d",
         "x": [
          0.028,
          0.028,
          0.028,
          0.028,
          0.028,
          0.028,
          0.028,
          0.028,
          0.028,
          0.028,
          0.028,
          0.028,
          0.028,
          0.028,
          0.028,
          0.028,
          0.028
         ],
         "y": [
          0.8169999999999998,
          0.5659999999999998,
          1.215,
          0.1539999999999998,
          0.9049999999999998,
          0.5619999999999998,
          1.331,
          0.2369999999999998,
          0.9249999999999998,
          1.177,
          0.3839999999999998,
          0.7459999999999999,
          1.392,
          1.016,
          0.5029999999999999,
          0.1609999999999999,
          0.8769999999999999
         ],
         "z": [
          0.023,
          0.27,
          0.289,
          0.385,
          0.427,
          0.63,
          0.677,
          0.72,
          0.773,
          0.99,
          1.149,
          1.195,
          1.26,
          1.375,
          1.485,
          1.511,
          1.69
         ]
        },
        {
         "hovertemplate": "Plane=top<br>X=%{x}<br>Y=%{y}<br>Z=%{z}<br>Mic_Index=%{text}<extra></extra>",
         "legendgroup": "top",
         "marker": {
          "color": "#ab63fa",
          "symbol": "circle"
         },
         "mode": "markers+text",
         "name": "top",
         "scene": "scene",
         "showlegend": true,
         "text": [
          "A1",
          "A2",
          "A3",
          "A4",
          "A5",
          "A6",
          "A7",
          "A8",
          "A9",
          "A10",
          "A11",
          "A12",
          "A13"
         ],
         "type": "scatter3d",
         "x": [
          0.59,
          1.159,
          0.87,
          1.376,
          1.028,
          0.411,
          0.755,
          0.974,
          1.405,
          0.68,
          0.985,
          0.3320000000000001,
          1.272
         ],
         "y": [
          1.246,
          1.147,
          1.127,
          0.8640000000000001,
          0.857,
          0.8560000000000001,
          0.81,
          0.548,
          0.5209999999999999,
          0.3930000000000001,
          0.1549999999999999,
          0.1290000000000001,
          0.117
         ],
         "z": [
          1.871,
          1.871,
          1.871,
          1.871,
          1.871,
          1.871,
          1.871,
          1.871,
          1.871,
          1.871,
          1.871,
          1.871,
          1.871
         ]
        },
        {
         "hovertemplate": "Plane=left<br>X_optimized=%{x}<br>Y_optimized=%{y}<br>Z_optimized=%{z}<br>Mic_Index=%{text}<extra></extra>",
         "legendgroup": "left",
         "marker": {
          "color": "rgba(0, 0, 0, 0.7)",
          "symbol": "circle"
         },
         "mode": "markers+text",
         "name": "Optimized Data",
         "scene": "scene",
         "showlegend": true,
         "text": [
          "B1",
          "B2",
          "B3",
          "B4",
          "B5",
          "B6",
          "B7",
          "B8",
          "B9",
          "B10",
          "B11",
          "B12",
          "B13",
          "B14",
          "B15",
          "B16",
          "B17"
         ],
         "type": "scatter3d",
         "x": [
          1.3781767617690093,
          1.378084834654433,
          1.3701914070598742,
          1.381486251016711,
          1.3721220636963114,
          1.373595696175137,
          1.364068786488256,
          1.3763113508817937,
          1.36754903485413,
          1.3619101012786332,
          1.369265872609657,
          1.3644616407986019,
          1.3560343716752934,
          1.3590481864641517,
          1.3635992688794216,
          1.3673684606600824,
          1.3567253642896981
         ],
         "y": [
          0.7322396774190854,
          0.9852581449504039,
          0.3343059485781673,
          1.396246513436103,
          0.6453046881392652,
          0.9873109170048107,
          0.22036989986362976,
          1.3133014835715773,
          0.6253569316500691,
          0.37240565774259976,
          1.1683741244945605,
          0.8074056405434005,
          0.15545963466224755,
          0.534450348240432,
          1.0424319042318875,
          1.3904116303560095,
          0.6724870683290116
         ],
         "z": [
          0.048955581213021244,
          0.29493656957901004,
          0.31593494663464317,
          0.4089277593095902,
          0.45392428157166126,
          0.6579085158263838,
          0.7009051926545852,
          0.7469016376335911,
          0.8028973097819463,
          1.0178806939229528,
          1.1768684059156038,
          1.2228648508946098,
          1.2858599820615095,
          1.4008510945090247,
          1.51384236152267,
          1.5388404294460427,
          1.7178265957773924
         ]
        },
        {
         "hovertemplate": "Plane=front<br>X_optimized=%{x}<br>Y_optimized=%{y}<br>Z_optimized=%{z}<br>Mic_Index=%{text}<extra></extra>",
         "legendgroup": "front",
         "marker": {
          "color": "rgba(0, 0, 0, 0.7)",
          "symbol": "circle"
         },
         "mode": "markers+text",
         "name": "Optimized Data",
         "scene": "scene",
         "showlegend": true,
         "text": [
          "C1",
          "C2",
          "C3",
          "C4",
          "C5",
          "C6",
          "C7",
          "C8",
          "C9",
          "C10",
          "C11",
          "C12",
          "C13",
          "C14",
          "C15",
          "C16",
          "C17"
         ],
         "type": "scatter3d",
         "x": [
          0.6974506443705166,
          0.9514778821186918,
          0.29974433138754036,
          1.3603760756082581,
          0.6096944128574033,
          0.9526664036814011,
          0.18499141684018044,
          1.2795832675682772,
          0.5908829820569313,
          0.33809526751830016,
          1.1328663385625988,
          0.770031787566893,
          0.12432034060582328,
          0.5002320136390587,
          1.0180858414919502,
          1.351966649276927,
          0.6383422752506466
         ],
         "y": [
          0.04723442540584249,
          0.04982232867702562,
          0.031180525740979296,
          0.05918563789746593,
          0.03730551771613619,
          0.04311141935415524,
          0.020754920794024988,
          0.05065958174834073,
          0.030312631488861694,
          0.0191944930135856,
          0.038501859817560685,
          0.027512940125721606,
          0.008166736894139784,
          0.016586747064747172,
          0.02906017601045123,
          0.03799262539540942,
          0.01458742087085188
         ],
         "z": [
          0.017932402859976736,
          0.261890319802,
          0.2818868703710183,
          0.37487083051695336,
          0.41986306929724454,
          0.6248277126296821,
          0.6698199514099732,
          0.7118127076049116,
          0.7678030491981629,
          0.9847656228720113,
          1.1447380274241576,
          1.188730438675998,
          1.2557188830822092,
          1.3696992213256136,
          1.4796802494552144,
          1.5026762826095852,
          1.6856447203161027
         ]
        },
        {
         "hovertemplate": "Plane=right<br>X_optimized=%{x}<br>Y_optimized=%{y}<br>Z_optimized=%{z}<br>Mic_Index=%{text}<extra></extra>",
         "legendgroup": "right",
         "marker": {
          "color": "rgba(0, 0, 0, 0.7)",
          "symbol": "circle"
         },
         "mode": "markers+text",
         "name": "Optimized Data",
         "scene": "scene",
         "showlegend": true,
         "text": [
          "D1",
          "D2",
          "D3",
          "D4",
          "D5",
          "D6",
          "D7",
          "D8",
          "D9",
          "D10",
          "D11",
          "D12",
          "D13",
          "D14",
          "D15",
          "D16",
          "D17"
         ],
         "type": "scatter3d",
         "x": [
          -0.007170707331924031,
          -0.009552277991652383,
          -0.005246806767479141,
          -0.012643389797919855,
          -0.0077176237563350535,
          -0.010593172837914989,
          -0.0055605940611369335,
          -0.013029533023924664,
          -0.00855788884848865,
          -0.007476572382693484,
          -0.013250596360973645,
          -0.010948804371329056,
          -0.006793052926560817,
          -0.009642371791223398,
          -0.013397763392495399,
          -0.015768031762909685,
          -0.011463236548021588
         ],
         "y": [
          0.782100931428133,
          0.5311112659190499,
          1.180096986703309,
          0.11912273457316903,
          0.8701065898092349,
          0.5271181669913692,
          1.2961017108191906,
          0.20212720032019466,
          0.8901126846773579,
          1.1421111060587457,
          0.34913200088810625,
          0.7111247059843194,
          1.357111364711002,
          0.981122021358372,
          0.4681356735474084,
          0.1261438795062039,
          0.8421311160998335
         ],
         "z": [
          0.001485232398657799,
          0.24848425249556272,
          0.2674841771184015,
          0.36348379626537675,
          0.4054836296421784,
          0.6084828242967197,
          0.6554826378374263,
          0.6984824672470089,
          0.7514822569844015,
          0.9684813960978766,
          1.1274807653100543,
          1.17348058281798,
          1.2384803249487444,
          1.3534798687185583,
          1.4634794323244675,
          1.4894793291767732,
          1.6684786190445706
         ]
        },
        {
         "hovertemplate": "Plane=top<br>X_optimized=%{x}<br>Y_optimized=%{y}<br>Z_optimized=%{z}<br>Mic_Index=%{text}<extra></extra>",
         "legendgroup": "top",
         "marker": {
          "color": "rgba(0, 0, 0, 0.7)",
          "symbol": "circle"
         },
         "mode": "markers+text",
         "name": "Optimized Data",
         "scene": "scene",
         "showlegend": true,
         "text": [
          "A1",
          "A2",
          "A3",
          "A4",
          "A5",
          "A6",
          "A7",
          "A8",
          "A9",
          "A10",
          "A11",
          "A12",
          "A13"
         ],
         "type": "scatter3d",
         "x": [
          0.5114489403497628,
          1.080448940349763,
          0.7914489403497629,
          1.2974489403497629,
          0.9494489403497629,
          0.33244894034976286,
          0.6764489403497629,
          0.8954489403497629,
          1.326448940349763,
          0.6014489403497629,
          0.9064489403497629,
          0.25344894034976295,
          1.193448940349763
         ],
         "y": [
          1.2055091553941857,
          1.1065091553941857,
          1.0865091553941857,
          0.8235091553941858,
          0.8165091553941857,
          0.8155091553941858,
          0.7695091553941857,
          0.5075091553941857,
          0.4805091553941856,
          0.3525091553941858,
          0.11450915539418556,
          0.08850915539418576,
          0.07650915539418568
         ],
         "z": [
          1.871,
          1.871,
          1.871,
          1.871,
          1.871,
          1.871,
          1.871,
          1.871,
          1.871,
          1.871,
          1.871,
          1.871,
          1.871
         ]
        }
       ],
       "layout": {
        "height": 1000,
        "legend": {
         "title": {
          "text": "Plane"
         },
         "tracegroupgap": 0
        },
        "scene": {
         "domain": {
          "x": [
           0,
           1
          ],
          "y": [
           0,
           1
          ]
         },
         "xaxis": {
          "title": {
           "text": "X"
          }
         },
         "yaxis": {
          "title": {
           "text": "Y"
          }
         },
         "zaxis": {
          "title": {
           "text": "Z"
          }
         }
        },
        "template": {
         "data": {
          "bar": [
           {
            "error_x": {
             "color": "#2a3f5f"
            },
            "error_y": {
             "color": "#2a3f5f"
            },
            "marker": {
             "line": {
              "color": "#E5ECF6",
              "width": 0.5
             },
             "pattern": {
              "fillmode": "overlay",
              "size": 10,
              "solidity": 0.2
             }
            },
            "type": "bar"
           }
          ],
          "barpolar": [
           {
            "marker": {
             "line": {
              "color": "#E5ECF6",
              "width": 0.5
             },
             "pattern": {
              "fillmode": "overlay",
              "size": 10,
              "solidity": 0.2
             }
            },
            "type": "barpolar"
           }
          ],
          "carpet": [
           {
            "aaxis": {
             "endlinecolor": "#2a3f5f",
             "gridcolor": "white",
             "linecolor": "white",
             "minorgridcolor": "white",
             "startlinecolor": "#2a3f5f"
            },
            "baxis": {
             "endlinecolor": "#2a3f5f",
             "gridcolor": "white",
             "linecolor": "white",
             "minorgridcolor": "white",
             "startlinecolor": "#2a3f5f"
            },
            "type": "carpet"
           }
          ],
          "choropleth": [
           {
            "colorbar": {
             "outlinewidth": 0,
             "ticks": ""
            },
            "type": "choropleth"
           }
          ],
          "contour": [
           {
            "colorbar": {
             "outlinewidth": 0,
             "ticks": ""
            },
            "colorscale": [
             [
              0,
              "#0d0887"
             ],
             [
              0.1111111111111111,
              "#46039f"
             ],
             [
              0.2222222222222222,
              "#7201a8"
             ],
             [
              0.3333333333333333,
              "#9c179e"
             ],
             [
              0.4444444444444444,
              "#bd3786"
             ],
             [
              0.5555555555555556,
              "#d8576b"
             ],
             [
              0.6666666666666666,
              "#ed7953"
             ],
             [
              0.7777777777777778,
              "#fb9f3a"
             ],
             [
              0.8888888888888888,
              "#fdca26"
             ],
             [
              1,
              "#f0f921"
             ]
            ],
            "type": "contour"
           }
          ],
          "contourcarpet": [
           {
            "colorbar": {
             "outlinewidth": 0,
             "ticks": ""
            },
            "type": "contourcarpet"
           }
          ],
          "heatmap": [
           {
            "colorbar": {
             "outlinewidth": 0,
             "ticks": ""
            },
            "colorscale": [
             [
              0,
              "#0d0887"
             ],
             [
              0.1111111111111111,
              "#46039f"
             ],
             [
              0.2222222222222222,
              "#7201a8"
             ],
             [
              0.3333333333333333,
              "#9c179e"
             ],
             [
              0.4444444444444444,
              "#bd3786"
             ],
             [
              0.5555555555555556,
              "#d8576b"
             ],
             [
              0.6666666666666666,
              "#ed7953"
             ],
             [
              0.7777777777777778,
              "#fb9f3a"
             ],
             [
              0.8888888888888888,
              "#fdca26"
             ],
             [
              1,
              "#f0f921"
             ]
            ],
            "type": "heatmap"
           }
          ],
          "heatmapgl": [
           {
            "colorbar": {
             "outlinewidth": 0,
             "ticks": ""
            },
            "colorscale": [
             [
              0,
              "#0d0887"
             ],
             [
              0.1111111111111111,
              "#46039f"
             ],
             [
              0.2222222222222222,
              "#7201a8"
             ],
             [
              0.3333333333333333,
              "#9c179e"
             ],
             [
              0.4444444444444444,
              "#bd3786"
             ],
             [
              0.5555555555555556,
              "#d8576b"
             ],
             [
              0.6666666666666666,
              "#ed7953"
             ],
             [
              0.7777777777777778,
              "#fb9f3a"
             ],
             [
              0.8888888888888888,
              "#fdca26"
             ],
             [
              1,
              "#f0f921"
             ]
            ],
            "type": "heatmapgl"
           }
          ],
          "histogram": [
           {
            "marker": {
             "pattern": {
              "fillmode": "overlay",
              "size": 10,
              "solidity": 0.2
             }
            },
            "type": "histogram"
           }
          ],
          "histogram2d": [
           {
            "colorbar": {
             "outlinewidth": 0,
             "ticks": ""
            },
            "colorscale": [
             [
              0,
              "#0d0887"
             ],
             [
              0.1111111111111111,
              "#46039f"
             ],
             [
              0.2222222222222222,
              "#7201a8"
             ],
             [
              0.3333333333333333,
              "#9c179e"
             ],
             [
              0.4444444444444444,
              "#bd3786"
             ],
             [
              0.5555555555555556,
              "#d8576b"
             ],
             [
              0.6666666666666666,
              "#ed7953"
             ],
             [
              0.7777777777777778,
              "#fb9f3a"
             ],
             [
              0.8888888888888888,
              "#fdca26"
             ],
             [
              1,
              "#f0f921"
             ]
            ],
            "type": "histogram2d"
           }
          ],
          "histogram2dcontour": [
           {
            "colorbar": {
             "outlinewidth": 0,
             "ticks": ""
            },
            "colorscale": [
             [
              0,
              "#0d0887"
             ],
             [
              0.1111111111111111,
              "#46039f"
             ],
             [
              0.2222222222222222,
              "#7201a8"
             ],
             [
              0.3333333333333333,
              "#9c179e"
             ],
             [
              0.4444444444444444,
              "#bd3786"
             ],
             [
              0.5555555555555556,
              "#d8576b"
             ],
             [
              0.6666666666666666,
              "#ed7953"
             ],
             [
              0.7777777777777778,
              "#fb9f3a"
             ],
             [
              0.8888888888888888,
              "#fdca26"
             ],
             [
              1,
              "#f0f921"
             ]
            ],
            "type": "histogram2dcontour"
           }
          ],
          "mesh3d": [
           {
            "colorbar": {
             "outlinewidth": 0,
             "ticks": ""
            },
            "type": "mesh3d"
           }
          ],
          "parcoords": [
           {
            "line": {
             "colorbar": {
              "outlinewidth": 0,
              "ticks": ""
             }
            },
            "type": "parcoords"
           }
          ],
          "pie": [
           {
            "automargin": true,
            "type": "pie"
           }
          ],
          "scatter": [
           {
            "fillpattern": {
             "fillmode": "overlay",
             "size": 10,
             "solidity": 0.2
            },
            "type": "scatter"
           }
          ],
          "scatter3d": [
           {
            "line": {
             "colorbar": {
              "outlinewidth": 0,
              "ticks": ""
             }
            },
            "marker": {
             "colorbar": {
              "outlinewidth": 0,
              "ticks": ""
             }
            },
            "type": "scatter3d"
           }
          ],
          "scattercarpet": [
           {
            "marker": {
             "colorbar": {
              "outlinewidth": 0,
              "ticks": ""
             }
            },
            "type": "scattercarpet"
           }
          ],
          "scattergeo": [
           {
            "marker": {
             "colorbar": {
              "outlinewidth": 0,
              "ticks": ""
             }
            },
            "type": "scattergeo"
           }
          ],
          "scattergl": [
           {
            "marker": {
             "colorbar": {
              "outlinewidth": 0,
              "ticks": ""
             }
            },
            "type": "scattergl"
           }
          ],
          "scattermapbox": [
           {
            "marker": {
             "colorbar": {
              "outlinewidth": 0,
              "ticks": ""
             }
            },
            "type": "scattermapbox"
           }
          ],
          "scatterpolar": [
           {
            "marker": {
             "colorbar": {
              "outlinewidth": 0,
              "ticks": ""
             }
            },
            "type": "scatterpolar"
           }
          ],
          "scatterpolargl": [
           {
            "marker": {
             "colorbar": {
              "outlinewidth": 0,
              "ticks": ""
             }
            },
            "type": "scatterpolargl"
           }
          ],
          "scatterternary": [
           {
            "marker": {
             "colorbar": {
              "outlinewidth": 0,
              "ticks": ""
             }
            },
            "type": "scatterternary"
           }
          ],
          "surface": [
           {
            "colorbar": {
             "outlinewidth": 0,
             "ticks": ""
            },
            "colorscale": [
             [
              0,
              "#0d0887"
             ],
             [
              0.1111111111111111,
              "#46039f"
             ],
             [
              0.2222222222222222,
              "#7201a8"
             ],
             [
              0.3333333333333333,
              "#9c179e"
             ],
             [
              0.4444444444444444,
              "#bd3786"
             ],
             [
              0.5555555555555556,
              "#d8576b"
             ],
             [
              0.6666666666666666,
              "#ed7953"
             ],
             [
              0.7777777777777778,
              "#fb9f3a"
             ],
             [
              0.8888888888888888,
              "#fdca26"
             ],
             [
              1,
              "#f0f921"
             ]
            ],
            "type": "surface"
           }
          ],
          "table": [
           {
            "cells": {
             "fill": {
              "color": "#EBF0F8"
             },
             "line": {
              "color": "white"
             }
            },
            "header": {
             "fill": {
              "color": "#C8D4E3"
             },
             "line": {
              "color": "white"
             }
            },
            "type": "table"
           }
          ]
         },
         "layout": {
          "annotationdefaults": {
           "arrowcolor": "#2a3f5f",
           "arrowhead": 0,
           "arrowwidth": 1
          },
          "autotypenumbers": "strict",
          "coloraxis": {
           "colorbar": {
            "outlinewidth": 0,
            "ticks": ""
           }
          },
          "colorscale": {
           "diverging": [
            [
             0,
             "#8e0152"
            ],
            [
             0.1,
             "#c51b7d"
            ],
            [
             0.2,
             "#de77ae"
            ],
            [
             0.3,
             "#f1b6da"
            ],
            [
             0.4,
             "#fde0ef"
            ],
            [
             0.5,
             "#f7f7f7"
            ],
            [
             0.6,
             "#e6f5d0"
            ],
            [
             0.7,
             "#b8e186"
            ],
            [
             0.8,
             "#7fbc41"
            ],
            [
             0.9,
             "#4d9221"
            ],
            [
             1,
             "#276419"
            ]
           ],
           "sequential": [
            [
             0,
             "#0d0887"
            ],
            [
             0.1111111111111111,
             "#46039f"
            ],
            [
             0.2222222222222222,
             "#7201a8"
            ],
            [
             0.3333333333333333,
             "#9c179e"
            ],
            [
             0.4444444444444444,
             "#bd3786"
            ],
            [
             0.5555555555555556,
             "#d8576b"
            ],
            [
             0.6666666666666666,
             "#ed7953"
            ],
            [
             0.7777777777777778,
             "#fb9f3a"
            ],
            [
             0.8888888888888888,
             "#fdca26"
            ],
            [
             1,
             "#f0f921"
            ]
           ],
           "sequentialminus": [
            [
             0,
             "#0d0887"
            ],
            [
             0.1111111111111111,
             "#46039f"
            ],
            [
             0.2222222222222222,
             "#7201a8"
            ],
            [
             0.3333333333333333,
             "#9c179e"
            ],
            [
             0.4444444444444444,
             "#bd3786"
            ],
            [
             0.5555555555555556,
             "#d8576b"
            ],
            [
             0.6666666666666666,
             "#ed7953"
            ],
            [
             0.7777777777777778,
             "#fb9f3a"
            ],
            [
             0.8888888888888888,
             "#fdca26"
            ],
            [
             1,
             "#f0f921"
            ]
           ]
          },
          "colorway": [
           "#636efa",
           "#EF553B",
           "#00cc96",
           "#ab63fa",
           "#FFA15A",
           "#19d3f3",
           "#FF6692",
           "#B6E880",
           "#FF97FF",
           "#FECB52"
          ],
          "font": {
           "color": "#2a3f5f"
          },
          "geo": {
           "bgcolor": "white",
           "lakecolor": "white",
           "landcolor": "#E5ECF6",
           "showlakes": true,
           "showland": true,
           "subunitcolor": "white"
          },
          "hoverlabel": {
           "align": "left"
          },
          "hovermode": "closest",
          "mapbox": {
           "style": "light"
          },
          "paper_bgcolor": "white",
          "plot_bgcolor": "#E5ECF6",
          "polar": {
           "angularaxis": {
            "gridcolor": "white",
            "linecolor": "white",
            "ticks": ""
           },
           "bgcolor": "#E5ECF6",
           "radialaxis": {
            "gridcolor": "white",
            "linecolor": "white",
            "ticks": ""
           }
          },
          "scene": {
           "xaxis": {
            "backgroundcolor": "#E5ECF6",
            "gridcolor": "white",
            "gridwidth": 2,
            "linecolor": "white",
            "showbackground": true,
            "ticks": "",
            "zerolinecolor": "white"
           },
           "yaxis": {
            "backgroundcolor": "#E5ECF6",
            "gridcolor": "white",
            "gridwidth": 2,
            "linecolor": "white",
            "showbackground": true,
            "ticks": "",
            "zerolinecolor": "white"
           },
           "zaxis": {
            "backgroundcolor": "#E5ECF6",
            "gridcolor": "white",
            "gridwidth": 2,
            "linecolor": "white",
            "showbackground": true,
            "ticks": "",
            "zerolinecolor": "white"
           }
          },
          "shapedefaults": {
           "line": {
            "color": "#2a3f5f"
           }
          },
          "ternary": {
           "aaxis": {
            "gridcolor": "white",
            "linecolor": "white",
            "ticks": ""
           },
           "baxis": {
            "gridcolor": "white",
            "linecolor": "white",
            "ticks": ""
           },
           "bgcolor": "#E5ECF6",
           "caxis": {
            "gridcolor": "white",
            "linecolor": "white",
            "ticks": ""
           }
          },
          "title": {
           "x": 0.05
          },
          "xaxis": {
           "automargin": true,
           "gridcolor": "white",
           "linecolor": "white",
           "ticks": "",
           "title": {
            "standoff": 15
           },
           "zerolinecolor": "white",
           "zerolinewidth": 2
          },
          "yaxis": {
           "automargin": true,
           "gridcolor": "white",
           "linecolor": "white",
           "ticks": "",
           "title": {
            "standoff": 15
           },
           "zerolinecolor": "white",
           "zerolinewidth": 2
          }
         }
        },
        "title": {
         "text": "3D Scatter Plot"
        },
        "width": 1000
       }
      }
     },
     "metadata": {},
     "output_type": "display_data"
    }
   ],
   "source": [
    "df_mic_coords_optimized = parametric_model(df_mic_coords, result.x)\n",
    "\n",
    "# Create the first 3D scatter plot\n",
    "fig = px.scatter_3d(df_mic_coords, \n",
    "                    x='X', \n",
    "                    y='Y', \n",
    "                    z='Z', \n",
    "                    text='Mic_Index', \n",
    "                    title='3D Scatter Plot', \n",
    "                    color='Plane', \n",
    "                    width=1000, \n",
    "                    height=1000)\n",
    "\n",
    "# Create the second 3D scatter plot (optimized data)\n",
    "fig_optimized = px.scatter_3d(df_mic_coords_optimized, \n",
    "                               x='X_optimized', \n",
    "                               y='Y_optimized', \n",
    "                               z='Z_optimized', \n",
    "                               text='Mic_Index', \n",
    "                               color='Plane')\n",
    "\n",
    "# Customize the color of the second plot to differentiate it\n",
    "for trace in fig_optimized.data:\n",
    "    trace.marker.color = 'rgba(0, 0, 0, 0.7)'  # black with some transparency\n",
    "    trace.name = 'Optimized Data'  # Label in the legend\n",
    "\n",
    "# Add each trace from the second figure to the first\n",
    "for trace in fig_optimized.data:\n",
    "    fig.add_trace(trace)\n",
    "\n",
    "# Display the combined figure\n",
    "fig.show()\n"
   ]
  }
 ],
 "metadata": {
  "kernelspec": {
   "display_name": "AsSSASoSe23",
   "language": "python",
   "name": "python3"
  },
  "language_info": {
   "codemirror_mode": {
    "name": "ipython",
    "version": 3
   },
   "file_extension": ".py",
   "mimetype": "text/x-python",
   "name": "python",
   "nbconvert_exporter": "python",
   "pygments_lexer": "ipython3",
   "version": "3.9.16"
  }
 },
 "nbformat": 4,
 "nbformat_minor": 2
}
