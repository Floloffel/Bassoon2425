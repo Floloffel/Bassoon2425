{
 "cells": [
  {
   "cell_type": "code",
   "execution_count": 1,
   "metadata": {},
   "outputs": [],
   "source": [
    "# imports\n",
    "import pandas as pd\n",
    "import scipy as sp \n",
    "import math\n",
    "import plotly.express as px\n",
    "import numpy as np\n",
    "\n",
    "from _mic_position_functions import calculate_distance, parametric_model, calc_error_optimized_coords"
   ]
  },
  {
   "cell_type": "markdown",
   "metadata": {},
   "source": [
    "steps:\n",
    "* import meaasured 3d mic positions and distance measurements\n",
    "* only use points with measured distance\n",
    "* calculate sum of squarred errors\n",
    "* build a mic positions model with parameters (offsets and tilt)\n",
    "* optimize those paramters for minimal sum of squarred errors\n",
    "* return optimized paramters and mic positions"
   ]
  },
  {
   "cell_type": "code",
   "execution_count": 2,
   "metadata": {},
   "outputs": [],
   "source": [
    "# read meaasured 3d mic positions\n",
    "df_mic_coords = pd.read_excel(\"data/3d_measured_coords.xlsx\", index_col=0)\n",
    "\n",
    "# read distance measurements\n",
    "df_distances = pd.read_excel(\"data/mic_pos_distances.xlsx\")"
   ]
  },
  {
   "cell_type": "code",
   "execution_count": 3,
   "metadata": {},
   "outputs": [
    {
     "name": "stdout",
     "output_type": "stream",
     "text": [
      "  Mic_Index 1 Mic_Index 2  dist measured  dist calculated  error\n",
      "0         D13         D16          1.262            1.256  0.006\n",
      "1         B17         C16          1.570            1.549  0.021\n",
      "2         C10         D10          1.144            1.126  0.018\n",
      "3          C2         B15          1.577            1.579 -0.002\n",
      "4          A7          B6          1.445            1.422  0.023\n",
      "\n",
      "18\n",
      "different distance\n",
      "all distances checked\n"
     ]
    }
   ],
   "source": [
    "# check if calculated distances match\n",
    "\n",
    "print(df_distances.head())\n",
    "\n",
    "print(\"\")\n",
    "for index, row in df_distances.iterrows():\n",
    "    \n",
    "    dist = calculate_distance(df_mic_coords, row[0], row[1], print_dist=False)\n",
    "\n",
    "    if math.isclose(dist, df_distances[\"dist calculated\"][index], abs_tol=0.001) == False:\n",
    "        print(index)\n",
    "        print(\"different distance\")\n",
    "\n",
    "print(\"all distances checked\")"
   ]
  },
  {
   "cell_type": "code",
   "execution_count": 4,
   "metadata": {},
   "outputs": [
    {
     "name": "stdout",
     "output_type": "stream",
     "text": [
      "37 different mics used for measurng distances\n",
      "\n",
      "   Mic_Index  Plane      X      Y      Z\n",
      "2         B3  right  1.370  1.212  0.287\n",
      "3         B4  right  1.370  0.150  0.380\n",
      "5         B6  right  1.370  0.559  0.629\n",
      "7         B8  right  1.370  0.233  0.718\n",
      "11       B12  right  1.370  0.739  1.194\n",
      "12       B13  right  1.370  1.391  1.257\n",
      "13       B14  right  1.370  1.012  1.372\n",
      "14       B15  right  1.370  0.504  1.485\n",
      "15       B16  right  1.370  0.156  1.510\n",
      "16       B17  right  1.370  0.874  1.689\n",
      "18        C2  front  0.485  0.028  0.267\n",
      "20        C4  front  0.076  0.028  0.380\n",
      "21        C5  front  0.827  0.028  0.425\n",
      "26       C10  front  1.099  0.028  0.990\n",
      "28       C12  front  0.667  0.028  1.194\n",
      "32       C16  front  0.085  0.028  1.508\n",
      "33       C17  front  0.799  0.028  1.691\n",
      "34        D1   left  0.028  0.737  0.023\n",
      "36        D3   left  0.028  0.339  0.289\n",
      "37        D4   left  0.028  1.400  0.385\n",
      "38        D5   left  0.028  0.649  0.427\n",
      "40        D7   left  0.028  0.223  0.677\n",
      "43       D10   left  0.028  0.377  0.990\n",
      "45       D12   left  0.028  0.808  1.195\n",
      "46       D13   left  0.028  0.162  1.260\n",
      "47       D14   left  0.028  0.538  1.375\n",
      "48       D15   left  0.028  1.051  1.485\n",
      "49       D16   left  0.028  1.393  1.511\n",
      "50       D17   left  0.028  0.677  1.690\n",
      "51        A1    top  0.890  1.246  1.871\n",
      "54        A4    top  0.104  0.864  1.871\n",
      "55        A5    top  0.452  0.857  1.871\n",
      "56        A6    top  1.069  0.856  1.871\n",
      "57        A7    top  0.725  0.810  1.871\n",
      "60       A10    top  0.800  0.393  1.871\n",
      "62       A12    top  1.390  0.129  1.871\n",
      "63       A13    top  0.208  0.117  1.871\n"
     ]
    }
   ],
   "source": [
    "# get all mic positions used for measurng distances (no further used)\n",
    "# get indixes\n",
    "measured_mic_pos = []\n",
    "\n",
    "for mic_index_temp in df_distances[\"Mic_Index 1\"]:\n",
    "    measured_mic_pos.append(mic_index_temp)\n",
    "\n",
    "for mic_index_temp in df_distances[\"Mic_Index 2\"]:\n",
    "    measured_mic_pos.append(mic_index_temp)\n",
    "\n",
    "measured_mic_pos = set(measured_mic_pos) # remove double values\n",
    "measured_mic_pos = sorted(measured_mic_pos) # sort values\n",
    "\n",
    "# filter dataframe\n",
    "df_mic_coords_filtered = df_mic_coords[df_mic_coords.isin(measured_mic_pos).any(axis=1)]\n",
    "\n",
    "\n",
    "print(len(measured_mic_pos), \"different mics used for measurng distances\")\n",
    "print(\"\")\n",
    "print(df_mic_coords_filtered)"
   ]
  },
  {
   "cell_type": "code",
   "execution_count": 5,
   "metadata": {},
   "outputs": [
    {
     "name": "stdout",
     "output_type": "stream",
     "text": [
      "0.0261 = default sum of squared errors\n"
     ]
    }
   ],
   "source": [
    "# calculate sum of squarred errors\n",
    "\n",
    "for index, row in df_distances.iterrows():\n",
    "    \n",
    "    dist = calculate_distance(df_mic_coords, row[0], row[1], print_dist=False)\n",
    "    sq_error = (dist - df_distances[\"dist measured\"][index])**2\n",
    "    df_distances.loc[index, \"squared error\"] = sq_error\n",
    "\n",
    "sum_sq_errors_default = df_distances[\"squared error\"].sum()\n",
    "print(round(sum_sq_errors_default, 5), \"= default sum of squared errors\")\n"
   ]
  },
  {
   "cell_type": "code",
   "execution_count": 6,
   "metadata": {},
   "outputs": [
    {
     "name": "stdout",
     "output_type": "stream",
     "text": [
      "15 parameter in total\n",
      "[0, 0, 0, 0, 0, 0, 0, 0, 0, 0, 0, 0, 0, 0, 0]\n"
     ]
    }
   ],
   "source": [
    "# Parameter\n",
    "\n",
    "# translations = shift = offset\n",
    "\n",
    "# Rotations:\n",
    "# Roll (rotation around the plane's local X-axis)\n",
    "# Pitch (rotation around the plane's local Y-axis)\n",
    "# Yaw (rotation around the plane's local Z-axis) --> assumption: no yaw\n",
    "\n",
    "# shift is in m\n",
    "# roll & pitch in degrees\n",
    "\n",
    "# top plane\n",
    "A_x_shift = 0\n",
    "A_y_shift = 0\n",
    "\n",
    "# left plane\n",
    "# B_x_shift = 0 # keep 0 for reference\n",
    "B_y_shift = 0\n",
    "B_z_shift = 0\n",
    "B_roll = 0 # rotation over 3d y axis \n",
    "B_pitch = 0 # rotation over 3d z axis\n",
    "\n",
    "# front plane\n",
    "C_x_shift = 0\n",
    "# C_y_shift = 0 # keep 0 for reference\n",
    "C_z_shift = 0\n",
    "C_roll = 0 # rotation over 3d x axis \n",
    "C_pitch = 0 # rotation over 3d z axis\n",
    "\n",
    "# right_plane\n",
    "D_x_shift = 0\n",
    "D_y_shift = 0\n",
    "D_z_shift = 0\n",
    "D_roll = 0 # rotation over 3d y axis \n",
    "D_pitch = 0 # rotation over 3d z axis\n",
    "\n",
    "\n",
    "initial_parameters = [\n",
    "    A_x_shift,\n",
    "    A_y_shift,\n",
    "    B_y_shift,\n",
    "    B_z_shift,\n",
    "    B_roll,\n",
    "    B_pitch,\n",
    "    C_x_shift,\n",
    "    C_z_shift,\n",
    "    C_roll,\n",
    "    C_pitch,\n",
    "    D_x_shift,\n",
    "    D_y_shift,\n",
    "    D_z_shift,\n",
    "    D_roll,\n",
    "    D_pitch\n",
    "    ]\n",
    "\n",
    "\n",
    "print(len(initial_parameters), \"parameter in total\")\n",
    "print(initial_parameters)"
   ]
  },
  {
   "cell_type": "code",
   "execution_count": 7,
   "metadata": {},
   "outputs": [],
   "source": [
    "\n",
    "def optimizer_wrapper(initial_parameters, df_mic_coords=df_mic_coords, df_distances=df_distances):\n",
    "    df_mic_coords_moved = parametric_model(df_mic_coords, initial_parameters)\n",
    "    sum_sq_errors, _ = calc_error_optimized_coords(df_distances, df_mic_coords_moved)\n",
    "\n",
    "    return sum_sq_errors"
   ]
  },
  {
   "cell_type": "code",
   "execution_count": 8,
   "metadata": {},
   "outputs": [
    {
     "name": "stdout",
     "output_type": "stream",
     "text": [
      "Optimal variables: [-0.04069949 -0.03433035 -0.03710266 -0.0127838  -0.85888897 -0.85392481\n",
      "  0.00751255  0.00916716  1.71427966 -1.30208812  0.05220112 -0.02361945\n",
      " -0.02754176 -1.51923372 -0.72119733]\n",
      "Optimal function value: 0.001669140461021823\n"
     ]
    }
   ],
   "source": [
    "result = sp.optimize.minimize(optimizer_wrapper, initial_parameters)\n",
    "\n",
    "print(\"Optimal variables:\", result.x)\n",
    "print(\"Optimal function value:\", result.fun)"
   ]
  },
  {
   "cell_type": "code",
   "execution_count": 9,
   "metadata": {},
   "outputs": [
    {
     "data": {
      "application/vnd.plotly.v1+json": {
       "config": {
        "plotlyServerURL": "https://plot.ly"
       },
       "data": [
        {
         "hovertemplate": "Plane=right<br>X=%{x}<br>Y=%{y}<br>Z=%{z}<br>Mic_Index=%{text}<extra></extra>",
         "legendgroup": "right",
         "marker": {
          "color": "#636efa",
          "symbol": "circle"
         },
         "mode": "markers+text",
         "name": "right",
         "scene": "scene",
         "showlegend": true,
         "text": [
          "B1",
          "B2",
          "B3",
          "B4",
          "B5",
          "B6",
          "B7",
          "B8",
          "B9",
          "B10",
          "B11",
          "B12",
          "B13",
          "B14",
          "B15",
          "B16",
          "B17"
         ],
         "type": "scatter3d",
         "x": [
          1.37,
          1.37,
          1.37,
          1.37,
          1.37,
          1.37,
          1.37,
          1.37,
          1.37,
          1.37,
          1.37,
          1.37,
          1.37,
          1.37,
          1.37,
          1.37,
          1.37
         ],
         "y": [
          0.8139999999999998,
          0.5609999999999998,
          1.212,
          0.15,
          0.9009999999999998,
          0.5589999999999998,
          1.326,
          0.2329999999999999,
          0.9209999999999998,
          1.174,
          0.3779999999999999,
          0.7389999999999999,
          1.391,
          1.012,
          0.5039999999999999,
          0.156,
          0.8739999999999999
         ],
         "z": [
          0.02,
          0.266,
          0.287,
          0.38,
          0.425,
          0.629,
          0.672,
          0.718,
          0.774,
          0.989,
          1.148,
          1.194,
          1.257,
          1.372,
          1.485,
          1.51,
          1.689
         ]
        },
        {
         "hovertemplate": "Plane=front<br>X=%{x}<br>Y=%{y}<br>Z=%{z}<br>Mic_Index=%{text}<extra></extra>",
         "legendgroup": "front",
         "marker": {
          "color": "#EF553B",
          "symbol": "circle"
         },
         "mode": "markers+text",
         "name": "front",
         "scene": "scene",
         "showlegend": true,
         "text": [
          "C1",
          "C2",
          "C3",
          "C4",
          "C5",
          "C6",
          "C7",
          "C8",
          "C9",
          "C10",
          "C11",
          "C12",
          "C13",
          "C14",
          "C15",
          "C16",
          "C17"
         ],
         "type": "scatter3d",
         "x": [
          0.7389999999999999,
          0.4849999999999999,
          1.137,
          0.07599999999999983,
          0.8269999999999998,
          0.4839999999999999,
          1.252,
          0.1569999999999998,
          0.8459999999999999,
          1.099,
          0.3039999999999998,
          0.6669999999999999,
          1.313,
          0.9369999999999998,
          0.4189999999999999,
          0.08499999999999995,
          0.7989999999999999
         ],
         "y": [
          0.028,
          0.028,
          0.028,
          0.028,
          0.028,
          0.028,
          0.028,
          0.028,
          0.028,
          0.028,
          0.028,
          0.028,
          0.028,
          0.028,
          0.028,
          0.028,
          0.028
         ],
         "z": [
          0.023,
          0.267,
          0.287,
          0.38,
          0.425,
          0.63,
          0.675,
          0.717,
          0.773,
          0.99,
          1.15,
          1.194,
          1.261,
          1.375,
          1.485,
          1.508,
          1.691
         ]
        },
        {
         "hovertemplate": "Plane=left<br>X=%{x}<br>Y=%{y}<br>Z=%{z}<br>Mic_Index=%{text}<extra></extra>",
         "legendgroup": "left",
         "marker": {
          "color": "#00cc96",
          "symbol": "circle"
         },
         "mode": "markers+text",
         "name": "left",
         "scene": "scene",
         "showlegend": true,
         "text": [
          "D1",
          "D2",
          "D3",
          "D4",
          "D5",
          "D6",
          "D7",
          "D8",
          "D9",
          "D10",
          "D11",
          "D12",
          "D13",
          "D14",
          "D15",
          "D16",
          "D17"
         ],
         "type": "scatter3d",
         "x": [
          0.028,
          0.028,
          0.028,
          0.028,
          0.028,
          0.028,
          0.028,
          0.028,
          0.028,
          0.028,
          0.028,
          0.028,
          0.028,
          0.028,
          0.028,
          0.028,
          0.028
         ],
         "y": [
          0.737,
          0.988,
          0.339,
          1.4,
          0.649,
          0.992,
          0.223,
          1.317,
          0.629,
          0.377,
          1.17,
          0.8079999999999999,
          0.162,
          0.538,
          1.051,
          1.393,
          0.6769999999999999
         ],
         "z": [
          0.023,
          0.27,
          0.289,
          0.385,
          0.427,
          0.63,
          0.677,
          0.72,
          0.773,
          0.99,
          1.149,
          1.195,
          1.26,
          1.375,
          1.485,
          1.511,
          1.69
         ]
        },
        {
         "hovertemplate": "Plane=top<br>X=%{x}<br>Y=%{y}<br>Z=%{z}<br>Mic_Index=%{text}<extra></extra>",
         "legendgroup": "top",
         "marker": {
          "color": "#ab63fa",
          "symbol": "circle"
         },
         "mode": "markers+text",
         "name": "top",
         "scene": "scene",
         "showlegend": true,
         "text": [
          "A1",
          "A2",
          "A3",
          "A4",
          "A5",
          "A6",
          "A7",
          "A8",
          "A9",
          "A10",
          "A11",
          "A12",
          "A13"
         ],
         "type": "scatter3d",
         "x": [
          0.89,
          0.321,
          0.61,
          0.104,
          0.452,
          1.069,
          0.725,
          0.506,
          0.07499999999999994,
          0.7999999999999999,
          0.495,
          1.39,
          0.208
         ],
         "y": [
          1.246,
          1.147,
          1.127,
          0.8640000000000001,
          0.857,
          0.8560000000000001,
          0.81,
          0.548,
          0.5209999999999999,
          0.3930000000000001,
          0.1549999999999999,
          0.1290000000000001,
          0.117
         ],
         "z": [
          1.871,
          1.871,
          1.871,
          1.871,
          1.871,
          1.871,
          1.871,
          1.871,
          1.871,
          1.871,
          1.871,
          1.871,
          1.871
         ]
        },
        {
         "hovertemplate": "Plane=right<br>X_optimized=%{x}<br>Y_optimized=%{y}<br>Z_optimized=%{z}<br>Mic_Index=%{text}<extra></extra>",
         "legendgroup": "right",
         "marker": {
          "color": "rgba(0, 0, 0, 0.7)",
          "symbol": "circle"
         },
         "mode": "markers+text",
         "name": "Optimized Data",
         "scene": "scene",
         "showlegend": true,
         "text": [
          "B1",
          "B2",
          "B3",
          "B4",
          "B5",
          "B6",
          "B7",
          "B8",
          "B9",
          "B10",
          "B11",
          "B12",
          "B13",
          "B14",
          "B15",
          "B16",
          "B17"
         ],
         "type": "scatter3d",
         "x": [
          1.431736970439887,
          1.4220309116180465,
          1.429668287755774,
          1.4138354928598516,
          1.4220953123907452,
          1.4123824540860708,
          1.4208966854319913,
          1.4059196854302651,
          1.4130949133666504,
          1.4105796670433504,
          1.3963453090589029,
          1.3996697133114817,
          1.406206238605785,
          1.398387091361103,
          1.388997250280228,
          1.3839542361345911,
          1.3882462900698211
         ],
         "y": [
          0.7724205632644902,
          0.5195226985835854,
          1.170478135207909,
          0.10859330053506767,
          0.8595488243725178,
          0.5176439942681164,
          1.2845975831849443,
          0.1916995198520569,
          0.8796637052876608,
          1.1327154109355346,
          0.33683152906628805,
          0.6978182818733589,
          1.3497876551589258,
          0.9708560558262891,
          0.4629340082715897,
          0.11496991913376087,
          0.8329727745163288
         ],
         "z": [
          0.03016703382869369,
          0.2760805602195486,
          0.29707317832608493,
          0.3900404870836032,
          0.4350246687404669,
          0.638952958918249,
          0.6819378436125855,
          0.7279216737507128,
          0.7839019887014765,
          0.9988264121731586,
          1.157770520694077,
          1.2037543508322044,
          1.2667322051518135,
          1.381691780497132,
          1.494652058879923,
          1.519643270911514,
          1.6985803490577052
         ]
        },
        {
         "hovertemplate": "Plane=front<br>X_optimized=%{x}<br>Y_optimized=%{y}<br>Z_optimized=%{z}<br>Mic_Index=%{text}<extra></extra>",
         "legendgroup": "front",
         "marker": {
          "color": "rgba(0, 0, 0, 0.7)",
          "symbol": "circle"
         },
         "mode": "markers+text",
         "name": "Optimized Data",
         "scene": "scene",
         "showlegend": true,
         "text": [
          "C1",
          "C2",
          "C3",
          "C4",
          "C5",
          "C6",
          "C7",
          "C8",
          "C9",
          "C10",
          "C11",
          "C12",
          "C13",
          "C14",
          "C15",
          "C16",
          "C17"
         ],
         "type": "scatter3d",
         "x": [
          0.7469338968689182,
          0.49283361558950917,
          1.1446516615476177,
          0.08386241058151087,
          0.8346378981974144,
          0.49158711013476,
          1.2593582080417631,
          0.1646124057698179,
          0.8533964252252414,
          1.1061835816561103,
          0.31128009874453855,
          0.674156454800373,
          1.3199440999500747,
          0.9439636939527135,
          0.42602267409450983,
          0.09209328379964611,
          0.8057845145047688
         ],
         "y": [
          0.010054619070866584,
          0.008528993191660318,
          -0.006885056726207126,
          0.014443451751748519,
          -0.003967942163637914,
          -0.0023047548314127607,
          -0.02110245281495124,
          0.0025239532246010034,
          -0.014807551024156776,
          -0.027046621475448417,
          -0.013766447073569749,
          -0.023331111091813708,
          -0.04001447727952451,
          -0.03487981072281562,
          -0.02639873846544125,
          -0.01949687533786055,
          -0.04119474354982523
         ],
         "z": [
          0.032990396629669926,
          0.2768811908786574,
          0.2968722395875908,
          0.38983061608413117,
          0.43481047567923126,
          0.6397187249457987,
          0.6846985845408989,
          0.7266797868296591,
          0.7826547232146726,
          0.9995576017066,
          1.1594859913780673,
          1.2034662985377207,
          1.2704363117126476,
          1.3843852893535682,
          1.494336057252702,
          1.5173257632679753,
          1.700243858954716
         ]
        },
        {
         "hovertemplate": "Plane=left<br>X_optimized=%{x}<br>Y_optimized=%{y}<br>Z_optimized=%{z}<br>Mic_Index=%{text}<extra></extra>",
         "legendgroup": "left",
         "marker": {
          "color": "rgba(0, 0, 0, 0.7)",
          "symbol": "circle"
         },
         "mode": "markers+text",
         "name": "Optimized Data",
         "scene": "scene",
         "showlegend": true,
         "text": [
          "D1",
          "D2",
          "D3",
          "D4",
          "D5",
          "D6",
          "D7",
          "D8",
          "D9",
          "D10",
          "D11",
          "D12",
          "D13",
          "D14",
          "D15",
          "D16",
          "D17"
         ],
         "type": "scatter3d",
         "x": [
          0.0382713656488418,
          0.038309991917309306,
          0.028353008062857243,
          0.04272648535037085,
          0.03090464129903687,
          0.032973847785785236,
          0.020808804203962313,
          0.03646846402108281,
          0.02542065422092971,
          0.018412593302401466,
          0.02784774269881322,
          0.021763309161925256,
          0.011161577196156777,
          0.015041553710531817,
          0.021038216236609536,
          0.025745433394173824,
          0.012391817664393321
         ],
         "y": [
          0.6994046470141787,
          0.9504319503401228,
          0.30150827255671153,
          1.3624118845561024,
          0.6115046729994396,
          0.9545119293387857,
          0.18560783384367155,
          1.279495940789802,
          0.5915841898573074,
          0.3396606542073992,
          1.1326081042363312,
          0.7706585841008975,
          0.12474484944129018,
          0.5007287818015643,
          1.0136963820122054,
          1.3556642079862975,
          0.6397837148545086
         ],
         "z": [
          0.010634765375218748,
          0.2576070138018707,
          0.2766048790654592,
          0.3725940930288543,
          0.41458937413783964,
          0.6175665661646021,
          0.6645612855008477,
          0.707556454255285,
          0.7605504994642427,
          0.9775261185273336,
          1.1365082541542069,
          1.1825030858450003,
          1.2474957827993824,
          1.362482862026366,
          1.4724705030260896,
          1.4984675818078423,
          1.677447470343756
         ]
        },
        {
         "hovertemplate": "Plane=top<br>X_optimized=%{x}<br>Y_optimized=%{y}<br>Z_optimized=%{z}<br>Mic_Index=%{text}<extra></extra>",
         "legendgroup": "top",
         "marker": {
          "color": "rgba(0, 0, 0, 0.7)",
          "symbol": "circle"
         },
         "mode": "markers+text",
         "name": "Optimized Data",
         "scene": "scene",
         "showlegend": true,
         "text": [
          "A1",
          "A2",
          "A3",
          "A4",
          "A5",
          "A6",
          "A7",
          "A8",
          "A9",
          "A10",
          "A11",
          "A12",
          "A13"
         ],
         "type": "scatter3d",
         "x": [
          0.8493005129940666,
          0.28030051299406655,
          0.5693005129940666,
          0.06330051299406655,
          0.41130051299406656,
          1.0283005129940666,
          0.6843005129940666,
          0.46530051299406655,
          0.034300512994066494,
          0.7593005129940665,
          0.45430051299406654,
          1.3493005129940665,
          0.16730051299406654
         ],
         "y": [
          1.2116696463041896,
          1.1126696463041896,
          1.0926696463041896,
          0.8296696463041897,
          0.8226696463041896,
          0.8216696463041897,
          0.7756696463041897,
          0.5136696463041897,
          0.48666964630418946,
          0.3586696463041897,
          0.12066964630418944,
          0.09466964630418964,
          0.08266964630418956
         ],
         "z": [
          1.871,
          1.871,
          1.871,
          1.871,
          1.871,
          1.871,
          1.871,
          1.871,
          1.871,
          1.871,
          1.871,
          1.871,
          1.871
         ]
        }
       ],
       "layout": {
        "height": 1000,
        "legend": {
         "title": {
          "text": "Plane"
         },
         "tracegroupgap": 0
        },
        "scene": {
         "domain": {
          "x": [
           0,
           1
          ],
          "y": [
           0,
           1
          ]
         },
         "xaxis": {
          "range": [
           1.5,
           0
          ],
          "title": {
           "text": "X"
          }
         },
         "yaxis": {
          "title": {
           "text": "Y"
          }
         },
         "zaxis": {
          "title": {
           "text": "Z"
          }
         }
        },
        "template": {
         "data": {
          "bar": [
           {
            "error_x": {
             "color": "#2a3f5f"
            },
            "error_y": {
             "color": "#2a3f5f"
            },
            "marker": {
             "line": {
              "color": "#E5ECF6",
              "width": 0.5
             },
             "pattern": {
              "fillmode": "overlay",
              "size": 10,
              "solidity": 0.2
             }
            },
            "type": "bar"
           }
          ],
          "barpolar": [
           {
            "marker": {
             "line": {
              "color": "#E5ECF6",
              "width": 0.5
             },
             "pattern": {
              "fillmode": "overlay",
              "size": 10,
              "solidity": 0.2
             }
            },
            "type": "barpolar"
           }
          ],
          "carpet": [
           {
            "aaxis": {
             "endlinecolor": "#2a3f5f",
             "gridcolor": "white",
             "linecolor": "white",
             "minorgridcolor": "white",
             "startlinecolor": "#2a3f5f"
            },
            "baxis": {
             "endlinecolor": "#2a3f5f",
             "gridcolor": "white",
             "linecolor": "white",
             "minorgridcolor": "white",
             "startlinecolor": "#2a3f5f"
            },
            "type": "carpet"
           }
          ],
          "choropleth": [
           {
            "colorbar": {
             "outlinewidth": 0,
             "ticks": ""
            },
            "type": "choropleth"
           }
          ],
          "contour": [
           {
            "colorbar": {
             "outlinewidth": 0,
             "ticks": ""
            },
            "colorscale": [
             [
              0,
              "#0d0887"
             ],
             [
              0.1111111111111111,
              "#46039f"
             ],
             [
              0.2222222222222222,
              "#7201a8"
             ],
             [
              0.3333333333333333,
              "#9c179e"
             ],
             [
              0.4444444444444444,
              "#bd3786"
             ],
             [
              0.5555555555555556,
              "#d8576b"
             ],
             [
              0.6666666666666666,
              "#ed7953"
             ],
             [
              0.7777777777777778,
              "#fb9f3a"
             ],
             [
              0.8888888888888888,
              "#fdca26"
             ],
             [
              1,
              "#f0f921"
             ]
            ],
            "type": "contour"
           }
          ],
          "contourcarpet": [
           {
            "colorbar": {
             "outlinewidth": 0,
             "ticks": ""
            },
            "type": "contourcarpet"
           }
          ],
          "heatmap": [
           {
            "colorbar": {
             "outlinewidth": 0,
             "ticks": ""
            },
            "colorscale": [
             [
              0,
              "#0d0887"
             ],
             [
              0.1111111111111111,
              "#46039f"
             ],
             [
              0.2222222222222222,
              "#7201a8"
             ],
             [
              0.3333333333333333,
              "#9c179e"
             ],
             [
              0.4444444444444444,
              "#bd3786"
             ],
             [
              0.5555555555555556,
              "#d8576b"
             ],
             [
              0.6666666666666666,
              "#ed7953"
             ],
             [
              0.7777777777777778,
              "#fb9f3a"
             ],
             [
              0.8888888888888888,
              "#fdca26"
             ],
             [
              1,
              "#f0f921"
             ]
            ],
            "type": "heatmap"
           }
          ],
          "heatmapgl": [
           {
            "colorbar": {
             "outlinewidth": 0,
             "ticks": ""
            },
            "colorscale": [
             [
              0,
              "#0d0887"
             ],
             [
              0.1111111111111111,
              "#46039f"
             ],
             [
              0.2222222222222222,
              "#7201a8"
             ],
             [
              0.3333333333333333,
              "#9c179e"
             ],
             [
              0.4444444444444444,
              "#bd3786"
             ],
             [
              0.5555555555555556,
              "#d8576b"
             ],
             [
              0.6666666666666666,
              "#ed7953"
             ],
             [
              0.7777777777777778,
              "#fb9f3a"
             ],
             [
              0.8888888888888888,
              "#fdca26"
             ],
             [
              1,
              "#f0f921"
             ]
            ],
            "type": "heatmapgl"
           }
          ],
          "histogram": [
           {
            "marker": {
             "pattern": {
              "fillmode": "overlay",
              "size": 10,
              "solidity": 0.2
             }
            },
            "type": "histogram"
           }
          ],
          "histogram2d": [
           {
            "colorbar": {
             "outlinewidth": 0,
             "ticks": ""
            },
            "colorscale": [
             [
              0,
              "#0d0887"
             ],
             [
              0.1111111111111111,
              "#46039f"
             ],
             [
              0.2222222222222222,
              "#7201a8"
             ],
             [
              0.3333333333333333,
              "#9c179e"
             ],
             [
              0.4444444444444444,
              "#bd3786"
             ],
             [
              0.5555555555555556,
              "#d8576b"
             ],
             [
              0.6666666666666666,
              "#ed7953"
             ],
             [
              0.7777777777777778,
              "#fb9f3a"
             ],
             [
              0.8888888888888888,
              "#fdca26"
             ],
             [
              1,
              "#f0f921"
             ]
            ],
            "type": "histogram2d"
           }
          ],
          "histogram2dcontour": [
           {
            "colorbar": {
             "outlinewidth": 0,
             "ticks": ""
            },
            "colorscale": [
             [
              0,
              "#0d0887"
             ],
             [
              0.1111111111111111,
              "#46039f"
             ],
             [
              0.2222222222222222,
              "#7201a8"
             ],
             [
              0.3333333333333333,
              "#9c179e"
             ],
             [
              0.4444444444444444,
              "#bd3786"
             ],
             [
              0.5555555555555556,
              "#d8576b"
             ],
             [
              0.6666666666666666,
              "#ed7953"
             ],
             [
              0.7777777777777778,
              "#fb9f3a"
             ],
             [
              0.8888888888888888,
              "#fdca26"
             ],
             [
              1,
              "#f0f921"
             ]
            ],
            "type": "histogram2dcontour"
           }
          ],
          "mesh3d": [
           {
            "colorbar": {
             "outlinewidth": 0,
             "ticks": ""
            },
            "type": "mesh3d"
           }
          ],
          "parcoords": [
           {
            "line": {
             "colorbar": {
              "outlinewidth": 0,
              "ticks": ""
             }
            },
            "type": "parcoords"
           }
          ],
          "pie": [
           {
            "automargin": true,
            "type": "pie"
           }
          ],
          "scatter": [
           {
            "fillpattern": {
             "fillmode": "overlay",
             "size": 10,
             "solidity": 0.2
            },
            "type": "scatter"
           }
          ],
          "scatter3d": [
           {
            "line": {
             "colorbar": {
              "outlinewidth": 0,
              "ticks": ""
             }
            },
            "marker": {
             "colorbar": {
              "outlinewidth": 0,
              "ticks": ""
             }
            },
            "type": "scatter3d"
           }
          ],
          "scattercarpet": [
           {
            "marker": {
             "colorbar": {
              "outlinewidth": 0,
              "ticks": ""
             }
            },
            "type": "scattercarpet"
           }
          ],
          "scattergeo": [
           {
            "marker": {
             "colorbar": {
              "outlinewidth": 0,
              "ticks": ""
             }
            },
            "type": "scattergeo"
           }
          ],
          "scattergl": [
           {
            "marker": {
             "colorbar": {
              "outlinewidth": 0,
              "ticks": ""
             }
            },
            "type": "scattergl"
           }
          ],
          "scattermapbox": [
           {
            "marker": {
             "colorbar": {
              "outlinewidth": 0,
              "ticks": ""
             }
            },
            "type": "scattermapbox"
           }
          ],
          "scatterpolar": [
           {
            "marker": {
             "colorbar": {
              "outlinewidth": 0,
              "ticks": ""
             }
            },
            "type": "scatterpolar"
           }
          ],
          "scatterpolargl": [
           {
            "marker": {
             "colorbar": {
              "outlinewidth": 0,
              "ticks": ""
             }
            },
            "type": "scatterpolargl"
           }
          ],
          "scatterternary": [
           {
            "marker": {
             "colorbar": {
              "outlinewidth": 0,
              "ticks": ""
             }
            },
            "type": "scatterternary"
           }
          ],
          "surface": [
           {
            "colorbar": {
             "outlinewidth": 0,
             "ticks": ""
            },
            "colorscale": [
             [
              0,
              "#0d0887"
             ],
             [
              0.1111111111111111,
              "#46039f"
             ],
             [
              0.2222222222222222,
              "#7201a8"
             ],
             [
              0.3333333333333333,
              "#9c179e"
             ],
             [
              0.4444444444444444,
              "#bd3786"
             ],
             [
              0.5555555555555556,
              "#d8576b"
             ],
             [
              0.6666666666666666,
              "#ed7953"
             ],
             [
              0.7777777777777778,
              "#fb9f3a"
             ],
             [
              0.8888888888888888,
              "#fdca26"
             ],
             [
              1,
              "#f0f921"
             ]
            ],
            "type": "surface"
           }
          ],
          "table": [
           {
            "cells": {
             "fill": {
              "color": "#EBF0F8"
             },
             "line": {
              "color": "white"
             }
            },
            "header": {
             "fill": {
              "color": "#C8D4E3"
             },
             "line": {
              "color": "white"
             }
            },
            "type": "table"
           }
          ]
         },
         "layout": {
          "annotationdefaults": {
           "arrowcolor": "#2a3f5f",
           "arrowhead": 0,
           "arrowwidth": 1
          },
          "autotypenumbers": "strict",
          "coloraxis": {
           "colorbar": {
            "outlinewidth": 0,
            "ticks": ""
           }
          },
          "colorscale": {
           "diverging": [
            [
             0,
             "#8e0152"
            ],
            [
             0.1,
             "#c51b7d"
            ],
            [
             0.2,
             "#de77ae"
            ],
            [
             0.3,
             "#f1b6da"
            ],
            [
             0.4,
             "#fde0ef"
            ],
            [
             0.5,
             "#f7f7f7"
            ],
            [
             0.6,
             "#e6f5d0"
            ],
            [
             0.7,
             "#b8e186"
            ],
            [
             0.8,
             "#7fbc41"
            ],
            [
             0.9,
             "#4d9221"
            ],
            [
             1,
             "#276419"
            ]
           ],
           "sequential": [
            [
             0,
             "#0d0887"
            ],
            [
             0.1111111111111111,
             "#46039f"
            ],
            [
             0.2222222222222222,
             "#7201a8"
            ],
            [
             0.3333333333333333,
             "#9c179e"
            ],
            [
             0.4444444444444444,
             "#bd3786"
            ],
            [
             0.5555555555555556,
             "#d8576b"
            ],
            [
             0.6666666666666666,
             "#ed7953"
            ],
            [
             0.7777777777777778,
             "#fb9f3a"
            ],
            [
             0.8888888888888888,
             "#fdca26"
            ],
            [
             1,
             "#f0f921"
            ]
           ],
           "sequentialminus": [
            [
             0,
             "#0d0887"
            ],
            [
             0.1111111111111111,
             "#46039f"
            ],
            [
             0.2222222222222222,
             "#7201a8"
            ],
            [
             0.3333333333333333,
             "#9c179e"
            ],
            [
             0.4444444444444444,
             "#bd3786"
            ],
            [
             0.5555555555555556,
             "#d8576b"
            ],
            [
             0.6666666666666666,
             "#ed7953"
            ],
            [
             0.7777777777777778,
             "#fb9f3a"
            ],
            [
             0.8888888888888888,
             "#fdca26"
            ],
            [
             1,
             "#f0f921"
            ]
           ]
          },
          "colorway": [
           "#636efa",
           "#EF553B",
           "#00cc96",
           "#ab63fa",
           "#FFA15A",
           "#19d3f3",
           "#FF6692",
           "#B6E880",
           "#FF97FF",
           "#FECB52"
          ],
          "font": {
           "color": "#2a3f5f"
          },
          "geo": {
           "bgcolor": "white",
           "lakecolor": "white",
           "landcolor": "#E5ECF6",
           "showlakes": true,
           "showland": true,
           "subunitcolor": "white"
          },
          "hoverlabel": {
           "align": "left"
          },
          "hovermode": "closest",
          "mapbox": {
           "style": "light"
          },
          "paper_bgcolor": "white",
          "plot_bgcolor": "#E5ECF6",
          "polar": {
           "angularaxis": {
            "gridcolor": "white",
            "linecolor": "white",
            "ticks": ""
           },
           "bgcolor": "#E5ECF6",
           "radialaxis": {
            "gridcolor": "white",
            "linecolor": "white",
            "ticks": ""
           }
          },
          "scene": {
           "xaxis": {
            "backgroundcolor": "#E5ECF6",
            "gridcolor": "white",
            "gridwidth": 2,
            "linecolor": "white",
            "showbackground": true,
            "ticks": "",
            "zerolinecolor": "white"
           },
           "yaxis": {
            "backgroundcolor": "#E5ECF6",
            "gridcolor": "white",
            "gridwidth": 2,
            "linecolor": "white",
            "showbackground": true,
            "ticks": "",
            "zerolinecolor": "white"
           },
           "zaxis": {
            "backgroundcolor": "#E5ECF6",
            "gridcolor": "white",
            "gridwidth": 2,
            "linecolor": "white",
            "showbackground": true,
            "ticks": "",
            "zerolinecolor": "white"
           }
          },
          "shapedefaults": {
           "line": {
            "color": "#2a3f5f"
           }
          },
          "ternary": {
           "aaxis": {
            "gridcolor": "white",
            "linecolor": "white",
            "ticks": ""
           },
           "baxis": {
            "gridcolor": "white",
            "linecolor": "white",
            "ticks": ""
           },
           "bgcolor": "#E5ECF6",
           "caxis": {
            "gridcolor": "white",
            "linecolor": "white",
            "ticks": ""
           }
          },
          "title": {
           "x": 0.05
          },
          "xaxis": {
           "automargin": true,
           "gridcolor": "white",
           "linecolor": "white",
           "ticks": "",
           "title": {
            "standoff": 15
           },
           "zerolinecolor": "white",
           "zerolinewidth": 2
          },
          "yaxis": {
           "automargin": true,
           "gridcolor": "white",
           "linecolor": "white",
           "ticks": "",
           "title": {
            "standoff": 15
           },
           "zerolinecolor": "white",
           "zerolinewidth": 2
          }
         }
        },
        "title": {
         "text": "3D Scatter Plot"
        },
        "width": 1000
       }
      }
     },
     "metadata": {},
     "output_type": "display_data"
    }
   ],
   "source": [
    "df_mic_coords_optimized = parametric_model(df_mic_coords, result.x)\n",
    "\n",
    "# Create the first 3D scatter plot\n",
    "fig = px.scatter_3d(df_mic_coords, \n",
    "                    x='X', \n",
    "                    y='Y', \n",
    "                    z='Z', \n",
    "                    text='Mic_Index', \n",
    "                    title='3D Scatter Plot', \n",
    "                    color='Plane', \n",
    "                    width=1000, \n",
    "                    height=1000)\n",
    "\n",
    "# Create the second 3D scatter plot (optimized data)\n",
    "fig_optimized = px.scatter_3d(df_mic_coords_optimized, \n",
    "                               x='X_optimized', \n",
    "                               y='Y_optimized', \n",
    "                               z='Z_optimized', \n",
    "                               text='Mic_Index', \n",
    "                               color='Plane')\n",
    "\n",
    "# Customize the color of the second plot to differentiate it\n",
    "for trace in fig_optimized.data:\n",
    "    trace.marker.color = 'rgba(0, 0, 0, 0.7)'  # black with some transparency\n",
    "    trace.name = 'Optimized Data'  # Label in the legend\n",
    "\n",
    "# Add each trace from the second figure to the first\n",
    "for trace in fig_optimized.data:\n",
    "    fig.add_trace(trace)\n",
    "\n",
    "\n",
    "\n",
    "# Display the combined figure\n",
    "fig.update_layout(scene=dict(\n",
    "    xaxis=dict(range=[1.5, 0]), # x-Achse umdrehen - \"linke hand regel\"\n",
    "))\n",
    "fig.show()\n"
   ]
  },
  {
   "cell_type": "code",
   "execution_count": 11,
   "metadata": {},
   "outputs": [],
   "source": [
    "# save 3d coords as xml (for acoular)\n",
    "\n",
    "# acoular needs rows in order from patch plan (equals channels in acoular)\n",
    "df_mic_coords_patch_plan = df_mic_coords_optimized.copy()\n",
    "df_patch_plan = pd.read_excel(\"data/patch_plan.xlsx\")\n",
    "df_mic_coords_patch_plan = df_mic_coords_patch_plan.merge(df_patch_plan, on=\"Mic_Index\")\n",
    "\n",
    "df_mic_coords_patch_plan.rename(columns={\"Plane_x\": \"Plane\"}, inplace=True)\n",
    "df_mic_coords_patch_plan = df_mic_coords_patch_plan.drop(columns=\"Plane_y\")\n",
    "df_mic_coords_patch_plan.sort_values(by=[\"Array_Channel\"], inplace=True)\n",
    "\n"
   ]
  },
  {
   "cell_type": "code",
   "execution_count": 12,
   "metadata": {},
   "outputs": [],
   "source": [
    "\n",
    "def df2xml(df, x, y, z, name):\n",
    "    coordinates = df[[x, y, z]].to_numpy()\n",
    "    coordinates = np.round(coordinates, 3)\n",
    "\n",
    "    headerXML = f'''<?xml version=\"1.0\" encoding=\"utf-8\"?> \\n<MicArray name=\"bassoon_cage_64_{name}\">\\n'''\n",
    "    elements = \"\"\n",
    "    for i, element in enumerate(coordinates):\n",
    "        elements = elements + f'  <pos Name=\"Point {i}\" x=\"{element[0]}\" y=\"{element[1]}\" z=\"{element[2]}\"/>\\n'\n",
    "\n",
    "    footerXML = '''\n",
    "    </MicArray>\n",
    "    '''\n",
    "\n",
    "    XML = (headerXML+elements+footerXML)\n",
    "    outFile = open(f\"data/bassoon_cage_64_{name}.xml\",\"w\")\n",
    "    outFile.write(XML)\n",
    "    outFile.close()\n",
    "\n",
    "# write default and optimized 3d coords to xml\n",
    "df2xml(df_mic_coords_patch_plan, \"X\", \"Y\", \"Z\", \"calculated_default\")\n",
    "df2xml(df_mic_coords_patch_plan, \"X_optimized\", \"Y_optimized\", \"Z_optimized\", \"optimized\")"
   ]
  },
  {
   "cell_type": "code",
   "execution_count": 13,
   "metadata": {},
   "outputs": [],
   "source": [
    "# save optimizer results to file\n",
    "df_mic_coords_patch_plan.to_excel(\"data/mic_coords_final.xlsx\")\n",
    "\n",
    "# open file in write mode\n",
    "with open(\"data/optimized_parameters.txt\", 'w') as fp:\n",
    "    for item in result.x:\n",
    "        # write each item on a new line\n",
    "        fp.write(\"%s\\n\" % item)"
   ]
  }
 ],
 "metadata": {
  "kernelspec": {
   "display_name": "AsSSASoSe23",
   "language": "python",
   "name": "python3"
  },
  "language_info": {
   "codemirror_mode": {
    "name": "ipython",
    "version": 3
   },
   "file_extension": ".py",
   "mimetype": "text/x-python",
   "name": "python",
   "nbconvert_exporter": "python",
   "pygments_lexer": "ipython3",
   "version": "3.9.16"
  }
 },
 "nbformat": 4,
 "nbformat_minor": 2
}
