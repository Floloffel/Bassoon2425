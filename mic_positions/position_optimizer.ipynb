{
 "cells": [
  {
   "cell_type": "code",
   "execution_count": 8,
   "metadata": {},
   "outputs": [],
   "source": [
    "# imports\n",
    "import numpy as np\n",
    "import pandas as pd\n",
    "import scipy as sp \n",
    "import math\n",
    "from calc_mic_distances import calculate_distance"
   ]
  },
  {
   "cell_type": "markdown",
   "metadata": {},
   "source": [
    "steps:\n",
    "* import meaasured 3d mic positions and distance measurements\n",
    "* only use points with measured distance\n",
    "* calculate sum of squarred errors\n",
    "* build a mic positions model with parameters (offsets and tilt)\n",
    "* optimize those paramters for minimal sum of squarred errors\n",
    "* return optimized paramters and mic positions"
   ]
  },
  {
   "cell_type": "code",
   "execution_count": 9,
   "metadata": {},
   "outputs": [
    {
     "name": "stdout",
     "output_type": "stream",
     "text": [
      "1.803 = distance A1 to B2\n"
     ]
    }
   ],
   "source": [
    "# read meaasured 3d mic positions\n",
    "\n",
    "df_mic_coords = pd.read_excel(\"data/3d_measured_coords.xlsx\", index_col=0)\n",
    "\n",
    "_ = calculate_distance(df_mic_coords, \"A1\", \"B2\")\n",
    "\n",
    "# read distance measurements\n",
    "df_distances = pd.read_excel(\"data/mic_pos_distances.xlsx\")"
   ]
  },
  {
   "cell_type": "code",
   "execution_count": 10,
   "metadata": {},
   "outputs": [
    {
     "name": "stdout",
     "output_type": "stream",
     "text": [
      "  Mic_Index 1 Mic_Index 2  dist measured  dist calculated  error\n",
      "0         D13         D16          1.260            1.256  0.004\n",
      "1         B17         C16          0.670            0.673 -0.003\n",
      "2         C10         D10          1.175            1.181 -0.006\n",
      "3          C2         B15          1.650            1.651 -0.001\n",
      "4          A7          B6          1.416            1.397  0.019\n",
      "\n",
      "all distances checked\n"
     ]
    }
   ],
   "source": [
    "# check if calculated distances match\n",
    "\n",
    "print(df_distances.head())\n",
    "\n",
    "print(\"\")\n",
    "for index, row in df_distances.iterrows():\n",
    "    \n",
    "    dist = calculate_distance(df_mic_coords, row[0], row[1], print_dist=False)\n",
    "\n",
    "    if math.isclose(dist, df_distances[\"dist calculated\"][index], abs_tol=0.001) == False:\n",
    "        print(index)\n",
    "        print(\"different distance\")\n",
    "\n",
    "print(\"all distances checked\")"
   ]
  },
  {
   "cell_type": "code",
   "execution_count": 11,
   "metadata": {},
   "outputs": [
    {
     "name": "stdout",
     "output_type": "stream",
     "text": [
      "25 different mics used for measurng distances\n",
      "\n",
      "   Mic_Index  Plane      X      Y      Z\n",
      "5         B6  right  1.370  0.989  0.629\n",
      "7         B8  right  1.370  1.315  0.718\n",
      "12       B13  right  1.370  0.157  1.257\n",
      "14       B15  right  1.370  1.044  1.485\n",
      "15       B16  right  1.370  1.392  1.510\n",
      "16       B17  right  1.370  0.674  1.689\n",
      "18        C2  front  0.913  0.028  0.267\n",
      "20        C4  front  1.322  0.028  0.380\n",
      "21        C5  front  0.571  0.028  0.425\n",
      "26       C10  front  0.299  0.028  0.990\n",
      "32       C16  front  1.313  0.028  1.508\n",
      "34        D1   left  0.028  0.817  0.023\n",
      "36        D3   left  0.028  1.215  0.289\n",
      "38        D5   left  0.028  0.905  0.427\n",
      "40        D7   left  0.028  1.331  0.677\n",
      "43       D10   left  0.028  1.177  0.990\n",
      "46       D13   left  0.028  1.392  1.260\n",
      "49       D16   left  0.028  0.161  1.511\n",
      "50       D17   left  0.028  0.877  1.690\n",
      "51        A1    top  0.590  1.246  1.871\n",
      "54        A4    top  1.376  0.864  1.871\n",
      "55        A5    top  1.028  0.857  1.871\n",
      "56        A6    top  0.411  0.856  1.871\n",
      "57        A7    top  0.755  0.810  1.871\n",
      "60       A10    top  0.680  0.393  1.871\n"
     ]
    }
   ],
   "source": [
    "# get all mic positions used for measurng distances\n",
    "# get indixes\n",
    "measured_mic_pos = []\n",
    "\n",
    "for mic_index_temp in df_distances[\"Mic_Index 1\"]:\n",
    "    measured_mic_pos.append(mic_index_temp)\n",
    "\n",
    "for mic_index_temp in df_distances[\"Mic_Index 2\"]:\n",
    "    measured_mic_pos.append(mic_index_temp)\n",
    "\n",
    "measured_mic_pos = set(measured_mic_pos) # remove double values\n",
    "measured_mic_pos = sorted(measured_mic_pos) # sort values\n",
    "\n",
    "# filter dataframe\n",
    "df_mic_coords_filtered = df_mic_coords[df_mic_coords.isin(measured_mic_pos).any(axis=1)]\n",
    "\n",
    "\n",
    "print(len(measured_mic_pos), \"different mics used for measurng distances\")\n",
    "print(\"\")\n",
    "print(df_mic_coords_filtered)"
   ]
  },
  {
   "cell_type": "code",
   "execution_count": 31,
   "metadata": {},
   "outputs": [
    {
     "name": "stdout",
     "output_type": "stream",
     "text": [
      "0.00696 = default sum of squared errors\n"
     ]
    }
   ],
   "source": [
    "# calculate sum of squarred errors\n",
    "\n",
    "for index, row in df_distances.iterrows():\n",
    "    \n",
    "    dist = calculate_distance(df_mic_coords_filtered, row[0], row[1], print_dist=False)\n",
    "    sq_error = (dist - df_distances[\"dist measured\"][index])**2\n",
    "    df_distances.loc[index, \"squared error\"] = sq_error\n",
    "\n",
    "sum_sq_errors_default = df_distances[\"squared error\"].sum()\n",
    "print(round(sum_sq_errors_default, 5), \"= default sum of squared errors\")\n"
   ]
  },
  {
   "cell_type": "code",
   "execution_count": 29,
   "metadata": {},
   "outputs": [
    {
     "name": "stdout",
     "output_type": "stream",
     "text": [
      "0.006956404740327878\n"
     ]
    }
   ],
   "source": [
    "# TODO# build parametric model\n",
    "\n",
    "# paramters:\n"
   ]
  },
  {
   "cell_type": "code",
   "execution_count": null,
   "metadata": {},
   "outputs": [],
   "source": [
    "# TODO: optimize paramters"
   ]
  }
 ],
 "metadata": {
  "kernelspec": {
   "display_name": "AsSSASoSe23",
   "language": "python",
   "name": "python3"
  },
  "language_info": {
   "codemirror_mode": {
    "name": "ipython",
    "version": 3
   },
   "file_extension": ".py",
   "mimetype": "text/x-python",
   "name": "python",
   "nbconvert_exporter": "python",
   "pygments_lexer": "ipython3",
   "version": "3.9.16"
  }
 },
 "nbformat": 4,
 "nbformat_minor": 2
}
