{
 "cells": [
  {
   "cell_type": "code",
   "execution_count": 2,
   "metadata": {},
   "outputs": [
    {
     "ename": "KeyboardInterrupt",
     "evalue": "",
     "output_type": "error",
     "traceback": [
      "\u001b[1;31m---------------------------------------------------------------------------\u001b[0m",
      "\u001b[1;31mKeyboardInterrupt\u001b[0m                         Traceback (most recent call last)",
      "Cell \u001b[1;32mIn[2], line 27\u001b[0m\n\u001b[0;32m     23\u001b[0m b \u001b[38;5;241m=\u001b[39m acoular\u001b[38;5;241m.\u001b[39mfbeamform\u001b[38;5;241m.\u001b[39mBeamformerCleansc(freq_data\u001b[38;5;241m=\u001b[39mf, steer\u001b[38;5;241m=\u001b[39mst)\n\u001b[0;32m     25\u001b[0m \u001b[38;5;66;03m# calculate result for the 1kHz octave band\u001b[39;00m\n\u001b[0;32m     26\u001b[0m \u001b[38;5;66;03m# map = acoular.spectra.synthetic(b,1000,1)\u001b[39;00m\n\u001b[1;32m---> 27\u001b[0m \u001b[38;5;28mmap\u001b[39m \u001b[38;5;241m=\u001b[39m \u001b[43mb\u001b[49m\u001b[38;5;241;43m.\u001b[39;49m\u001b[43msynthetic\u001b[49m\u001b[43m(\u001b[49m\u001b[38;5;241;43m1000\u001b[39;49m\u001b[43m,\u001b[49m\u001b[43m \u001b[49m\u001b[38;5;241;43m1\u001b[39;49m\u001b[43m)\u001b[49m\n",
      "File \u001b[1;32mc:\\Users\\moinm\\anaconda3\\envs\\eds\\Lib\\site-packages\\acoular\\fbeamform.py:664\u001b[0m, in \u001b[0;36mBeamformerBase.synthetic\u001b[1;34m(self, f, num)\u001b[0m\n\u001b[0;32m    633\u001b[0m \u001b[38;5;28;01mdef\u001b[39;00m \u001b[38;5;21msynthetic\u001b[39m(\u001b[38;5;28mself\u001b[39m, f, num\u001b[38;5;241m=\u001b[39m\u001b[38;5;241m0\u001b[39m):\n\u001b[0;32m    634\u001b[0m \u001b[38;5;250m    \u001b[39m\u001b[38;5;124;03m\"\"\"Evaluates the beamforming result for an arbitrary frequency band.\u001b[39;00m\n\u001b[0;32m    635\u001b[0m \n\u001b[0;32m    636\u001b[0m \u001b[38;5;124;03m    Parameters\u001b[39;00m\n\u001b[1;32m   (...)\u001b[0m\n\u001b[0;32m    662\u001b[0m \n\u001b[0;32m    663\u001b[0m \u001b[38;5;124;03m    \"\"\"\u001b[39;00m\n\u001b[1;32m--> 664\u001b[0m     res \u001b[38;5;241m=\u001b[39m \u001b[38;5;28;43mself\u001b[39;49m\u001b[38;5;241;43m.\u001b[39;49m\u001b[43mresult\u001b[49m  \u001b[38;5;66;03m# trigger calculation\u001b[39;00m\n\u001b[0;32m    665\u001b[0m     freq \u001b[38;5;241m=\u001b[39m \u001b[38;5;28mself\u001b[39m\u001b[38;5;241m.\u001b[39mfreq_data\u001b[38;5;241m.\u001b[39mfftfreq()\n\u001b[0;32m    666\u001b[0m     \u001b[38;5;28;01mif\u001b[39;00m \u001b[38;5;28mlen\u001b[39m(freq) \u001b[38;5;241m==\u001b[39m \u001b[38;5;241m0\u001b[39m:\n",
      "File \u001b[1;32mc:\\Users\\moinm\\anaconda3\\envs\\eds\\Lib\\site-packages\\traits\\has_traits.py:992\u001b[0m, in \u001b[0;36mproperty_depends_on.<locals>.decorator.<locals>.wrapper\u001b[1;34m(self)\u001b[0m\n\u001b[0;32m    990\u001b[0m result \u001b[38;5;241m=\u001b[39m \u001b[38;5;28mself\u001b[39m\u001b[38;5;241m.\u001b[39m\u001b[38;5;18m__dict__\u001b[39m\u001b[38;5;241m.\u001b[39mget(name, Undefined)\n\u001b[0;32m    991\u001b[0m \u001b[38;5;28;01mif\u001b[39;00m result \u001b[38;5;129;01mis\u001b[39;00m Undefined:\n\u001b[1;32m--> 992\u001b[0m     \u001b[38;5;28mself\u001b[39m\u001b[38;5;241m.\u001b[39m\u001b[38;5;18m__dict__\u001b[39m[name] \u001b[38;5;241m=\u001b[39m result \u001b[38;5;241m=\u001b[39m \u001b[43mfunction\u001b[49m\u001b[43m(\u001b[49m\u001b[38;5;28;43mself\u001b[39;49m\u001b[43m)\u001b[49m\n\u001b[0;32m    994\u001b[0m \u001b[38;5;28;01mreturn\u001b[39;00m result\n",
      "File \u001b[1;32mc:\\Users\\moinm\\anaconda3\\envs\\eds\\Lib\\site-packages\\acoular\\fbeamform.py:542\u001b[0m, in \u001b[0;36mBeamformerBase._get_result\u001b[1;34m(self)\u001b[0m\n\u001b[0;32m    538\u001b[0m ac, fr \u001b[38;5;241m=\u001b[39m (\u001b[38;5;28;01mNone\u001b[39;00m, \u001b[38;5;28;01mNone\u001b[39;00m)\n\u001b[0;32m    539\u001b[0m \u001b[38;5;28;01mif\u001b[39;00m \u001b[38;5;129;01mnot\u001b[39;00m (  \u001b[38;5;66;03m# if result caching is active\u001b[39;00m\n\u001b[0;32m    540\u001b[0m     config\u001b[38;5;241m.\u001b[39mglobal_caching \u001b[38;5;241m==\u001b[39m \u001b[38;5;124m'\u001b[39m\u001b[38;5;124mnone\u001b[39m\u001b[38;5;124m'\u001b[39m \u001b[38;5;129;01mor\u001b[39;00m (config\u001b[38;5;241m.\u001b[39mglobal_caching \u001b[38;5;241m==\u001b[39m \u001b[38;5;124m'\u001b[39m\u001b[38;5;124mindividual\u001b[39m\u001b[38;5;124m'\u001b[39m \u001b[38;5;129;01mand\u001b[39;00m \u001b[38;5;129;01mnot\u001b[39;00m \u001b[38;5;28mself\u001b[39m\u001b[38;5;241m.\u001b[39mcached)\n\u001b[0;32m    541\u001b[0m ):\n\u001b[1;32m--> 542\u001b[0m     (ac, fr, gpos) \u001b[38;5;241m=\u001b[39m \u001b[38;5;28;43mself\u001b[39;49m\u001b[38;5;241;43m.\u001b[39;49m\u001b[43m_get_filecache\u001b[49m\u001b[43m(\u001b[49m\u001b[43m)\u001b[49m  \u001b[38;5;66;03m# can also be (None, None, None)\u001b[39;00m\n\u001b[0;32m    543\u001b[0m     \u001b[38;5;28;01mif\u001b[39;00m gpos:  \u001b[38;5;66;03m# we have an adaptive grid\u001b[39;00m\n\u001b[0;32m    544\u001b[0m         \u001b[38;5;28mself\u001b[39m\u001b[38;5;241m.\u001b[39m_gpos \u001b[38;5;241m=\u001b[39m gpos\n",
      "File \u001b[1;32mc:\\Users\\moinm\\anaconda3\\envs\\eds\\Lib\\site-packages\\acoular\\fbeamform.py:480\u001b[0m, in \u001b[0;36mBeamformerBase._get_filecache\u001b[1;34m(self)\u001b[0m\n\u001b[0;32m    475\u001b[0m \u001b[38;5;250m\u001b[39m\u001b[38;5;124;03m\"\"\"Function collects cached results from file depending on\u001b[39;00m\n\u001b[0;32m    476\u001b[0m \u001b[38;5;124;03mglobal/local caching behaviour. Returns (None, None) if no cachefile/data\u001b[39;00m\n\u001b[0;32m    477\u001b[0m \u001b[38;5;124;03mexist and global caching mode is 'readonly'.\u001b[39;00m\n\u001b[0;32m    478\u001b[0m \u001b[38;5;124;03m\"\"\"\u001b[39;00m\n\u001b[0;32m    479\u001b[0m \u001b[38;5;66;03m#        print(\"get cachefile:\", self.freq_data.basename)\u001b[39;00m\n\u001b[1;32m--> 480\u001b[0m \u001b[43mH5cache\u001b[49m\u001b[38;5;241;43m.\u001b[39;49m\u001b[43mget_cache_file\u001b[49m\u001b[43m(\u001b[49m\u001b[38;5;28;43mself\u001b[39;49m\u001b[43m,\u001b[49m\u001b[43m \u001b[49m\u001b[38;5;28;43mself\u001b[39;49m\u001b[38;5;241;43m.\u001b[39;49m\u001b[43mfreq_data\u001b[49m\u001b[38;5;241;43m.\u001b[39;49m\u001b[43mbasename\u001b[49m\u001b[43m)\u001b[49m\n\u001b[0;32m    481\u001b[0m \u001b[38;5;28;01mif\u001b[39;00m \u001b[38;5;129;01mnot\u001b[39;00m \u001b[38;5;28mself\u001b[39m\u001b[38;5;241m.\u001b[39mh5f:\n\u001b[0;32m    482\u001b[0m     \u001b[38;5;66;03m#            print(\"no cachefile:\", self.freq_data.basename)\u001b[39;00m\n\u001b[0;32m    483\u001b[0m     \u001b[38;5;28;01mreturn\u001b[39;00m (\u001b[38;5;28;01mNone\u001b[39;00m, \u001b[38;5;28;01mNone\u001b[39;00m, \u001b[38;5;28;01mNone\u001b[39;00m)  \u001b[38;5;66;03m# only happens in case of global caching readonly\u001b[39;00m\n",
      "File \u001b[1;32mc:\\Users\\moinm\\anaconda3\\envs\\eds\\Lib\\site-packages\\acoular\\h5cache.py:88\u001b[0m, in \u001b[0;36mHDF5Cache.get_cache_file\u001b[1;34m(self, obj, basename, mode)\u001b[0m\n\u001b[0;32m     86\u001b[0m \u001b[38;5;28;01mdef\u001b[39;00m \u001b[38;5;21mget_cache_file\u001b[39m(\u001b[38;5;28mself\u001b[39m, obj, basename, mode\u001b[38;5;241m=\u001b[39m\u001b[38;5;124m'\u001b[39m\u001b[38;5;124ma\u001b[39m\u001b[38;5;124m'\u001b[39m):\n\u001b[0;32m     87\u001b[0m \u001b[38;5;250m    \u001b[39m\u001b[38;5;124;03m\"\"\"Returns pytables .h5 file to h5f trait of calling object for caching.\"\"\"\u001b[39;00m\n\u001b[1;32m---> 88\u001b[0m     \u001b[38;5;28;43mself\u001b[39;49m\u001b[38;5;241;43m.\u001b[39;49m\u001b[43m_idle_if_busy\u001b[49m\u001b[43m(\u001b[49m\u001b[43m)\u001b[49m  \u001b[38;5;66;03m#\u001b[39;00m\n\u001b[0;32m     89\u001b[0m     \u001b[38;5;28mself\u001b[39m\u001b[38;5;241m.\u001b[39mbusy \u001b[38;5;241m=\u001b[39m \u001b[38;5;28;01mTrue\u001b[39;00m\n\u001b[0;32m     91\u001b[0m     filename \u001b[38;5;241m=\u001b[39m basename \u001b[38;5;241m+\u001b[39m \u001b[38;5;124m'\u001b[39m\u001b[38;5;124m_cache.h5\u001b[39m\u001b[38;5;124m'\u001b[39m\n",
      "File \u001b[1;32mc:\\Users\\moinm\\anaconda3\\envs\\eds\\Lib\\site-packages\\acoular\\h5cache.py:30\u001b[0m, in \u001b[0;36mHDF5Cache._idle_if_busy\u001b[1;34m(self)\u001b[0m\n\u001b[0;32m     29\u001b[0m \u001b[38;5;28;01mdef\u001b[39;00m \u001b[38;5;21m_idle_if_busy\u001b[39m(\u001b[38;5;28mself\u001b[39m):\n\u001b[1;32m---> 30\u001b[0m     \u001b[38;5;28;01mwhile\u001b[39;00m \u001b[38;5;28mself\u001b[39m\u001b[38;5;241m.\u001b[39mbusy:\n\u001b[0;32m     31\u001b[0m         \u001b[38;5;28;01mpass\u001b[39;00m\n",
      "\u001b[1;31mKeyboardInterrupt\u001b[0m: "
     ]
    }
   ],
   "source": [
    "import acoular\n",
    "import numpy as np\n",
    "from pathlib import Path\n",
    "\n",
    "# define mic geometry\n",
    "mic_geom = Path().resolve() / \"bassoon_cage.xml\"\n",
    "assert mic_geom.exists()\n",
    "mg = acoular.microphones.MicGeom(from_file = mic_geom)\n",
    "# print(mg.num_mics)\n",
    "# mg.mpos\n",
    "\n",
    "# define analysing grid\n",
    "rg = acoular.grids.RectGrid3D(x_min=-0.4, x_max=0.4, y_min=-0.4, y_max=0.4, z_min=-0.4, z_max=0.4, increment=0.02)\n",
    "# rg.nxsteps\n",
    "\n",
    "# create test point source(s)\n",
    "testSourceSignal = acoular.signals.PNoiseGenerator(seed=1) # SignalGenerator(rms = 1, sample_freq = 44100, numsamples = 44100*1)\n",
    "testSource = acoular.sources.PointSource(signal = testSourceSignal, mics = mg, loc = (0, 0.2, -0.1))\n",
    "\n",
    "# beamformer initialisation\n",
    "f = acoular.spectra.PowerSpectra(source=testSource, window='Hanning', overlap='50%', block_size=256)\n",
    "st = acoular.fbeamform.SteeringVector(grid=rg, mics=mg, steer_type='true location')\n",
    "b = acoular.fbeamform.BeamformerCleansc(freq_data=f, steer=st)\n",
    "\n",
    "# calculate result for the 1kHz octave band\n",
    "# map = acoular.spectra.synthetic(b,1000,1)\n",
    "map = b.synthetic(1000, 1)\n",
    "\n"
   ]
  },
  {
   "cell_type": "code",
   "execution_count": 105,
   "metadata": {},
   "outputs": [
    {
     "ename": "AxisError",
     "evalue": "axis 2 is out of bounds for array of dimension 0",
     "output_type": "error",
     "traceback": [
      "\u001b[1;31m---------------------------------------------------------------------------\u001b[0m",
      "\u001b[1;31mAxisError\u001b[0m                                 Traceback (most recent call last)",
      "Cell \u001b[1;32mIn[105], line 8\u001b[0m\n\u001b[0;32m      5\u001b[0m \u001b[38;5;66;03m# plot the results\u001b[39;00m\n\u001b[0;32m      7\u001b[0m subplot(\u001b[38;5;241m221\u001b[39m)\n\u001b[1;32m----> 8\u001b[0m map_z \u001b[38;5;241m=\u001b[39m \u001b[43mnp\u001b[49m\u001b[38;5;241;43m.\u001b[39;49m\u001b[43msum\u001b[49m\u001b[43m(\u001b[49m\u001b[38;5;28;43mmap\u001b[39;49m\u001b[43m,\u001b[49m\u001b[43m \u001b[49m\u001b[38;5;241;43m2\u001b[39;49m\u001b[43m)\u001b[49m\n\u001b[0;32m      9\u001b[0m mx \u001b[38;5;241m=\u001b[39m acoular\u001b[38;5;241m.\u001b[39mL_p(map_z\u001b[38;5;241m.\u001b[39mmax())\n\u001b[0;32m     10\u001b[0m imshow(\n\u001b[0;32m     11\u001b[0m     acoular\u001b[38;5;241m.\u001b[39mL_p(map_z\u001b[38;5;241m.\u001b[39mT),\n\u001b[0;32m     12\u001b[0m     vmax\u001b[38;5;241m=\u001b[39mmx,\n\u001b[1;32m   (...)\u001b[0m\n\u001b[0;32m     16\u001b[0m     extent\u001b[38;5;241m=\u001b[39m(rg\u001b[38;5;241m.\u001b[39mx_min, rg\u001b[38;5;241m.\u001b[39mx_max, rg\u001b[38;5;241m.\u001b[39my_min, rg\u001b[38;5;241m.\u001b[39my_max),\n\u001b[0;32m     17\u001b[0m )\n",
      "File \u001b[1;32mc:\\Users\\moinm\\anaconda3\\envs\\eds\\Lib\\site-packages\\numpy\\core\\fromnumeric.py:2313\u001b[0m, in \u001b[0;36msum\u001b[1;34m(a, axis, dtype, out, keepdims, initial, where)\u001b[0m\n\u001b[0;32m   2310\u001b[0m         \u001b[38;5;28;01mreturn\u001b[39;00m out\n\u001b[0;32m   2311\u001b[0m     \u001b[38;5;28;01mreturn\u001b[39;00m res\n\u001b[1;32m-> 2313\u001b[0m \u001b[38;5;28;01mreturn\u001b[39;00m \u001b[43m_wrapreduction\u001b[49m\u001b[43m(\u001b[49m\u001b[43ma\u001b[49m\u001b[43m,\u001b[49m\u001b[43m \u001b[49m\u001b[43mnp\u001b[49m\u001b[38;5;241;43m.\u001b[39;49m\u001b[43madd\u001b[49m\u001b[43m,\u001b[49m\u001b[43m \u001b[49m\u001b[38;5;124;43m'\u001b[39;49m\u001b[38;5;124;43msum\u001b[39;49m\u001b[38;5;124;43m'\u001b[39;49m\u001b[43m,\u001b[49m\u001b[43m \u001b[49m\u001b[43maxis\u001b[49m\u001b[43m,\u001b[49m\u001b[43m \u001b[49m\u001b[43mdtype\u001b[49m\u001b[43m,\u001b[49m\u001b[43m \u001b[49m\u001b[43mout\u001b[49m\u001b[43m,\u001b[49m\u001b[43m \u001b[49m\u001b[43mkeepdims\u001b[49m\u001b[38;5;241;43m=\u001b[39;49m\u001b[43mkeepdims\u001b[49m\u001b[43m,\u001b[49m\n\u001b[0;32m   2314\u001b[0m \u001b[43m                      \u001b[49m\u001b[43minitial\u001b[49m\u001b[38;5;241;43m=\u001b[39;49m\u001b[43minitial\u001b[49m\u001b[43m,\u001b[49m\u001b[43m \u001b[49m\u001b[43mwhere\u001b[49m\u001b[38;5;241;43m=\u001b[39;49m\u001b[43mwhere\u001b[49m\u001b[43m)\u001b[49m\n",
      "File \u001b[1;32mc:\\Users\\moinm\\anaconda3\\envs\\eds\\Lib\\site-packages\\numpy\\core\\fromnumeric.py:88\u001b[0m, in \u001b[0;36m_wrapreduction\u001b[1;34m(obj, ufunc, method, axis, dtype, out, **kwargs)\u001b[0m\n\u001b[0;32m     85\u001b[0m         \u001b[38;5;28;01melse\u001b[39;00m:\n\u001b[0;32m     86\u001b[0m             \u001b[38;5;28;01mreturn\u001b[39;00m reduction(axis\u001b[38;5;241m=\u001b[39maxis, out\u001b[38;5;241m=\u001b[39mout, \u001b[38;5;241m*\u001b[39m\u001b[38;5;241m*\u001b[39mpasskwargs)\n\u001b[1;32m---> 88\u001b[0m \u001b[38;5;28;01mreturn\u001b[39;00m \u001b[43mufunc\u001b[49m\u001b[38;5;241;43m.\u001b[39;49m\u001b[43mreduce\u001b[49m\u001b[43m(\u001b[49m\u001b[43mobj\u001b[49m\u001b[43m,\u001b[49m\u001b[43m \u001b[49m\u001b[43maxis\u001b[49m\u001b[43m,\u001b[49m\u001b[43m \u001b[49m\u001b[43mdtype\u001b[49m\u001b[43m,\u001b[49m\u001b[43m \u001b[49m\u001b[43mout\u001b[49m\u001b[43m,\u001b[49m\u001b[43m \u001b[49m\u001b[38;5;241;43m*\u001b[39;49m\u001b[38;5;241;43m*\u001b[39;49m\u001b[43mpasskwargs\u001b[49m\u001b[43m)\u001b[49m\n",
      "\u001b[1;31mAxisError\u001b[0m: axis 2 is out of bounds for array of dimension 0"
     ]
    },
    {
     "data": {
      "image/png": "[encoded data removed]",
      "text/plain": [
       "<Figure size 800x800 with 1 Axes>"
      ]
     },
     "metadata": {},
     "output_type": "display_data"
    }
   ],
   "source": [
    "from pylab import colorbar, figure, imshow, show, subplot, title, xlabel, ylabel\n",
    "\n",
    "fig = figure(1, (8, 8))\n",
    "\n",
    "# plot the results\n",
    "\n",
    "subplot(221)\n",
    "map_z = np.sum(map, 2)\n",
    "mx = acoular.L_p(map_z.max())\n",
    "imshow(\n",
    "    acoular.L_p(map_z.T),\n",
    "    vmax=mx,\n",
    "    vmin=mx - 20,\n",
    "    origin='lower',\n",
    "    interpolation='nearest',\n",
    "    extent=(rg.x_min, rg.x_max, rg.y_min, rg.y_max),\n",
    ")\n",
    "xlabel('x')\n",
    "ylabel('y')\n",
    "title('Top view (xy)')\n",
    "\n",
    "subplot(223)\n",
    "map_y = np.sum(map, 1)\n",
    "imshow(\n",
    "    acoular.L_p(map_y.T),\n",
    "    vmax=mx,\n",
    "    vmin=mx - 20,\n",
    "    origin='upper',\n",
    "    interpolation='nearest',\n",
    "    extent=(rg.x_min, rg.x_max, -rg.z_max, -rg.z_min),\n",
    ")\n",
    "xlabel('x')\n",
    "ylabel('z')\n",
    "title('Side view (xz)')\n",
    "\n",
    "subplot(222)\n",
    "map_x = np.sum(map, 0)\n",
    "imshow(\n",
    "    acoular.L_p(map_x),\n",
    "    vmax=mx,\n",
    "    vmin=mx - 20,\n",
    "    origin='lower',\n",
    "    interpolation='nearest',\n",
    "    extent=(-rg.z_min, -rg.z_max, rg.y_min, rg.y_max),\n",
    ")\n",
    "xlabel('z')\n",
    "ylabel('y')\n",
    "title('Side view (zy)')\n",
    "colorbar()\n",
    "\n",
    "ax0 = fig.add_subplot((224), projection='3d')\n",
    "ax0.scatter(mg.mpos[0], mg.mpos[1], -mg.mpos[2])\n",
    "source_locs = np.array([testSource.loc, testSource.loc, testSource.loc]).T\n",
    "ax0.scatter(source_locs[0], source_locs[1], -source_locs[2])\n",
    "ax0.set_xlabel('x')\n",
    "ax0.set_ylabel('y')\n",
    "ax0.set_zlabel('z')\n",
    "ax0.set_title('Setup (mic and source positions)')\n",
    "show()"
   ]
  }
 ],
 "metadata": {
  "kernelspec": {
   "display_name": "eds",
   "language": "python",
   "name": "python3"
  },
  "language_info": {
   "codemirror_mode": {
    "name": "ipython",
    "version": 3
   },
   "file_extension": ".py",
   "mimetype": "text/x-python",
   "name": "python",
   "nbconvert_exporter": "python",
   "pygments_lexer": "ipython3",
   "version": "3.11.5"
  }
 },
 "nbformat": 4,
 "nbformat_minor": 2
}
