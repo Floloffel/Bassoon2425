{
 "cells": [
  {
   "cell_type": "code",
   "execution_count": 104,
   "metadata": {},
   "outputs": [
    {
     "name": "stdout",
     "output_type": "stream",
     "text": [
      "[('PointSource_91e8bed9c3ae68a0e181643339f52b51_cache.h5', 5)]\n"
     ]
    },
    {
     "name": "stderr",
     "output_type": "stream",
     "text": [
      "C:\\Users\\moinm\\AppData\\Local\\Temp\\ipykernel_33984\\4205344285.py:27: Warning: Queried frequency band (707.107 to 1414.21 Hz) does not include any discrete FFT sample frequencies. Returning zeros.\n",
      "  map = b.synthetic(1000, 1)\n"
     ]
    },
    {
     "name": "stdout",
     "output_type": "stream",
     "text": [
      "[('PointSource_91e8bed9c3ae68a0e181643339f52b51_cache.h5', 6)]\n"
     ]
    },
    {
     "ename": "OverflowError",
     "evalue": "cannot convert float infinity to integer",
     "output_type": "error",
     "traceback": [
      "\u001b[1;31m---------------------------------------------------------------------------\u001b[0m",
      "\u001b[1;31mOverflowError\u001b[0m                             Traceback (most recent call last)",
      "Cell \u001b[1;32mIn[104], line 27\u001b[0m\n\u001b[0;32m     23\u001b[0m b \u001b[38;5;241m=\u001b[39m acoular\u001b[38;5;241m.\u001b[39mfbeamform\u001b[38;5;241m.\u001b[39mBeamformerCleansc(freq_data\u001b[38;5;241m=\u001b[39mf, steer\u001b[38;5;241m=\u001b[39mst)\n\u001b[0;32m     25\u001b[0m \u001b[38;5;66;03m# calculate result for the 1kHz octave band\u001b[39;00m\n\u001b[0;32m     26\u001b[0m \u001b[38;5;66;03m# map = acoular.spectra.synthetic(b,1000,1)\u001b[39;00m\n\u001b[1;32m---> 27\u001b[0m \u001b[38;5;28mmap\u001b[39m \u001b[38;5;241m=\u001b[39m \u001b[43mb\u001b[49m\u001b[38;5;241;43m.\u001b[39;49m\u001b[43msynthetic\u001b[49m\u001b[43m(\u001b[49m\u001b[38;5;241;43m1000\u001b[39;49m\u001b[43m,\u001b[49m\u001b[43m \u001b[49m\u001b[38;5;241;43m1\u001b[39;49m\u001b[43m)\u001b[49m\n",
      "File \u001b[1;32mc:\\Users\\moinm\\anaconda3\\envs\\eds\\Lib\\site-packages\\acoular\\fbeamform.py:707\u001b[0m, in \u001b[0;36mBeamformerBase.synthetic\u001b[1;34m(self, f, num)\u001b[0m\n\u001b[0;32m    699\u001b[0m \u001b[38;5;28;01mif\u001b[39;00m ind1 \u001b[38;5;241m==\u001b[39m ind2:\n\u001b[0;32m    700\u001b[0m     warn(\n\u001b[0;32m    701\u001b[0m         \u001b[38;5;124mf\u001b[39m\u001b[38;5;124m'\u001b[39m\u001b[38;5;124mQueried frequency band (\u001b[39m\u001b[38;5;132;01m{\u001b[39;00mf1\u001b[38;5;132;01m:\u001b[39;00m\u001b[38;5;124mg\u001b[39m\u001b[38;5;132;01m}\u001b[39;00m\u001b[38;5;124m to \u001b[39m\u001b[38;5;132;01m{\u001b[39;00mf2\u001b[38;5;132;01m:\u001b[39;00m\u001b[38;5;124mg\u001b[39m\u001b[38;5;132;01m}\u001b[39;00m\u001b[38;5;124m Hz) does not \u001b[39m\u001b[38;5;124m'\u001b[39m\n\u001b[0;32m    702\u001b[0m         \u001b[38;5;124m'\u001b[39m\u001b[38;5;124minclude any discrete FFT sample frequencies. \u001b[39m\u001b[38;5;124m'\u001b[39m\n\u001b[1;32m   (...)\u001b[0m\n\u001b[0;32m    705\u001b[0m         stacklevel\u001b[38;5;241m=\u001b[39m\u001b[38;5;241m2\u001b[39m,\n\u001b[0;32m    706\u001b[0m     )\n\u001b[1;32m--> 707\u001b[0m     h \u001b[38;5;241m=\u001b[39m zeros_like(\u001b[43mres\u001b[49m\u001b[43m[\u001b[49m\u001b[38;5;241;43m0\u001b[39;49m\u001b[43m]\u001b[49m)\n\u001b[0;32m    708\u001b[0m \u001b[38;5;28;01melse\u001b[39;00m:\n\u001b[0;32m    709\u001b[0m     h \u001b[38;5;241m=\u001b[39m \u001b[38;5;28msum\u001b[39m(res[ind1:ind2], \u001b[38;5;241m0\u001b[39m)\n",
      "File \u001b[1;32mc:\\Users\\moinm\\anaconda3\\envs\\eds\\Lib\\site-packages\\acoular\\fbeamform.py:300\u001b[0m, in \u001b[0;36mLazyBfResult.__getitem__\u001b[1;34m(self, key)\u001b[0m\n\u001b[0;32m    298\u001b[0m \u001b[38;5;66;03m# calc if needed\u001b[39;00m\n\u001b[0;32m    299\u001b[0m \u001b[38;5;28;01mif\u001b[39;00m missingind\u001b[38;5;241m.\u001b[39msize:\n\u001b[1;32m--> 300\u001b[0m     \u001b[38;5;28;43mself\u001b[39;49m\u001b[38;5;241;43m.\u001b[39;49m\u001b[43mbf\u001b[49m\u001b[38;5;241;43m.\u001b[39;49m\u001b[43m_calc\u001b[49m\u001b[43m(\u001b[49m\u001b[43mmissingind\u001b[49m\u001b[43m)\u001b[49m\n\u001b[0;32m    301\u001b[0m     \u001b[38;5;28;01mif\u001b[39;00m \u001b[38;5;28mself\u001b[39m\u001b[38;5;241m.\u001b[39mbf\u001b[38;5;241m.\u001b[39mh5f:\n\u001b[0;32m    302\u001b[0m         \u001b[38;5;28mself\u001b[39m\u001b[38;5;241m.\u001b[39mbf\u001b[38;5;241m.\u001b[39mh5f\u001b[38;5;241m.\u001b[39mflush()\n",
      "File \u001b[1;32mc:\\Users\\moinm\\anaconda3\\envs\\eds\\Lib\\site-packages\\acoular\\fbeamform.py:1732\u001b[0m, in \u001b[0;36mBeamformerCleansc._calc\u001b[1;34m(self, ind)\u001b[0m\n\u001b[0;32m   1730\u001b[0m param_steer_type, steer_vector \u001b[38;5;241m=\u001b[39m \u001b[38;5;28mself\u001b[39m\u001b[38;5;241m.\u001b[39m_beamformer_params()\n\u001b[0;32m   1731\u001b[0m \u001b[38;5;28;01mfor\u001b[39;00m i \u001b[38;5;129;01min\u001b[39;00m ind:\n\u001b[1;32m-> 1732\u001b[0m     csm \u001b[38;5;241m=\u001b[39m array(\u001b[38;5;28;43mself\u001b[39;49m\u001b[38;5;241;43m.\u001b[39;49m\u001b[43mfreq_data\u001b[49m\u001b[38;5;241;43m.\u001b[39;49m\u001b[43mcsm\u001b[49m[i], dtype\u001b[38;5;241m=\u001b[39m\u001b[38;5;124m'\u001b[39m\u001b[38;5;124mcomplex128\u001b[39m\u001b[38;5;124m'\u001b[39m, copy\u001b[38;5;241m=\u001b[39m\u001b[38;5;241m1\u001b[39m)\n\u001b[0;32m   1733\u001b[0m     \u001b[38;5;66;03m# h = self.steer._beamformerCall(f[i], self.r_diag, normfactor, (csm,))[0]\u001b[39;00m\n\u001b[0;32m   1734\u001b[0m     h \u001b[38;5;241m=\u001b[39m beamformerFreq(param_steer_type, \u001b[38;5;28mself\u001b[39m\u001b[38;5;241m.\u001b[39mr_diag, normfactor, steer_vector(f[i]), csm)[\u001b[38;5;241m0\u001b[39m]\n",
      "File \u001b[1;32mc:\\Users\\moinm\\anaconda3\\envs\\eds\\Lib\\site-packages\\traits\\has_traits.py:992\u001b[0m, in \u001b[0;36mproperty_depends_on.<locals>.decorator.<locals>.wrapper\u001b[1;34m(self)\u001b[0m\n\u001b[0;32m    990\u001b[0m result \u001b[38;5;241m=\u001b[39m \u001b[38;5;28mself\u001b[39m\u001b[38;5;241m.\u001b[39m\u001b[38;5;18m__dict__\u001b[39m\u001b[38;5;241m.\u001b[39mget(name, Undefined)\n\u001b[0;32m    991\u001b[0m \u001b[38;5;28;01mif\u001b[39;00m result \u001b[38;5;129;01mis\u001b[39;00m Undefined:\n\u001b[1;32m--> 992\u001b[0m     \u001b[38;5;28mself\u001b[39m\u001b[38;5;241m.\u001b[39m\u001b[38;5;18m__dict__\u001b[39m[name] \u001b[38;5;241m=\u001b[39m result \u001b[38;5;241m=\u001b[39m \u001b[43mfunction\u001b[49m\u001b[43m(\u001b[49m\u001b[38;5;28;43mself\u001b[39;49m\u001b[43m)\u001b[49m\n\u001b[0;32m    994\u001b[0m \u001b[38;5;28;01mreturn\u001b[39;00m result\n",
      "File \u001b[1;32mc:\\Users\\moinm\\anaconda3\\envs\\eds\\Lib\\site-packages\\acoular\\spectra.py:477\u001b[0m, in \u001b[0;36mPowerSpectra._get_csm\u001b[1;34m(self)\u001b[0m\n\u001b[0;32m    475\u001b[0m \u001b[38;5;28;01mif\u001b[39;00m config\u001b[38;5;241m.\u001b[39mglobal_caching \u001b[38;5;241m==\u001b[39m \u001b[38;5;124m'\u001b[39m\u001b[38;5;124mnone\u001b[39m\u001b[38;5;124m'\u001b[39m \u001b[38;5;129;01mor\u001b[39;00m (config\u001b[38;5;241m.\u001b[39mglobal_caching \u001b[38;5;241m==\u001b[39m \u001b[38;5;124m'\u001b[39m\u001b[38;5;124mindividual\u001b[39m\u001b[38;5;124m'\u001b[39m \u001b[38;5;129;01mand\u001b[39;00m \u001b[38;5;28mself\u001b[39m\u001b[38;5;241m.\u001b[39mcached \u001b[38;5;129;01mis\u001b[39;00m \u001b[38;5;28;01mFalse\u001b[39;00m):\n\u001b[0;32m    476\u001b[0m     \u001b[38;5;28;01mreturn\u001b[39;00m \u001b[38;5;28mself\u001b[39m\u001b[38;5;241m.\u001b[39mcalc_csm()\n\u001b[1;32m--> 477\u001b[0m \u001b[38;5;28;01mreturn\u001b[39;00m \u001b[38;5;28;43mself\u001b[39;49m\u001b[38;5;241;43m.\u001b[39;49m\u001b[43m_get_filecache\u001b[49m\u001b[43m(\u001b[49m\u001b[38;5;124;43m'\u001b[39;49m\u001b[38;5;124;43mcsm\u001b[39;49m\u001b[38;5;124;43m'\u001b[39;49m\u001b[43m)\u001b[49m\n",
      "File \u001b[1;32mc:\\Users\\moinm\\anaconda3\\envs\\eds\\Lib\\site-packages\\acoular\\spectra.py:464\u001b[0m, in \u001b[0;36mPowerSpectra._get_filecache\u001b[1;34m(self, traitname)\u001b[0m\n\u001b[0;32m    461\u001b[0m ac \u001b[38;5;241m=\u001b[39m \u001b[38;5;28mself\u001b[39m\u001b[38;5;241m.\u001b[39mh5f\u001b[38;5;241m.\u001b[39mget_data_by_reference(nodename)\n\u001b[0;32m    462\u001b[0m \u001b[38;5;28;01mif\u001b[39;00m ac[:]\u001b[38;5;241m.\u001b[39msum() \u001b[38;5;241m==\u001b[39m \u001b[38;5;241m0\u001b[39m:  \u001b[38;5;66;03m# only initialized\u001b[39;00m\n\u001b[0;32m    463\u001b[0m     \u001b[38;5;66;03m#            print(\"write {} to:\".format(traitname),nodename)\u001b[39;00m\n\u001b[1;32m--> 464\u001b[0m     ac[:] \u001b[38;5;241m=\u001b[39m \u001b[43mfunc\u001b[49m\u001b[43m(\u001b[49m\u001b[43m)\u001b[49m\n\u001b[0;32m    465\u001b[0m     \u001b[38;5;28mself\u001b[39m\u001b[38;5;241m.\u001b[39mh5f\u001b[38;5;241m.\u001b[39mflush()\n\u001b[0;32m    466\u001b[0m \u001b[38;5;28;01mreturn\u001b[39;00m ac\n",
      "File \u001b[1;32mc:\\Users\\moinm\\anaconda3\\envs\\eds\\Lib\\site-packages\\acoular\\spectra.py:376\u001b[0m, in \u001b[0;36mPowerSpectra.calc_csm\u001b[1;34m(self)\u001b[0m\n\u001b[0;32m    374\u001b[0m         \u001b[38;5;28;01mraise\u001b[39;00m \u001b[38;5;167;01mValueError\u001b[39;00m(\u001b[38;5;124m'\u001b[39m\u001b[38;5;124mCalibration data not compatible: \u001b[39m\u001b[38;5;132;01m%i\u001b[39;00m\u001b[38;5;124m, \u001b[39m\u001b[38;5;132;01m%i\u001b[39;00m\u001b[38;5;124m'\u001b[39m \u001b[38;5;241m%\u001b[39m (\u001b[38;5;28mself\u001b[39m\u001b[38;5;241m.\u001b[39mcalib\u001b[38;5;241m.\u001b[39mnum_mics, t\u001b[38;5;241m.\u001b[39mnumchannels))\n\u001b[0;32m    375\u001b[0m \u001b[38;5;66;03m# get time data blockwise\u001b[39;00m\n\u001b[1;32m--> 376\u001b[0m \u001b[43m\u001b[49m\u001b[38;5;28;43;01mfor\u001b[39;49;00m\u001b[43m \u001b[49m\u001b[43mdata\u001b[49m\u001b[43m \u001b[49m\u001b[38;5;129;43;01min\u001b[39;49;00m\u001b[43m \u001b[49m\u001b[38;5;28;43mself\u001b[39;49m\u001b[38;5;241;43m.\u001b[39;49m\u001b[43m_get_source_data\u001b[49m\u001b[43m(\u001b[49m\u001b[43m)\u001b[49m\u001b[43m:\u001b[49m\n\u001b[0;32m    377\u001b[0m \u001b[43m    \u001b[49m\u001b[43mft\u001b[49m\u001b[43m \u001b[49m\u001b[38;5;241;43m=\u001b[39;49m\u001b[43m \u001b[49m\u001b[43mfft\u001b[49m\u001b[38;5;241;43m.\u001b[39;49m\u001b[43mrfft\u001b[49m\u001b[43m(\u001b[49m\u001b[43mdata\u001b[49m\u001b[43m \u001b[49m\u001b[38;5;241;43m*\u001b[39;49m\u001b[43m \u001b[49m\u001b[43mwind\u001b[49m\u001b[43m,\u001b[49m\u001b[43m \u001b[49m\u001b[38;5;28;43;01mNone\u001b[39;49;00m\u001b[43m,\u001b[49m\u001b[43m \u001b[49m\u001b[38;5;241;43m0\u001b[39;49m\u001b[43m)\u001b[49m\u001b[38;5;241;43m.\u001b[39;49m\u001b[43mastype\u001b[49m\u001b[43m(\u001b[49m\u001b[38;5;28;43mself\u001b[39;49m\u001b[38;5;241;43m.\u001b[39;49m\u001b[43mprecision\u001b[49m\u001b[43m)\u001b[49m\n\u001b[0;32m    378\u001b[0m \u001b[43m    \u001b[49m\u001b[43mcalcCSM\u001b[49m\u001b[43m(\u001b[49m\u001b[43mcsm_upper\u001b[49m\u001b[43m,\u001b[49m\u001b[43m \u001b[49m\u001b[43mft\u001b[49m\u001b[43m)\u001b[49m  \u001b[38;5;66;03m# only upper triangular part of matrix is calculated (for speed reasons)\u001b[39;00m\n",
      "File \u001b[1;32mc:\\Users\\moinm\\anaconda3\\envs\\eds\\Lib\\site-packages\\acoular\\spectra.py:136\u001b[0m, in \u001b[0;36mBaseSpectra._get_source_data\u001b[1;34m(self)\u001b[0m\n\u001b[0;32m    134\u001b[0m pos \u001b[38;5;241m=\u001b[39m bs\n\u001b[0;32m    135\u001b[0m posinc \u001b[38;5;241m=\u001b[39m bs \u001b[38;5;241m/\u001b[39m \u001b[38;5;28mself\u001b[39m\u001b[38;5;241m.\u001b[39moverlap_\n\u001b[1;32m--> 136\u001b[0m \u001b[43m\u001b[49m\u001b[38;5;28;43;01mfor\u001b[39;49;00m\u001b[43m \u001b[49m\u001b[43mdata_block\u001b[49m\u001b[43m \u001b[49m\u001b[38;5;129;43;01min\u001b[39;49;00m\u001b[43m \u001b[49m\u001b[38;5;28;43mself\u001b[39;49m\u001b[38;5;241;43m.\u001b[39;49m\u001b[43msource\u001b[49m\u001b[38;5;241;43m.\u001b[39;49m\u001b[43mresult\u001b[49m\u001b[43m(\u001b[49m\u001b[43mbs\u001b[49m\u001b[43m)\u001b[49m\u001b[43m:\u001b[49m\n\u001b[0;32m    137\u001b[0m \u001b[43m    \u001b[49m\u001b[43mns\u001b[49m\u001b[43m \u001b[49m\u001b[38;5;241;43m=\u001b[39;49m\u001b[43m \u001b[49m\u001b[43mdata_block\u001b[49m\u001b[38;5;241;43m.\u001b[39;49m\u001b[43mshape\u001b[49m\u001b[43m[\u001b[49m\u001b[38;5;241;43m0\u001b[39;49m\u001b[43m]\u001b[49m\n\u001b[0;32m    138\u001b[0m \u001b[43m    \u001b[49m\u001b[43mtemp\u001b[49m\u001b[43m[\u001b[49m\u001b[43mbs\u001b[49m\u001b[43m \u001b[49m\u001b[43m:\u001b[49m\u001b[43m \u001b[49m\u001b[43mbs\u001b[49m\u001b[43m \u001b[49m\u001b[38;5;241;43m+\u001b[39;49m\u001b[43m \u001b[49m\u001b[43mns\u001b[49m\u001b[43m]\u001b[49m\u001b[43m \u001b[49m\u001b[38;5;241;43m=\u001b[39;49m\u001b[43m \u001b[49m\u001b[43mdata_block\u001b[49m\u001b[43m  \u001b[49m\u001b[38;5;66;43;03m# fill from right\u001b[39;49;00m\n",
      "File \u001b[1;32mc:\\Users\\moinm\\anaconda3\\envs\\eds\\Lib\\site-packages\\acoular\\sources.py:623\u001b[0m, in \u001b[0;36mPointSource.result\u001b[1;34m(self, num)\u001b[0m\n\u001b[0;32m    621\u001b[0m \u001b[38;5;28mself\u001b[39m\u001b[38;5;241m.\u001b[39m_validate_locations()\n\u001b[0;32m    622\u001b[0m N \u001b[38;5;241m=\u001b[39m \u001b[38;5;28mint\u001b[39m(ceil(\u001b[38;5;28mself\u001b[39m\u001b[38;5;241m.\u001b[39mnumsamples \u001b[38;5;241m/\u001b[39m num))  \u001b[38;5;66;03m# number of output blocks\u001b[39;00m\n\u001b[1;32m--> 623\u001b[0m signal \u001b[38;5;241m=\u001b[39m \u001b[38;5;28;43mself\u001b[39;49m\u001b[38;5;241;43m.\u001b[39;49m\u001b[43msignal\u001b[49m\u001b[38;5;241;43m.\u001b[39;49m\u001b[43musignal\u001b[49m\u001b[43m(\u001b[49m\u001b[38;5;28;43mself\u001b[39;49m\u001b[38;5;241;43m.\u001b[39;49m\u001b[43mup\u001b[49m\u001b[43m)\u001b[49m\n\u001b[0;32m    624\u001b[0m out \u001b[38;5;241m=\u001b[39m empty((num, \u001b[38;5;28mself\u001b[39m\u001b[38;5;241m.\u001b[39mnumchannels))\n\u001b[0;32m    625\u001b[0m \u001b[38;5;66;03m# distances\u001b[39;00m\n",
      "File \u001b[1;32mc:\\Users\\moinm\\anaconda3\\envs\\eds\\Lib\\site-packages\\acoular\\signals.py:74\u001b[0m, in \u001b[0;36mSignalGenerator.usignal\u001b[1;34m(self, factor)\u001b[0m\n\u001b[0;32m     57\u001b[0m \u001b[38;5;28;01mdef\u001b[39;00m \u001b[38;5;21musignal\u001b[39m(\u001b[38;5;28mself\u001b[39m, factor):\n\u001b[0;32m     58\u001b[0m \u001b[38;5;250m    \u001b[39m\u001b[38;5;124;03m\"\"\"Delivers the signal resampled with a multiple of the sampling freq.\u001b[39;00m\n\u001b[0;32m     59\u001b[0m \n\u001b[0;32m     60\u001b[0m \u001b[38;5;124;03m    Uses fourier transform method for resampling (from scipy.signal).\u001b[39;00m\n\u001b[1;32m   (...)\u001b[0m\n\u001b[0;32m     72\u001b[0m \n\u001b[0;32m     73\u001b[0m \u001b[38;5;124;03m    \"\"\"\u001b[39;00m\n\u001b[1;32m---> 74\u001b[0m     \u001b[38;5;28;01mreturn\u001b[39;00m resample(\u001b[38;5;28;43mself\u001b[39;49m\u001b[38;5;241;43m.\u001b[39;49m\u001b[43msignal\u001b[49m\u001b[43m(\u001b[49m\u001b[43m)\u001b[49m, factor \u001b[38;5;241m*\u001b[39m \u001b[38;5;28mself\u001b[39m\u001b[38;5;241m.\u001b[39mnumsamples)\n",
      "File \u001b[1;32mc:\\Users\\moinm\\anaconda3\\envs\\eds\\Lib\\site-packages\\acoular\\signals.py:142\u001b[0m, in \u001b[0;36mPNoiseGenerator.signal\u001b[1;34m(self)\u001b[0m\n\u001b[0;32m    140\u001b[0m depth \u001b[38;5;241m=\u001b[39m \u001b[38;5;28mself\u001b[39m\u001b[38;5;241m.\u001b[39mdepth\n\u001b[0;32m    141\u001b[0m \u001b[38;5;66;03m# maximum depth depending on number of samples\u001b[39;00m\n\u001b[1;32m--> 142\u001b[0m max_depth \u001b[38;5;241m=\u001b[39m \u001b[38;5;28;43mint\u001b[39;49m\u001b[43m(\u001b[49m\u001b[43mlog\u001b[49m\u001b[43m(\u001b[49m\u001b[43mnums\u001b[49m\u001b[43m)\u001b[49m\u001b[43m \u001b[49m\u001b[38;5;241;43m/\u001b[39;49m\u001b[43m \u001b[49m\u001b[43mlog\u001b[49m\u001b[43m(\u001b[49m\u001b[38;5;241;43m2\u001b[39;49m\u001b[43m)\u001b[49m\u001b[43m)\u001b[49m\n\u001b[0;32m    144\u001b[0m \u001b[38;5;28;01mif\u001b[39;00m depth \u001b[38;5;241m>\u001b[39m max_depth:\n\u001b[0;32m    145\u001b[0m     depth \u001b[38;5;241m=\u001b[39m max_depth\n",
      "\u001b[1;31mOverflowError\u001b[0m: cannot convert float infinity to integer"
     ]
    }
   ],
   "source": [
    "import acoular\n",
    "import numpy as np\n",
    "from pathlib import Path\n",
    "\n",
    "# define mic geometry\n",
    "mic_geom = Path().resolve() / \"bassoon_cage.xml\"\n",
    "assert mic_geom.exists()\n",
    "mg = acoular.microphones.MicGeom(from_file = mic_geom)\n",
    "# print(mg.num_mics)\n",
    "# mg.mpos\n",
    "\n",
    "# define analysing grid\n",
    "rg = acoular.grids.RectGrid3D(x_min=-0.4, x_max=0.4, y_min=-0.4, y_max=0.4, z_min=-0.4, z_max=0.4, increment=0.02)\n",
    "# rg.nxsteps\n",
    "\n",
    "# create test point source(s)\n",
    "testSourceSignal = acoular.signals.PNoiseGenerator(seed=1) # SignalGenerator(rms = 1, sample_freq = 44100, numsamples = 44100*1)\n",
    "testSource = acoular.sources.PointSource(signal = testSourceSignal, mics = mg, loc = (0, 0.2, -0.1))\n",
    "\n",
    "# beamformer initialisation\n",
    "f = acoular.spectra.PowerSpectra(source=testSource, window='Hanning', overlap='50%', block_size=256)\n",
    "st = acoular.fbeamform.SteeringVector(grid=rg, mics=mg, steer_type='true location')\n",
    "b = acoular.fbeamform.BeamformerCleansc(freq_data=f, steer=st)\n",
    "\n",
    "# calculate result for the 1kHz octave band\n",
    "# map = acoular.spectra.synthetic(b,1000,1)\n",
    "map = b.synthetic(1000, 1)\n",
    "\n"
   ]
  },
  {
   "cell_type": "code",
   "execution_count": 105,
   "metadata": {},
   "outputs": [
    {
     "ename": "AxisError",
     "evalue": "axis 2 is out of bounds for array of dimension 0",
     "output_type": "error",
     "traceback": [
      "\u001b[1;31m---------------------------------------------------------------------------\u001b[0m",
      "\u001b[1;31mAxisError\u001b[0m                                 Traceback (most recent call last)",
      "Cell \u001b[1;32mIn[105], line 8\u001b[0m\n\u001b[0;32m      5\u001b[0m \u001b[38;5;66;03m# plot the results\u001b[39;00m\n\u001b[0;32m      7\u001b[0m subplot(\u001b[38;5;241m221\u001b[39m)\n\u001b[1;32m----> 8\u001b[0m map_z \u001b[38;5;241m=\u001b[39m \u001b[43mnp\u001b[49m\u001b[38;5;241;43m.\u001b[39;49m\u001b[43msum\u001b[49m\u001b[43m(\u001b[49m\u001b[38;5;28;43mmap\u001b[39;49m\u001b[43m,\u001b[49m\u001b[43m \u001b[49m\u001b[38;5;241;43m2\u001b[39;49m\u001b[43m)\u001b[49m\n\u001b[0;32m      9\u001b[0m mx \u001b[38;5;241m=\u001b[39m acoular\u001b[38;5;241m.\u001b[39mL_p(map_z\u001b[38;5;241m.\u001b[39mmax())\n\u001b[0;32m     10\u001b[0m imshow(\n\u001b[0;32m     11\u001b[0m     acoular\u001b[38;5;241m.\u001b[39mL_p(map_z\u001b[38;5;241m.\u001b[39mT),\n\u001b[0;32m     12\u001b[0m     vmax\u001b[38;5;241m=\u001b[39mmx,\n\u001b[1;32m   (...)\u001b[0m\n\u001b[0;32m     16\u001b[0m     extent\u001b[38;5;241m=\u001b[39m(rg\u001b[38;5;241m.\u001b[39mx_min, rg\u001b[38;5;241m.\u001b[39mx_max, rg\u001b[38;5;241m.\u001b[39my_min, rg\u001b[38;5;241m.\u001b[39my_max),\n\u001b[0;32m     17\u001b[0m )\n",
      "File \u001b[1;32mc:\\Users\\moinm\\anaconda3\\envs\\eds\\Lib\\site-packages\\numpy\\core\\fromnumeric.py:2313\u001b[0m, in \u001b[0;36msum\u001b[1;34m(a, axis, dtype, out, keepdims, initial, where)\u001b[0m\n\u001b[0;32m   2310\u001b[0m         \u001b[38;5;28;01mreturn\u001b[39;00m out\n\u001b[0;32m   2311\u001b[0m     \u001b[38;5;28;01mreturn\u001b[39;00m res\n\u001b[1;32m-> 2313\u001b[0m \u001b[38;5;28;01mreturn\u001b[39;00m \u001b[43m_wrapreduction\u001b[49m\u001b[43m(\u001b[49m\u001b[43ma\u001b[49m\u001b[43m,\u001b[49m\u001b[43m \u001b[49m\u001b[43mnp\u001b[49m\u001b[38;5;241;43m.\u001b[39;49m\u001b[43madd\u001b[49m\u001b[43m,\u001b[49m\u001b[43m \u001b[49m\u001b[38;5;124;43m'\u001b[39;49m\u001b[38;5;124;43msum\u001b[39;49m\u001b[38;5;124;43m'\u001b[39;49m\u001b[43m,\u001b[49m\u001b[43m \u001b[49m\u001b[43maxis\u001b[49m\u001b[43m,\u001b[49m\u001b[43m \u001b[49m\u001b[43mdtype\u001b[49m\u001b[43m,\u001b[49m\u001b[43m \u001b[49m\u001b[43mout\u001b[49m\u001b[43m,\u001b[49m\u001b[43m \u001b[49m\u001b[43mkeepdims\u001b[49m\u001b[38;5;241;43m=\u001b[39;49m\u001b[43mkeepdims\u001b[49m\u001b[43m,\u001b[49m\n\u001b[0;32m   2314\u001b[0m \u001b[43m                      \u001b[49m\u001b[43minitial\u001b[49m\u001b[38;5;241;43m=\u001b[39;49m\u001b[43minitial\u001b[49m\u001b[43m,\u001b[49m\u001b[43m \u001b[49m\u001b[43mwhere\u001b[49m\u001b[38;5;241;43m=\u001b[39;49m\u001b[43mwhere\u001b[49m\u001b[43m)\u001b[49m\n",
      "File \u001b[1;32mc:\\Users\\moinm\\anaconda3\\envs\\eds\\Lib\\site-packages\\numpy\\core\\fromnumeric.py:88\u001b[0m, in \u001b[0;36m_wrapreduction\u001b[1;34m(obj, ufunc, method, axis, dtype, out, **kwargs)\u001b[0m\n\u001b[0;32m     85\u001b[0m         \u001b[38;5;28;01melse\u001b[39;00m:\n\u001b[0;32m     86\u001b[0m             \u001b[38;5;28;01mreturn\u001b[39;00m reduction(axis\u001b[38;5;241m=\u001b[39maxis, out\u001b[38;5;241m=\u001b[39mout, \u001b[38;5;241m*\u001b[39m\u001b[38;5;241m*\u001b[39mpasskwargs)\n\u001b[1;32m---> 88\u001b[0m \u001b[38;5;28;01mreturn\u001b[39;00m \u001b[43mufunc\u001b[49m\u001b[38;5;241;43m.\u001b[39;49m\u001b[43mreduce\u001b[49m\u001b[43m(\u001b[49m\u001b[43mobj\u001b[49m\u001b[43m,\u001b[49m\u001b[43m \u001b[49m\u001b[43maxis\u001b[49m\u001b[43m,\u001b[49m\u001b[43m \u001b[49m\u001b[43mdtype\u001b[49m\u001b[43m,\u001b[49m\u001b[43m \u001b[49m\u001b[43mout\u001b[49m\u001b[43m,\u001b[49m\u001b[43m \u001b[49m\u001b[38;5;241;43m*\u001b[39;49m\u001b[38;5;241;43m*\u001b[39;49m\u001b[43mpasskwargs\u001b[49m\u001b[43m)\u001b[49m\n",
      "\u001b[1;31mAxisError\u001b[0m: axis 2 is out of bounds for array of dimension 0"
     ]
    },
    {
     "data": {
      "image/png": "[encoded data removed]",
      "text/plain": [
       "<Figure size 800x800 with 1 Axes>"
      ]
     },
     "metadata": {},
     "output_type": "display_data"
    }
   ],
   "source": [
    "from pylab import colorbar, figure, imshow, show, subplot, title, xlabel, ylabel\n",
    "\n",
    "fig = figure(1, (8, 8))\n",
    "\n",
    "# plot the results\n",
    "\n",
    "subplot(221)\n",
    "map_z = np.sum(map, 2)\n",
    "mx = acoular.L_p(map_z.max())\n",
    "imshow(\n",
    "    acoular.L_p(map_z.T),\n",
    "    vmax=mx,\n",
    "    vmin=mx - 20,\n",
    "    origin='lower',\n",
    "    interpolation='nearest',\n",
    "    extent=(rg.x_min, rg.x_max, rg.y_min, rg.y_max),\n",
    ")\n",
    "xlabel('x')\n",
    "ylabel('y')\n",
    "title('Top view (xy)')\n",
    "\n",
    "subplot(223)\n",
    "map_y = np.sum(map, 1)\n",
    "imshow(\n",
    "    acoular.L_p(map_y.T),\n",
    "    vmax=mx,\n",
    "    vmin=mx - 20,\n",
    "    origin='upper',\n",
    "    interpolation='nearest',\n",
    "    extent=(rg.x_min, rg.x_max, -rg.z_max, -rg.z_min),\n",
    ")\n",
    "xlabel('x')\n",
    "ylabel('z')\n",
    "title('Side view (xz)')\n",
    "\n",
    "subplot(222)\n",
    "map_x = np.sum(map, 0)\n",
    "imshow(\n",
    "    acoular.L_p(map_x),\n",
    "    vmax=mx,\n",
    "    vmin=mx - 20,\n",
    "    origin='lower',\n",
    "    interpolation='nearest',\n",
    "    extent=(-rg.z_min, -rg.z_max, rg.y_min, rg.y_max),\n",
    ")\n",
    "xlabel('z')\n",
    "ylabel('y')\n",
    "title('Side view (zy)')\n",
    "colorbar()\n",
    "\n",
    "ax0 = fig.add_subplot((224), projection='3d')\n",
    "ax0.scatter(mg.mpos[0], mg.mpos[1], -mg.mpos[2])\n",
    "source_locs = np.array([testSource.loc, testSource.loc, testSource.loc]).T\n",
    "ax0.scatter(source_locs[0], source_locs[1], -source_locs[2])\n",
    "ax0.set_xlabel('x')\n",
    "ax0.set_ylabel('y')\n",
    "ax0.set_zlabel('z')\n",
    "ax0.set_title('Setup (mic and source positions)')\n",
    "show()"
   ]
  }
 ],
 "metadata": {
  "kernelspec": {
   "display_name": "eds",
   "language": "python",
   "name": "python3"
  },
  "language_info": {
   "codemirror_mode": {
    "name": "ipython",
    "version": 3
   },
   "file_extension": ".py",
   "mimetype": "text/x-python",
   "name": "python",
   "nbconvert_exporter": "python",
   "pygments_lexer": "ipython3",
   "version": "3.11.5"
  }
 },
 "nbformat": 4,
 "nbformat_minor": 2
}
