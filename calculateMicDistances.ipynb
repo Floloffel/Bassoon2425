{
 "cells": [
  {
   "cell_type": "code",
   "execution_count": 39,
   "metadata": {},
   "outputs": [],
   "source": [
    "import pandas as pd\n",
    "import numpy as np\n"
   ]
  },
  {
   "cell_type": "code",
   "execution_count": 40,
   "metadata": {},
   "outputs": [],
   "source": [
    "# Abstand zwischen den gegenüberliegenden Side Planes\n",
    "SideOffset = 1.48\n",
    "\n",
    "# Offset wie weit die Top Plane von Z=0 entfernt ist (Z=0 ist die unterste Kante des Side Planes)\n",
    "TopOffset = 1.74"
   ]
  },
  {
   "cell_type": "code",
   "execution_count": 53,
   "metadata": {},
   "outputs": [],
   "source": [
    "def calculate_distance(df, name1, name2, x_col, y_col, z_col, print_values=True):\n",
    "    point1 = df[df[\"Mic_Index\"] == name1][[x_col, y_col, z_col]].iloc[0]\n",
    "    point2 = df[df[\"Mic_Index\"] == name2][[x_col, y_col, z_col]].iloc[0]\n",
    "    \n",
    "    # euklidische Distanz berechnen\n",
    "    dist = np.sqrt((point2[x_col] - point1[x_col])**2 + \n",
    "                   (point2[y_col] - point1[y_col])**2 + \n",
    "                   (point2[z_col] - point1[z_col])**2)\n",
    "    \n",
    "    if print_values == True:\n",
    "        print(name1)\n",
    "        print(x_col, \":\", round(point1[x_col], 3))\n",
    "        print(y_col, \":\", round(point1[y_col], 3))\n",
    "        print(z_col, \":\", round(point1[z_col], 3))\n",
    "        print(\"\")\n",
    "        print(name2)\n",
    "        print(x_col, \":\", round(point2[x_col], 3))\n",
    "        print(y_col, \":\", round(point2[y_col], 3))\n",
    "        print(z_col, \":\", round(point2[z_col], 3))\n",
    "\n",
    "        print(\"distance = \", round(dist, 3))\n",
    "\n",
    "\n",
    "    return dist"
   ]
  },
  {
   "cell_type": "code",
   "execution_count": 52,
   "metadata": {},
   "outputs": [
    {
     "name": "stdout",
     "output_type": "stream",
     "text": [
      "    Unnamed: 0 Mic_Index  Plane      X      Y  X measured  Y measured  \\\n",
      "0          0.0        B1  right  0.649  0.024       0.649       0.020   \n",
      "1          1.0        B2  right  0.892  0.266       0.902       0.266   \n",
      "2          2.0        B3  right  0.252  0.287       0.251       0.287   \n",
      "3          3.0        B4  right  1.312  0.385       1.313       0.380   \n",
      "4          4.0        B5  right  0.561  0.429       0.562       0.425   \n",
      "..         ...       ...    ...    ...    ...         ...         ...   \n",
      "59        59.0        A9    top    NaN    NaN       0.065       0.778   \n",
      "60        60.0       A10    top    NaN    NaN       0.790       0.906   \n",
      "61        61.0       A11    top    NaN    NaN       0.485       1.144   \n",
      "62        62.0       A12    top    NaN    NaN       1.138       1.170   \n",
      "63        63.0       A13    top    NaN    NaN       0.198       1.182   \n",
      "\n",
      "   Unnamed: 7  delta x  delta y  \n",
      "0         NaN    0.000    0.004  \n",
      "1         NaN   -0.010    0.000  \n",
      "2         NaN    0.001    0.000  \n",
      "3         NaN   -0.001    0.005  \n",
      "4         NaN   -0.001    0.004  \n",
      "..        ...      ...      ...  \n",
      "59        NaN      NaN      NaN  \n",
      "60        NaN      NaN      NaN  \n",
      "61        NaN      NaN      NaN  \n",
      "62        NaN      NaN      NaN  \n",
      "63        NaN      NaN      NaN  \n",
      "\n",
      "[64 rows x 10 columns]\n"
     ]
    }
   ],
   "source": [
    "\n",
    "file_path = r\"mic_positions\\side_postions_measured.xlsx\"\n",
    "df = pd.read_excel(file_path, engine='openpyxl')\n",
    "\n",
    "# cut empty rows\n",
    "df = df.head(64)"
   ]
  },
  {
   "cell_type": "code",
   "execution_count": null,
   "metadata": {},
   "outputs": [],
   "source": [
    "\n",
    "\n",
    "################ TEMP BIS TOP IN DEN DATEN IST\n",
    "\n",
    "#temp_top_data = [\n",
    "\n",
    "#    {\"Unnamed: 0\": \"52\" , \"Mic_Index\": \"A2\" , \"Plane\": \"top\", \"X\": -0.145  , \"Y\": -0.132  },\n",
    "#    {\"Unnamed: 0\": \"51\" , \"Mic_Index\": \"A1\" , \"Plane\": \"top\", \"X\": 0.0     , \"Y\": 0.0     },\n",
    "#    {\"Unnamed: 0\": \"53\" , \"Mic_Index\": \"A3\" , \"Plane\": \"top\", \"X\": 0.024   , \"Y\": 0.276   },\n",
    "#    {\"Unnamed: 0\": \"54\" , \"Mic_Index\": \"A4\" , \"Plane\": \"top\", \"X\": 0.207   , \"Y\": -0.27   },\n",
    "#    {\"Unnamed: 0\": \"55\" , \"Mic_Index\": \"A5\" , \"Plane\": \"top\", \"X\": -0.386  , \"Y\": 0.068   },\n",
    "#    {\"Unnamed: 0\": \"56\" , \"Mic_Index\": \"A6\" , \"Plane\": \"top\", \"X\": 0.37    , \"Y\": 0.235   },\n",
    "#    {\"Unnamed: 0\": \"57\" , \"Mic_Index\": \"A7\" , \"Plane\": \"top\", \"X\": -0.125  , \"Y\": -0.464  },\n",
    "#    {\"Unnamed: 0\": \"58\" , \"Mic_Index\": \"A8\" , \"Plane\": \"top\", \"X\": -0.239  , \"Y\": 0.46    },\n",
    "#    {\"Unnamed: 0\": \"59\" , \"Mic_Index\": \"A9\" , \"Plane\": \"top\", \"X\": 0.521   , \"Y\": -0.19   },\n",
    "#    {\"Unnamed: 0\": \"60\" , \"Mic_Index\": \"A10\" , \"Plane\": \"top\", \"X\": -0.544  , \"Y\": -0.224  },\n",
    "#    {\"Unnamed: 0\": \"61\" , \"Mic_Index\": \"A11\", \"Plane\": \"top\", \"X\": 0.263   , \"Y\": 0.562   },\n",
    "#    {\"Unnamed: 0\": \"62\" , \"Mic_Index\": \"A12\", \"Plane\": \"top\", \"X\": 0.195   , \"Y\": -0.621  },\n",
    "#    {\"Unnamed: 0\": \"63\" , \"Mic_Index\": \"A13\", \"Plane\": \"top\", \"X\": 0.691   , \"Y\": 0.152   },\n",
    "#    {\"Unnamed: 0\": \"64\" , \"Mic_Index\": \"A14\", \"Plane\": \"top\", \"X\": -0.422  , \"Y\": -0.6    },\n",
    "#    {\"Unnamed: 0\": \"65\" , \"Mic_Index\": \"A15\", \"Plane\": \"top\", \"X\": 0.6     , \"Y\": -0.506  },\n",
    "#    {\"Unnamed: 0\": \"66\" , \"Mic_Index\": \"A16\", \"Plane\": \"top\", \"X\": 0.59    , \"Y\": 0.587   },\n",
    "#    {\"Unnamed: 0\": \"67\" , \"Mic_Index\": \"A17\", \"Plane\": \"top\", \"X\": -0.562  , \"Y\": 0.673   },\n",
    "#]\n",
    "#temp_top_df = pd.DataFrame(temp_top_data)\n",
    "#temp_top_df.loc[temp_top_df[\"Plane\"] == \"top\", \"X\"] = temp_top_df[\"X\"] + 0.7\n",
    "#temp_top_df.loc[temp_top_df[\"Plane\"] == \"top\", \"Y\"] = temp_top_df[\"Y\"] + 0.7\n",
    "\n",
    "#df = pd.concat([df, temp_top_df], ignore_index=True)\n",
    "\n",
    "################ TEMP OVER\n",
    "\n",
    "# print(df)\n",
    "\n",
    "new_df = df.copy()\n",
    "\n",
    "new_df.loc[new_df[\"Plane\"] == \"left\", \"X\"] = 0\n",
    "new_df.loc[new_df[\"Plane\"] == \"left\", \"Y\"] = df[\"X\"]        + SideOffset - 1.4\n",
    "new_df.loc[new_df[\"Plane\"] == \"left\", \"Z\"] = df[\"Y\"]\n",
    "\n",
    "new_df.loc[new_df[\"Plane\"] == \"front\", \"X\"] = -df[\"X\"]+1.4  + SideOffset - 1.4\n",
    "new_df.loc[new_df[\"Plane\"] == \"front\", \"Y\"] = 0\n",
    "new_df.loc[new_df[\"Plane\"] == \"front\", \"Z\"] = df[\"Y\"]\n",
    "\n",
    "new_df.loc[new_df[\"Plane\"] == \"right\", \"X\"] = SideOffset \n",
    "new_df.loc[new_df[\"Plane\"] == \"right\", \"Y\"] = -df[\"X\"]+1.4  + SideOffset - 1.4\n",
    "new_df.loc[new_df[\"Plane\"] == \"right\", \"Z\"] = df[\"Y\"]\n",
    "\n",
    "new_df.loc[new_df[\"Plane\"] == \"top\", \"X\"] = df[\"X\"]         + (SideOffset - 1.4) / 2\n",
    "new_df.loc[new_df[\"Plane\"] == \"top\", \"Y\"] = df[\"Y\"]         + (SideOffset - 1.4) / 2\n",
    "new_df.loc[new_df[\"Plane\"] == \"top\", \"Z\"] = TopOffset\n",
    "\n",
    "\n",
    "columns_order = [\n",
    "    \"Unnamed: 0\",\n",
    "    \"Mic_Index\",\n",
    "    \"Plane\",\n",
    "    \"X\",\n",
    "    \"Y\",\n",
    "    \"Z\",\n",
    "    \"X measured\",\n",
    "    \"Y measured\",\n",
    "]\n",
    "new_df = new_df[columns_order]\n",
    "\n",
    "\n",
    "# Ergebnis anzeigen\n",
    "print(new_df)\n"
   ]
  },
  {
   "cell_type": "code",
   "execution_count": 54,
   "metadata": {},
   "outputs": [
    {
     "name": "stdout",
     "output_type": "stream",
     "text": [
      "D9\n",
      "X : 0.0\n",
      "Y : 0.62\n",
      "Z : 0.773\n",
      "B6\n",
      "X : 1.48\n",
      "Y : 0.576\n",
      "Z : 0.63\n",
      "distance =  1.488\n"
     ]
    }
   ],
   "source": [
    "_ = calculate_distance(new_df, \"D9\", \"B6\", x_col=\"X\", y_col=\"Y\", z_col=\"Z\")"
   ]
  },
  {
   "cell_type": "code",
   "execution_count": 44,
   "metadata": {},
   "outputs": [
    {
     "data": {
      "application/vnd.plotly.v1+json": {
       "config": {
        "plotlyServerURL": "https://plot.ly"
       },
       "data": [
        {
         "hovertemplate": "X=%{x}<br>Y=%{y}<br>Z=%{z}<br>Mic_Index=%{text}<extra></extra>",
         "legendgroup": "",
         "marker": {
          "color": "#636efa",
          "symbol": "circle"
         },
         "mode": "markers+text",
         "name": "",
         "scene": "scene",
         "showlegend": false,
         "text": [
          "B1",
          "B2",
          "B3",
          "B4",
          "B5",
          "B6",
          "B7",
          "B8",
          "B9",
          "B10",
          "B11",
          "B12",
          "B13",
          "B14",
          "B15",
          "B16",
          "B17",
          "C1",
          "C2",
          "C3",
          "C4",
          "C5",
          "C6",
          "C7",
          "C8",
          "C9",
          "C10",
          "C11",
          "C12",
          "C13",
          "C14",
          "C15",
          "C16",
          "C17",
          "D1",
          "D2",
          "D3",
          "D4",
          "D5",
          "D6",
          "D7",
          "D8",
          "D9",
          "D10",
          "D11",
          "D12",
          "D13",
          "D14",
          "D15",
          "D16",
          "D17",
          "A1",
          "A2",
          "A3",
          "A4",
          "A5",
          "A6",
          "A7",
          "A8",
          "A9",
          "A10",
          "A11",
          "A12",
          "A13",
          null,
          null,
          null
         ],
         "type": "scatter3d",
         "x": [
          1.48,
          1.48,
          1.48,
          1.48,
          1.48,
          1.48,
          1.48,
          1.48,
          1.48,
          1.48,
          1.48,
          1.48,
          1.48,
          1.48,
          1.48,
          1.48,
          1.48,
          0.831,
          0.5880000000000001,
          1.2280000000000002,
          0.16799999999999993,
          0.919,
          0.5760000000000001,
          1.354,
          0.2489999999999999,
          0.94,
          1.1910000000000003,
          0.4059999999999999,
          0.7650000000000001,
          1.4,
          1.0379999999999998,
          0.5169999999999999,
          0.17799999999999994,
          0.891,
          0,
          0,
          0,
          0,
          0,
          0,
          0,
          0,
          0,
          0,
          0,
          0,
          0,
          0,
          0,
          0,
          0,
          null,
          null,
          null,
          null,
          null,
          null,
          null,
          null,
          null,
          null,
          null,
          null,
          null,
          null,
          null,
          null
         ],
         "y": [
          0.831,
          0.5880000000000001,
          1.2280000000000002,
          0.16799999999999993,
          0.919,
          0.5760000000000001,
          1.354,
          0.2489999999999999,
          0.94,
          1.1910000000000003,
          0.4059999999999999,
          0.7650000000000001,
          1.4,
          1.0379999999999998,
          0.5169999999999999,
          0.17799999999999994,
          0.891,
          0,
          0,
          0,
          0,
          0,
          0,
          0,
          0,
          0,
          0,
          0,
          0,
          0,
          0,
          0,
          0,
          0,
          0.7290000000000001,
          0.972,
          0.3320000000000001,
          1.392,
          0.641,
          0.984,
          0.20599999999999996,
          1.3110000000000004,
          0.6200000000000001,
          0.369,
          1.1540000000000004,
          0.7949999999999999,
          0.16000000000000014,
          0.522,
          1.0430000000000001,
          1.3820000000000001,
          0.669,
          null,
          null,
          null,
          null,
          null,
          null,
          null,
          null,
          null,
          null,
          null,
          null,
          null,
          null,
          null,
          null
         ],
         "z": [
          0.024,
          0.266,
          0.287,
          0.385,
          0.429,
          0.63,
          0.677,
          0.713,
          0.773,
          0.981,
          1.154,
          1.197,
          1.263,
          1.388,
          1.493,
          1.519,
          1.692,
          0.024,
          0.266,
          0.287,
          0.385,
          0.429,
          0.63,
          0.677,
          0.713,
          0.773,
          0.981,
          1.154,
          1.197,
          1.263,
          1.388,
          1.493,
          1.519,
          1.692,
          0.024,
          0.266,
          0.287,
          0.385,
          0.429,
          0.63,
          0.677,
          0.713,
          0.773,
          0.981,
          1.154,
          1.197,
          1.263,
          1.388,
          1.493,
          1.519,
          1.692,
          1.74,
          1.74,
          1.74,
          1.74,
          1.74,
          1.74,
          1.74,
          1.74,
          1.74,
          1.74,
          1.74,
          1.74,
          1.74,
          null,
          null,
          null
         ]
        }
       ],
       "layout": {
        "legend": {
         "tracegroupgap": 0
        },
        "scene": {
         "domain": {
          "x": [
           0,
           1
          ],
          "y": [
           0,
           1
          ]
         },
         "xaxis": {
          "title": {
           "text": "X"
          }
         },
         "yaxis": {
          "title": {
           "text": "Y"
          }
         },
         "zaxis": {
          "title": {
           "text": "Z"
          }
         }
        },
        "template": {
         "data": {
          "bar": [
           {
            "error_x": {
             "color": "#2a3f5f"
            },
            "error_y": {
             "color": "#2a3f5f"
            },
            "marker": {
             "line": {
              "color": "#E5ECF6",
              "width": 0.5
             },
             "pattern": {
              "fillmode": "overlay",
              "size": 10,
              "solidity": 0.2
             }
            },
            "type": "bar"
           }
          ],
          "barpolar": [
           {
            "marker": {
             "line": {
              "color": "#E5ECF6",
              "width": 0.5
             },
             "pattern": {
              "fillmode": "overlay",
              "size": 10,
              "solidity": 0.2
             }
            },
            "type": "barpolar"
           }
          ],
          "carpet": [
           {
            "aaxis": {
             "endlinecolor": "#2a3f5f",
             "gridcolor": "white",
             "linecolor": "white",
             "minorgridcolor": "white",
             "startlinecolor": "#2a3f5f"
            },
            "baxis": {
             "endlinecolor": "#2a3f5f",
             "gridcolor": "white",
             "linecolor": "white",
             "minorgridcolor": "white",
             "startlinecolor": "#2a3f5f"
            },
            "type": "carpet"
           }
          ],
          "choropleth": [
           {
            "colorbar": {
             "outlinewidth": 0,
             "ticks": ""
            },
            "type": "choropleth"
           }
          ],
          "contour": [
           {
            "colorbar": {
             "outlinewidth": 0,
             "ticks": ""
            },
            "colorscale": [
             [
              0,
              "#0d0887"
             ],
             [
              0.1111111111111111,
              "#46039f"
             ],
             [
              0.2222222222222222,
              "#7201a8"
             ],
             [
              0.3333333333333333,
              "#9c179e"
             ],
             [
              0.4444444444444444,
              "#bd3786"
             ],
             [
              0.5555555555555556,
              "#d8576b"
             ],
             [
              0.6666666666666666,
              "#ed7953"
             ],
             [
              0.7777777777777778,
              "#fb9f3a"
             ],
             [
              0.8888888888888888,
              "#fdca26"
             ],
             [
              1,
              "#f0f921"
             ]
            ],
            "type": "contour"
           }
          ],
          "contourcarpet": [
           {
            "colorbar": {
             "outlinewidth": 0,
             "ticks": ""
            },
            "type": "contourcarpet"
           }
          ],
          "heatmap": [
           {
            "colorbar": {
             "outlinewidth": 0,
             "ticks": ""
            },
            "colorscale": [
             [
              0,
              "#0d0887"
             ],
             [
              0.1111111111111111,
              "#46039f"
             ],
             [
              0.2222222222222222,
              "#7201a8"
             ],
             [
              0.3333333333333333,
              "#9c179e"
             ],
             [
              0.4444444444444444,
              "#bd3786"
             ],
             [
              0.5555555555555556,
              "#d8576b"
             ],
             [
              0.6666666666666666,
              "#ed7953"
             ],
             [
              0.7777777777777778,
              "#fb9f3a"
             ],
             [
              0.8888888888888888,
              "#fdca26"
             ],
             [
              1,
              "#f0f921"
             ]
            ],
            "type": "heatmap"
           }
          ],
          "heatmapgl": [
           {
            "colorbar": {
             "outlinewidth": 0,
             "ticks": ""
            },
            "colorscale": [
             [
              0,
              "#0d0887"
             ],
             [
              0.1111111111111111,
              "#46039f"
             ],
             [
              0.2222222222222222,
              "#7201a8"
             ],
             [
              0.3333333333333333,
              "#9c179e"
             ],
             [
              0.4444444444444444,
              "#bd3786"
             ],
             [
              0.5555555555555556,
              "#d8576b"
             ],
             [
              0.6666666666666666,
              "#ed7953"
             ],
             [
              0.7777777777777778,
              "#fb9f3a"
             ],
             [
              0.8888888888888888,
              "#fdca26"
             ],
             [
              1,
              "#f0f921"
             ]
            ],
            "type": "heatmapgl"
           }
          ],
          "histogram": [
           {
            "marker": {
             "pattern": {
              "fillmode": "overlay",
              "size": 10,
              "solidity": 0.2
             }
            },
            "type": "histogram"
           }
          ],
          "histogram2d": [
           {
            "colorbar": {
             "outlinewidth": 0,
             "ticks": ""
            },
            "colorscale": [
             [
              0,
              "#0d0887"
             ],
             [
              0.1111111111111111,
              "#46039f"
             ],
             [
              0.2222222222222222,
              "#7201a8"
             ],
             [
              0.3333333333333333,
              "#9c179e"
             ],
             [
              0.4444444444444444,
              "#bd3786"
             ],
             [
              0.5555555555555556,
              "#d8576b"
             ],
             [
              0.6666666666666666,
              "#ed7953"
             ],
             [
              0.7777777777777778,
              "#fb9f3a"
             ],
             [
              0.8888888888888888,
              "#fdca26"
             ],
             [
              1,
              "#f0f921"
             ]
            ],
            "type": "histogram2d"
           }
          ],
          "histogram2dcontour": [
           {
            "colorbar": {
             "outlinewidth": 0,
             "ticks": ""
            },
            "colorscale": [
             [
              0,
              "#0d0887"
             ],
             [
              0.1111111111111111,
              "#46039f"
             ],
             [
              0.2222222222222222,
              "#7201a8"
             ],
             [
              0.3333333333333333,
              "#9c179e"
             ],
             [
              0.4444444444444444,
              "#bd3786"
             ],
             [
              0.5555555555555556,
              "#d8576b"
             ],
             [
              0.6666666666666666,
              "#ed7953"
             ],
             [
              0.7777777777777778,
              "#fb9f3a"
             ],
             [
              0.8888888888888888,
              "#fdca26"
             ],
             [
              1,
              "#f0f921"
             ]
            ],
            "type": "histogram2dcontour"
           }
          ],
          "mesh3d": [
           {
            "colorbar": {
             "outlinewidth": 0,
             "ticks": ""
            },
            "type": "mesh3d"
           }
          ],
          "parcoords": [
           {
            "line": {
             "colorbar": {
              "outlinewidth": 0,
              "ticks": ""
             }
            },
            "type": "parcoords"
           }
          ],
          "pie": [
           {
            "automargin": true,
            "type": "pie"
           }
          ],
          "scatter": [
           {
            "fillpattern": {
             "fillmode": "overlay",
             "size": 10,
             "solidity": 0.2
            },
            "type": "scatter"
           }
          ],
          "scatter3d": [
           {
            "line": {
             "colorbar": {
              "outlinewidth": 0,
              "ticks": ""
             }
            },
            "marker": {
             "colorbar": {
              "outlinewidth": 0,
              "ticks": ""
             }
            },
            "type": "scatter3d"
           }
          ],
          "scattercarpet": [
           {
            "marker": {
             "colorbar": {
              "outlinewidth": 0,
              "ticks": ""
             }
            },
            "type": "scattercarpet"
           }
          ],
          "scattergeo": [
           {
            "marker": {
             "colorbar": {
              "outlinewidth": 0,
              "ticks": ""
             }
            },
            "type": "scattergeo"
           }
          ],
          "scattergl": [
           {
            "marker": {
             "colorbar": {
              "outlinewidth": 0,
              "ticks": ""
             }
            },
            "type": "scattergl"
           }
          ],
          "scattermapbox": [
           {
            "marker": {
             "colorbar": {
              "outlinewidth": 0,
              "ticks": ""
             }
            },
            "type": "scattermapbox"
           }
          ],
          "scatterpolar": [
           {
            "marker": {
             "colorbar": {
              "outlinewidth": 0,
              "ticks": ""
             }
            },
            "type": "scatterpolar"
           }
          ],
          "scatterpolargl": [
           {
            "marker": {
             "colorbar": {
              "outlinewidth": 0,
              "ticks": ""
             }
            },
            "type": "scatterpolargl"
           }
          ],
          "scatterternary": [
           {
            "marker": {
             "colorbar": {
              "outlinewidth": 0,
              "ticks": ""
             }
            },
            "type": "scatterternary"
           }
          ],
          "surface": [
           {
            "colorbar": {
             "outlinewidth": 0,
             "ticks": ""
            },
            "colorscale": [
             [
              0,
              "#0d0887"
             ],
             [
              0.1111111111111111,
              "#46039f"
             ],
             [
              0.2222222222222222,
              "#7201a8"
             ],
             [
              0.3333333333333333,
              "#9c179e"
             ],
             [
              0.4444444444444444,
              "#bd3786"
             ],
             [
              0.5555555555555556,
              "#d8576b"
             ],
             [
              0.6666666666666666,
              "#ed7953"
             ],
             [
              0.7777777777777778,
              "#fb9f3a"
             ],
             [
              0.8888888888888888,
              "#fdca26"
             ],
             [
              1,
              "#f0f921"
             ]
            ],
            "type": "surface"
           }
          ],
          "table": [
           {
            "cells": {
             "fill": {
              "color": "#EBF0F8"
             },
             "line": {
              "color": "white"
             }
            },
            "header": {
             "fill": {
              "color": "#C8D4E3"
             },
             "line": {
              "color": "white"
             }
            },
            "type": "table"
           }
          ]
         },
         "layout": {
          "annotationdefaults": {
           "arrowcolor": "#2a3f5f",
           "arrowhead": 0,
           "arrowwidth": 1
          },
          "autotypenumbers": "strict",
          "coloraxis": {
           "colorbar": {
            "outlinewidth": 0,
            "ticks": ""
           }
          },
          "colorscale": {
           "diverging": [
            [
             0,
             "#8e0152"
            ],
            [
             0.1,
             "#c51b7d"
            ],
            [
             0.2,
             "#de77ae"
            ],
            [
             0.3,
             "#f1b6da"
            ],
            [
             0.4,
             "#fde0ef"
            ],
            [
             0.5,
             "#f7f7f7"
            ],
            [
             0.6,
             "#e6f5d0"
            ],
            [
             0.7,
             "#b8e186"
            ],
            [
             0.8,
             "#7fbc41"
            ],
            [
             0.9,
             "#4d9221"
            ],
            [
             1,
             "#276419"
            ]
           ],
           "sequential": [
            [
             0,
             "#0d0887"
            ],
            [
             0.1111111111111111,
             "#46039f"
            ],
            [
             0.2222222222222222,
             "#7201a8"
            ],
            [
             0.3333333333333333,
             "#9c179e"
            ],
            [
             0.4444444444444444,
             "#bd3786"
            ],
            [
             0.5555555555555556,
             "#d8576b"
            ],
            [
             0.6666666666666666,
             "#ed7953"
            ],
            [
             0.7777777777777778,
             "#fb9f3a"
            ],
            [
             0.8888888888888888,
             "#fdca26"
            ],
            [
             1,
             "#f0f921"
            ]
           ],
           "sequentialminus": [
            [
             0,
             "#0d0887"
            ],
            [
             0.1111111111111111,
             "#46039f"
            ],
            [
             0.2222222222222222,
             "#7201a8"
            ],
            [
             0.3333333333333333,
             "#9c179e"
            ],
            [
             0.4444444444444444,
             "#bd3786"
            ],
            [
             0.5555555555555556,
             "#d8576b"
            ],
            [
             0.6666666666666666,
             "#ed7953"
            ],
            [
             0.7777777777777778,
             "#fb9f3a"
            ],
            [
             0.8888888888888888,
             "#fdca26"
            ],
            [
             1,
             "#f0f921"
            ]
           ]
          },
          "colorway": [
           "#636efa",
           "#EF553B",
           "#00cc96",
           "#ab63fa",
           "#FFA15A",
           "#19d3f3",
           "#FF6692",
           "#B6E880",
           "#FF97FF",
           "#FECB52"
          ],
          "font": {
           "color": "#2a3f5f"
          },
          "geo": {
           "bgcolor": "white",
           "lakecolor": "white",
           "landcolor": "#E5ECF6",
           "showlakes": true,
           "showland": true,
           "subunitcolor": "white"
          },
          "hoverlabel": {
           "align": "left"
          },
          "hovermode": "closest",
          "mapbox": {
           "style": "light"
          },
          "paper_bgcolor": "white",
          "plot_bgcolor": "#E5ECF6",
          "polar": {
           "angularaxis": {
            "gridcolor": "white",
            "linecolor": "white",
            "ticks": ""
           },
           "bgcolor": "#E5ECF6",
           "radialaxis": {
            "gridcolor": "white",
            "linecolor": "white",
            "ticks": ""
           }
          },
          "scene": {
           "xaxis": {
            "backgroundcolor": "#E5ECF6",
            "gridcolor": "white",
            "gridwidth": 2,
            "linecolor": "white",
            "showbackground": true,
            "ticks": "",
            "zerolinecolor": "white"
           },
           "yaxis": {
            "backgroundcolor": "#E5ECF6",
            "gridcolor": "white",
            "gridwidth": 2,
            "linecolor": "white",
            "showbackground": true,
            "ticks": "",
            "zerolinecolor": "white"
           },
           "zaxis": {
            "backgroundcolor": "#E5ECF6",
            "gridcolor": "white",
            "gridwidth": 2,
            "linecolor": "white",
            "showbackground": true,
            "ticks": "",
            "zerolinecolor": "white"
           }
          },
          "shapedefaults": {
           "line": {
            "color": "#2a3f5f"
           }
          },
          "ternary": {
           "aaxis": {
            "gridcolor": "white",
            "linecolor": "white",
            "ticks": ""
           },
           "baxis": {
            "gridcolor": "white",
            "linecolor": "white",
            "ticks": ""
           },
           "bgcolor": "#E5ECF6",
           "caxis": {
            "gridcolor": "white",
            "linecolor": "white",
            "ticks": ""
           }
          },
          "title": {
           "x": 0.05
          },
          "xaxis": {
           "automargin": true,
           "gridcolor": "white",
           "linecolor": "white",
           "ticks": "",
           "title": {
            "standoff": 15
           },
           "zerolinecolor": "white",
           "zerolinewidth": 2
          },
          "yaxis": {
           "automargin": true,
           "gridcolor": "white",
           "linecolor": "white",
           "ticks": "",
           "title": {
            "standoff": 15
           },
           "zerolinecolor": "white",
           "zerolinewidth": 2
          }
         }
        },
        "title": {
         "text": "3D Scatter Plot"
        }
       }
      }
     },
     "metadata": {},
     "output_type": "display_data"
    }
   ],
   "source": [
    "# fancy interactiver plot \n",
    "# damit kann man die namen der mikrofone sehr gut sehen\n",
    "\n",
    "\n",
    "import plotly.express as px\n",
    "\n",
    "fig = px.scatter_3d(new_df, x='X', y='Y', z='Z', text='Mic_Index', title='3D Scatter Plot')\n",
    "\n",
    "# Plot anzeigen\n",
    "fig.show()"
   ]
  }
 ],
 "metadata": {
  "kernelspec": {
   "display_name": "AsSSASoSe23",
   "language": "python",
   "name": "python3"
  },
  "language_info": {
   "codemirror_mode": {
    "name": "ipython",
    "version": 3
   },
   "file_extension": ".py",
   "mimetype": "text/x-python",
   "name": "python",
   "nbconvert_exporter": "python",
   "pygments_lexer": "ipython3",
   "version": "3.9.16"
  }
 },
 "nbformat": 4,
 "nbformat_minor": 2
}
